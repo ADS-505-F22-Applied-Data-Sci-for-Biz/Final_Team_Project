{
 "cells": [
  {
   "cell_type": "markdown",
   "metadata": {
    "colab_type": "text",
    "id": "view-in-github"
   },
   "source": [
    "<a href=\"https://colab.research.google.com/github/ADS-505-F22-Applied-Data-Sci-for-Biz/Final_Team_Project/blob/main/Team_Project_v1.0.ipynb\" target=\"_parent\"><img src=\"https://colab.research.google.com/assets/colab-badge.svg\" alt=\"Open In Colab\"/></a>"
   ]
  },
  {
   "cell_type": "markdown",
   "metadata": {
    "id": "1sYOCSl1U3jn"
   },
   "source": [
    "# Team Project"
   ]
  },
  {
   "cell_type": "markdown",
   "metadata": {},
   "source": [
    "## Set Up and Pre-Processing"
   ]
  },
  {
   "cell_type": "markdown",
   "metadata": {},
   "source": [
    "### Libraries"
   ]
  },
  {
   "cell_type": "code",
   "execution_count": 1,
   "metadata": {
    "colab": {
     "base_uri": "https://localhost:8080/",
     "height": 632
    },
    "id": "6Ib6DZvkVwQq",
    "outputId": "008c4d11-59d4-4254-eaca-21e4337d9f06"
   },
   "outputs": [
    {
     "name": "stdout",
     "output_type": "stream",
     "text": [
      "\u001b[33mWARNING: Ignoring invalid distribution -atplotlib (/Users/halledavis/opt/anaconda3/lib/python3.9/site-packages)\u001b[0m\n",
      "\u001b[33mWARNING: Ignoring invalid distribution -atplotlib (/Users/halledavis/opt/anaconda3/lib/python3.9/site-packages)\u001b[0m\n",
      "Requirement already satisfied: dmba in /Users/halledavis/opt/anaconda3/lib/python3.9/site-packages (0.1.0)\n",
      "\u001b[33mWARNING: Ignoring invalid distribution -atplotlib (/Users/halledavis/opt/anaconda3/lib/python3.9/site-packages)\u001b[0m\n",
      "\u001b[33mWARNING: Ignoring invalid distribution -atplotlib (/Users/halledavis/opt/anaconda3/lib/python3.9/site-packages)\u001b[0m\n",
      "\u001b[33mWARNING: Ignoring invalid distribution -atplotlib (/Users/halledavis/opt/anaconda3/lib/python3.9/site-packages)\u001b[0m\n",
      "\u001b[33mWARNING: Ignoring invalid distribution -atplotlib (/Users/halledavis/opt/anaconda3/lib/python3.9/site-packages)\u001b[0m\n",
      "\u001b[33mWARNING: Ignoring invalid distribution -atplotlib (/Users/halledavis/opt/anaconda3/lib/python3.9/site-packages)\u001b[0m\n",
      "\u001b[33mWARNING: Ignoring invalid distribution -atplotlib (/Users/halledavis/opt/anaconda3/lib/python3.9/site-packages)\u001b[0m\n",
      "Collecting matplotlib==3.1.3\n",
      "  Using cached matplotlib-3.1.3.tar.gz (40.9 MB)\n",
      "Requirement already satisfied: cycler>=0.10 in /Users/halledavis/opt/anaconda3/lib/python3.9/site-packages (from matplotlib==3.1.3) (0.10.0)\n",
      "Requirement already satisfied: kiwisolver>=1.0.1 in /Users/halledavis/opt/anaconda3/lib/python3.9/site-packages (from matplotlib==3.1.3) (1.3.1)\n",
      "Requirement already satisfied: pyparsing!=2.0.4,!=2.1.2,!=2.1.6,>=2.0.1 in /Users/halledavis/opt/anaconda3/lib/python3.9/site-packages (from matplotlib==3.1.3) (3.0.4)\n",
      "Requirement already satisfied: python-dateutil>=2.1 in /Users/halledavis/opt/anaconda3/lib/python3.9/site-packages (from matplotlib==3.1.3) (2.8.2)\n",
      "Requirement already satisfied: numpy>=1.11 in /Users/halledavis/opt/anaconda3/lib/python3.9/site-packages (from matplotlib==3.1.3) (1.20.3)\n",
      "Requirement already satisfied: six in /Users/halledavis/opt/anaconda3/lib/python3.9/site-packages (from cycler>=0.10->matplotlib==3.1.3) (1.16.0)\n",
      "Building wheels for collected packages: matplotlib\n",
      "  Building wheel for matplotlib (setup.py) ... \u001b[?25lerror\n",
      "\u001b[31m  ERROR: Command errored out with exit status 1:\n",
      "   command: /Users/halledavis/opt/anaconda3/bin/python -u -c 'import io, os, sys, setuptools, tokenize; sys.argv[0] = '\"'\"'/private/var/folders/4w/bl1whnz1491dljnl9k34l06h0000gn/T/pip-install-_7untfwz/matplotlib_1fc36d72c1804301b01eba39e7a25808/setup.py'\"'\"'; __file__='\"'\"'/private/var/folders/4w/bl1whnz1491dljnl9k34l06h0000gn/T/pip-install-_7untfwz/matplotlib_1fc36d72c1804301b01eba39e7a25808/setup.py'\"'\"';f = getattr(tokenize, '\"'\"'open'\"'\"', open)(__file__) if os.path.exists(__file__) else io.StringIO('\"'\"'from setuptools import setup; setup()'\"'\"');code = f.read().replace('\"'\"'\\r\\n'\"'\"', '\"'\"'\\n'\"'\"');f.close();exec(compile(code, __file__, '\"'\"'exec'\"'\"'))' bdist_wheel -d /private/var/folders/4w/bl1whnz1491dljnl9k34l06h0000gn/T/pip-wheel-m2ed2kno\n",
      "       cwd: /private/var/folders/4w/bl1whnz1491dljnl9k34l06h0000gn/T/pip-install-_7untfwz/matplotlib_1fc36d72c1804301b01eba39e7a25808/\n",
      "  Complete output (624 lines):\n",
      "  ================================================================================\n",
      "  Edit setup.cfg to change the build options\n",
      "  \n",
      "  BUILDING MATPLOTLIB\n",
      "    matplotlib: yes [3.1.3]\n",
      "        python: yes [3.9.7 (default, Sep 16 2021, 08:50:36)  [Clang 10.0.0 ]]\n",
      "      platform: yes [darwin]\n",
      "  \n",
      "  OPTIONAL SUBPACKAGES\n",
      "   sample_data: yes [installing]\n",
      "         tests: no  [skipping due to configuration]\n",
      "  \n",
      "  OPTIONAL BACKEND EXTENSIONS\n",
      "           agg: yes [installing]\n",
      "         tkagg: yes [installing; run-time loading from Python Tcl/Tk]\n",
      "        macosx: yes [installing, darwin]\n",
      "  \n",
      "  OPTIONAL PACKAGE DATA\n",
      "          dlls: no  [skipping due to configuration]\n",
      "  \n",
      "  running bdist_wheel\n",
      "  running build\n",
      "  running build_py\n",
      "  creating build\n",
      "  creating build/lib.macosx-10.9-x86_64-3.9\n",
      "  copying lib/pylab.py -> build/lib.macosx-10.9-x86_64-3.9\n",
      "  creating build/lib.macosx-10.9-x86_64-3.9/mpl_toolkits\n",
      "  copying lib/mpl_toolkits/__init__.py -> build/lib.macosx-10.9-x86_64-3.9/mpl_toolkits\n",
      "  creating build/lib.macosx-10.9-x86_64-3.9/matplotlib\n",
      "  copying lib/matplotlib/hatch.py -> build/lib.macosx-10.9-x86_64-3.9/matplotlib\n",
      "  copying lib/matplotlib/transforms.py -> build/lib.macosx-10.9-x86_64-3.9/matplotlib\n",
      "  copying lib/matplotlib/legend_handler.py -> build/lib.macosx-10.9-x86_64-3.9/matplotlib\n",
      "  copying lib/matplotlib/axis.py -> build/lib.macosx-10.9-x86_64-3.9/matplotlib\n",
      "  copying lib/matplotlib/textpath.py -> build/lib.macosx-10.9-x86_64-3.9/matplotlib\n",
      "  copying lib/matplotlib/quiver.py -> build/lib.macosx-10.9-x86_64-3.9/matplotlib\n",
      "  copying lib/matplotlib/backend_bases.py -> build/lib.macosx-10.9-x86_64-3.9/matplotlib\n",
      "  copying lib/matplotlib/units.py -> build/lib.macosx-10.9-x86_64-3.9/matplotlib\n",
      "  copying lib/matplotlib/pylab.py -> build/lib.macosx-10.9-x86_64-3.9/matplotlib\n",
      "  copying lib/matplotlib/colorbar.py -> build/lib.macosx-10.9-x86_64-3.9/matplotlib\n",
      "  copying lib/matplotlib/_version.py -> build/lib.macosx-10.9-x86_64-3.9/matplotlib\n",
      "  copying lib/matplotlib/_cm.py -> build/lib.macosx-10.9-x86_64-3.9/matplotlib\n",
      "  copying lib/matplotlib/backend_managers.py -> build/lib.macosx-10.9-x86_64-3.9/matplotlib\n",
      "  copying lib/matplotlib/mathtext.py -> build/lib.macosx-10.9-x86_64-3.9/matplotlib\n",
      "  copying lib/matplotlib/font_manager.py -> build/lib.macosx-10.9-x86_64-3.9/matplotlib\n",
      "  copying lib/matplotlib/bezier.py -> build/lib.macosx-10.9-x86_64-3.9/matplotlib\n",
      "  copying lib/matplotlib/cm.py -> build/lib.macosx-10.9-x86_64-3.9/matplotlib\n",
      "  copying lib/matplotlib/legend.py -> build/lib.macosx-10.9-x86_64-3.9/matplotlib\n",
      "  copying lib/matplotlib/figure.py -> build/lib.macosx-10.9-x86_64-3.9/matplotlib\n",
      "  copying lib/matplotlib/__init__.py -> build/lib.macosx-10.9-x86_64-3.9/matplotlib\n",
      "  copying lib/matplotlib/offsetbox.py -> build/lib.macosx-10.9-x86_64-3.9/matplotlib\n",
      "  copying lib/matplotlib/tight_bbox.py -> build/lib.macosx-10.9-x86_64-3.9/matplotlib\n",
      "  copying lib/matplotlib/container.py -> build/lib.macosx-10.9-x86_64-3.9/matplotlib\n",
      "  copying lib/matplotlib/gridspec.py -> build/lib.macosx-10.9-x86_64-3.9/matplotlib\n",
      "  copying lib/matplotlib/lines.py -> build/lib.macosx-10.9-x86_64-3.9/matplotlib\n",
      "  copying lib/matplotlib/widgets.py -> build/lib.macosx-10.9-x86_64-3.9/matplotlib\n",
      "  copying lib/matplotlib/blocking_input.py -> build/lib.macosx-10.9-x86_64-3.9/matplotlib\n",
      "  copying lib/matplotlib/dviread.py -> build/lib.macosx-10.9-x86_64-3.9/matplotlib\n",
      "  copying lib/matplotlib/animation.py -> build/lib.macosx-10.9-x86_64-3.9/matplotlib\n",
      "  copying lib/matplotlib/type1font.py -> build/lib.macosx-10.9-x86_64-3.9/matplotlib\n",
      "  copying lib/matplotlib/_mathtext_data.py -> build/lib.macosx-10.9-x86_64-3.9/matplotlib\n",
      "  copying lib/matplotlib/artist.py -> build/lib.macosx-10.9-x86_64-3.9/matplotlib\n",
      "  copying lib/matplotlib/backend_tools.py -> build/lib.macosx-10.9-x86_64-3.9/matplotlib\n",
      "  copying lib/matplotlib/docstring.py -> build/lib.macosx-10.9-x86_64-3.9/matplotlib\n",
      "  copying lib/matplotlib/_color_data.py -> build/lib.macosx-10.9-x86_64-3.9/matplotlib\n",
      "  copying lib/matplotlib/texmanager.py -> build/lib.macosx-10.9-x86_64-3.9/matplotlib\n",
      "  copying lib/matplotlib/afm.py -> build/lib.macosx-10.9-x86_64-3.9/matplotlib\n",
      "  copying lib/matplotlib/patches.py -> build/lib.macosx-10.9-x86_64-3.9/matplotlib\n",
      "  copying lib/matplotlib/stackplot.py -> build/lib.macosx-10.9-x86_64-3.9/matplotlib\n",
      "  copying lib/matplotlib/collections.py -> build/lib.macosx-10.9-x86_64-3.9/matplotlib\n",
      "  copying lib/matplotlib/spines.py -> build/lib.macosx-10.9-x86_64-3.9/matplotlib\n",
      "  copying lib/matplotlib/text.py -> build/lib.macosx-10.9-x86_64-3.9/matplotlib\n",
      "  copying lib/matplotlib/markers.py -> build/lib.macosx-10.9-x86_64-3.9/matplotlib\n",
      "  copying lib/matplotlib/mlab.py -> build/lib.macosx-10.9-x86_64-3.9/matplotlib\n",
      "  copying lib/matplotlib/fontconfig_pattern.py -> build/lib.macosx-10.9-x86_64-3.9/matplotlib\n",
      "  copying lib/matplotlib/_pylab_helpers.py -> build/lib.macosx-10.9-x86_64-3.9/matplotlib\n",
      "  copying lib/matplotlib/tight_layout.py -> build/lib.macosx-10.9-x86_64-3.9/matplotlib\n",
      "  copying lib/matplotlib/_cm_listed.py -> build/lib.macosx-10.9-x86_64-3.9/matplotlib\n",
      "  copying lib/matplotlib/dates.py -> build/lib.macosx-10.9-x86_64-3.9/matplotlib\n",
      "  copying lib/matplotlib/table.py -> build/lib.macosx-10.9-x86_64-3.9/matplotlib\n",
      "  copying lib/matplotlib/_animation_data.py -> build/lib.macosx-10.9-x86_64-3.9/matplotlib\n",
      "  copying lib/matplotlib/pyplot.py -> build/lib.macosx-10.9-x86_64-3.9/matplotlib\n",
      "  copying lib/matplotlib/rcsetup.py -> build/lib.macosx-10.9-x86_64-3.9/matplotlib\n",
      "  copying lib/matplotlib/ticker.py -> build/lib.macosx-10.9-x86_64-3.9/matplotlib\n",
      "  copying lib/matplotlib/path.py -> build/lib.macosx-10.9-x86_64-3.9/matplotlib\n",
      "  copying lib/matplotlib/contour.py -> build/lib.macosx-10.9-x86_64-3.9/matplotlib\n",
      "  copying lib/matplotlib/_layoutbox.py -> build/lib.macosx-10.9-x86_64-3.9/matplotlib\n",
      "  copying lib/matplotlib/image.py -> build/lib.macosx-10.9-x86_64-3.9/matplotlib\n",
      "  copying lib/matplotlib/scale.py -> build/lib.macosx-10.9-x86_64-3.9/matplotlib\n",
      "  copying lib/matplotlib/category.py -> build/lib.macosx-10.9-x86_64-3.9/matplotlib\n",
      "  copying lib/matplotlib/_constrained_layout.py -> build/lib.macosx-10.9-x86_64-3.9/matplotlib\n",
      "  copying lib/matplotlib/sankey.py -> build/lib.macosx-10.9-x86_64-3.9/matplotlib\n",
      "  copying lib/matplotlib/patheffects.py -> build/lib.macosx-10.9-x86_64-3.9/matplotlib\n",
      "  copying lib/matplotlib/streamplot.py -> build/lib.macosx-10.9-x86_64-3.9/matplotlib\n",
      "  copying lib/matplotlib/colors.py -> build/lib.macosx-10.9-x86_64-3.9/matplotlib\n",
      "  creating build/lib.macosx-10.9-x86_64-3.9/mpl_toolkits/axes_grid1\n",
      "  copying lib/mpl_toolkits/axes_grid1/inset_locator.py -> build/lib.macosx-10.9-x86_64-3.9/mpl_toolkits/axes_grid1\n",
      "  copying lib/mpl_toolkits/axes_grid1/axes_grid.py -> build/lib.macosx-10.9-x86_64-3.9/mpl_toolkits/axes_grid1\n",
      "  copying lib/mpl_toolkits/axes_grid1/parasite_axes.py -> build/lib.macosx-10.9-x86_64-3.9/mpl_toolkits/axes_grid1\n",
      "  copying lib/mpl_toolkits/axes_grid1/colorbar.py -> build/lib.macosx-10.9-x86_64-3.9/mpl_toolkits/axes_grid1\n",
      "  copying lib/mpl_toolkits/axes_grid1/anchored_artists.py -> build/lib.macosx-10.9-x86_64-3.9/mpl_toolkits/axes_grid1\n",
      "  copying lib/mpl_toolkits/axes_grid1/__init__.py -> build/lib.macosx-10.9-x86_64-3.9/mpl_toolkits/axes_grid1\n",
      "  copying lib/mpl_toolkits/axes_grid1/axes_size.py -> build/lib.macosx-10.9-x86_64-3.9/mpl_toolkits/axes_grid1\n",
      "  copying lib/mpl_toolkits/axes_grid1/mpl_axes.py -> build/lib.macosx-10.9-x86_64-3.9/mpl_toolkits/axes_grid1\n",
      "  copying lib/mpl_toolkits/axes_grid1/axes_rgb.py -> build/lib.macosx-10.9-x86_64-3.9/mpl_toolkits/axes_grid1\n",
      "  copying lib/mpl_toolkits/axes_grid1/axes_divider.py -> build/lib.macosx-10.9-x86_64-3.9/mpl_toolkits/axes_grid1\n",
      "  creating build/lib.macosx-10.9-x86_64-3.9/mpl_toolkits/axes_grid\n",
      "  copying lib/mpl_toolkits/axes_grid/inset_locator.py -> build/lib.macosx-10.9-x86_64-3.9/mpl_toolkits/axes_grid\n",
      "  copying lib/mpl_toolkits/axes_grid/axislines.py -> build/lib.macosx-10.9-x86_64-3.9/mpl_toolkits/axes_grid\n",
      "  copying lib/mpl_toolkits/axes_grid/axes_grid.py -> build/lib.macosx-10.9-x86_64-3.9/mpl_toolkits/axes_grid\n",
      "  copying lib/mpl_toolkits/axes_grid/grid_finder.py -> build/lib.macosx-10.9-x86_64-3.9/mpl_toolkits/axes_grid\n",
      "  copying lib/mpl_toolkits/axes_grid/parasite_axes.py -> build/lib.macosx-10.9-x86_64-3.9/mpl_toolkits/axes_grid\n",
      "  copying lib/mpl_toolkits/axes_grid/colorbar.py -> build/lib.macosx-10.9-x86_64-3.9/mpl_toolkits/axes_grid\n",
      "  copying lib/mpl_toolkits/axes_grid/anchored_artists.py -> build/lib.macosx-10.9-x86_64-3.9/mpl_toolkits/axes_grid\n",
      "  copying lib/mpl_toolkits/axes_grid/axis_artist.py -> build/lib.macosx-10.9-x86_64-3.9/mpl_toolkits/axes_grid\n",
      "  copying lib/mpl_toolkits/axes_grid/axisline_style.py -> build/lib.macosx-10.9-x86_64-3.9/mpl_toolkits/axes_grid\n",
      "  copying lib/mpl_toolkits/axes_grid/__init__.py -> build/lib.macosx-10.9-x86_64-3.9/mpl_toolkits/axes_grid\n",
      "  copying lib/mpl_toolkits/axes_grid/axes_size.py -> build/lib.macosx-10.9-x86_64-3.9/mpl_toolkits/axes_grid\n",
      "  copying lib/mpl_toolkits/axes_grid/angle_helper.py -> build/lib.macosx-10.9-x86_64-3.9/mpl_toolkits/axes_grid\n",
      "  copying lib/mpl_toolkits/axes_grid/grid_helper_curvelinear.py -> build/lib.macosx-10.9-x86_64-3.9/mpl_toolkits/axes_grid\n",
      "  copying lib/mpl_toolkits/axes_grid/clip_path.py -> build/lib.macosx-10.9-x86_64-3.9/mpl_toolkits/axes_grid\n",
      "  copying lib/mpl_toolkits/axes_grid/floating_axes.py -> build/lib.macosx-10.9-x86_64-3.9/mpl_toolkits/axes_grid\n",
      "  copying lib/mpl_toolkits/axes_grid/axes_rgb.py -> build/lib.macosx-10.9-x86_64-3.9/mpl_toolkits/axes_grid\n",
      "  copying lib/mpl_toolkits/axes_grid/axes_divider.py -> build/lib.macosx-10.9-x86_64-3.9/mpl_toolkits/axes_grid\n",
      "  creating build/lib.macosx-10.9-x86_64-3.9/mpl_toolkits/mplot3d\n",
      "  copying lib/mpl_toolkits/mplot3d/proj3d.py -> build/lib.macosx-10.9-x86_64-3.9/mpl_toolkits/mplot3d\n",
      "  copying lib/mpl_toolkits/mplot3d/__init__.py -> build/lib.macosx-10.9-x86_64-3.9/mpl_toolkits/mplot3d\n",
      "  copying lib/mpl_toolkits/mplot3d/axes3d.py -> build/lib.macosx-10.9-x86_64-3.9/mpl_toolkits/mplot3d\n",
      "  copying lib/mpl_toolkits/mplot3d/axis3d.py -> build/lib.macosx-10.9-x86_64-3.9/mpl_toolkits/mplot3d\n",
      "  copying lib/mpl_toolkits/mplot3d/art3d.py -> build/lib.macosx-10.9-x86_64-3.9/mpl_toolkits/mplot3d\n",
      "  creating build/lib.macosx-10.9-x86_64-3.9/mpl_toolkits/axisartist\n",
      "  copying lib/mpl_toolkits/axisartist/axislines.py -> build/lib.macosx-10.9-x86_64-3.9/mpl_toolkits/axisartist\n",
      "  copying lib/mpl_toolkits/axisartist/axes_grid.py -> build/lib.macosx-10.9-x86_64-3.9/mpl_toolkits/axisartist\n",
      "  copying lib/mpl_toolkits/axisartist/grid_finder.py -> build/lib.macosx-10.9-x86_64-3.9/mpl_toolkits/axisartist\n",
      "  copying lib/mpl_toolkits/axisartist/parasite_axes.py -> build/lib.macosx-10.9-x86_64-3.9/mpl_toolkits/axisartist\n",
      "  copying lib/mpl_toolkits/axisartist/axis_artist.py -> build/lib.macosx-10.9-x86_64-3.9/mpl_toolkits/axisartist\n",
      "  copying lib/mpl_toolkits/axisartist/axisline_style.py -> build/lib.macosx-10.9-x86_64-3.9/mpl_toolkits/axisartist\n",
      "  copying lib/mpl_toolkits/axisartist/__init__.py -> build/lib.macosx-10.9-x86_64-3.9/mpl_toolkits/axisartist\n",
      "  copying lib/mpl_toolkits/axisartist/angle_helper.py -> build/lib.macosx-10.9-x86_64-3.9/mpl_toolkits/axisartist\n",
      "  copying lib/mpl_toolkits/axisartist/grid_helper_curvelinear.py -> build/lib.macosx-10.9-x86_64-3.9/mpl_toolkits/axisartist\n",
      "  copying lib/mpl_toolkits/axisartist/clip_path.py -> build/lib.macosx-10.9-x86_64-3.9/mpl_toolkits/axisartist\n",
      "  copying lib/mpl_toolkits/axisartist/floating_axes.py -> build/lib.macosx-10.9-x86_64-3.9/mpl_toolkits/axisartist\n",
      "  copying lib/mpl_toolkits/axisartist/axes_rgb.py -> build/lib.macosx-10.9-x86_64-3.9/mpl_toolkits/axisartist\n",
      "  copying lib/mpl_toolkits/axisartist/axes_divider.py -> build/lib.macosx-10.9-x86_64-3.9/mpl_toolkits/axisartist\n",
      "  creating build/lib.macosx-10.9-x86_64-3.9/matplotlib/compat\n",
      "  copying lib/matplotlib/compat/subprocess.py -> build/lib.macosx-10.9-x86_64-3.9/matplotlib/compat\n",
      "  copying lib/matplotlib/compat/__init__.py -> build/lib.macosx-10.9-x86_64-3.9/matplotlib/compat\n",
      "  creating build/lib.macosx-10.9-x86_64-3.9/matplotlib/tri\n",
      "  copying lib/matplotlib/tri/trirefine.py -> build/lib.macosx-10.9-x86_64-3.9/matplotlib/tri\n",
      "  copying lib/matplotlib/tri/tripcolor.py -> build/lib.macosx-10.9-x86_64-3.9/matplotlib/tri\n",
      "  copying lib/matplotlib/tri/trifinder.py -> build/lib.macosx-10.9-x86_64-3.9/matplotlib/tri\n",
      "  copying lib/matplotlib/tri/__init__.py -> build/lib.macosx-10.9-x86_64-3.9/matplotlib/tri\n",
      "  copying lib/matplotlib/tri/triplot.py -> build/lib.macosx-10.9-x86_64-3.9/matplotlib/tri\n",
      "  copying lib/matplotlib/tri/tritools.py -> build/lib.macosx-10.9-x86_64-3.9/matplotlib/tri\n",
      "  copying lib/matplotlib/tri/tricontour.py -> build/lib.macosx-10.9-x86_64-3.9/matplotlib/tri\n",
      "  copying lib/matplotlib/tri/triangulation.py -> build/lib.macosx-10.9-x86_64-3.9/matplotlib/tri\n",
      "  copying lib/matplotlib/tri/triinterpolate.py -> build/lib.macosx-10.9-x86_64-3.9/matplotlib/tri\n",
      "  creating build/lib.macosx-10.9-x86_64-3.9/matplotlib/axes\n",
      "  copying lib/matplotlib/axes/_axes.py -> build/lib.macosx-10.9-x86_64-3.9/matplotlib/axes\n",
      "  copying lib/matplotlib/axes/_base.py -> build/lib.macosx-10.9-x86_64-3.9/matplotlib/axes\n",
      "  copying lib/matplotlib/axes/_subplots.py -> build/lib.macosx-10.9-x86_64-3.9/matplotlib/axes\n",
      "  copying lib/matplotlib/axes/__init__.py -> build/lib.macosx-10.9-x86_64-3.9/matplotlib/axes\n",
      "  copying lib/matplotlib/axes/_secondary_axes.py -> build/lib.macosx-10.9-x86_64-3.9/matplotlib/axes\n",
      "  creating build/lib.macosx-10.9-x86_64-3.9/matplotlib/sphinxext\n",
      "  copying lib/matplotlib/sphinxext/__init__.py -> build/lib.macosx-10.9-x86_64-3.9/matplotlib/sphinxext\n",
      "  copying lib/matplotlib/sphinxext/mathmpl.py -> build/lib.macosx-10.9-x86_64-3.9/matplotlib/sphinxext\n",
      "  copying lib/matplotlib/sphinxext/plot_directive.py -> build/lib.macosx-10.9-x86_64-3.9/matplotlib/sphinxext\n",
      "  creating build/lib.macosx-10.9-x86_64-3.9/matplotlib/cbook\n",
      "  copying lib/matplotlib/cbook/deprecation.py -> build/lib.macosx-10.9-x86_64-3.9/matplotlib/cbook\n",
      "  copying lib/matplotlib/cbook/__init__.py -> build/lib.macosx-10.9-x86_64-3.9/matplotlib/cbook\n",
      "  creating build/lib.macosx-10.9-x86_64-3.9/matplotlib/backends\n",
      "  copying lib/matplotlib/backends/backend_template.py -> build/lib.macosx-10.9-x86_64-3.9/matplotlib/backends\n",
      "  copying lib/matplotlib/backends/backend_qt4agg.py -> build/lib.macosx-10.9-x86_64-3.9/matplotlib/backends\n",
      "  copying lib/matplotlib/backends/backend_gtk3cairo.py -> build/lib.macosx-10.9-x86_64-3.9/matplotlib/backends\n",
      "  copying lib/matplotlib/backends/backend_tkagg.py -> build/lib.macosx-10.9-x86_64-3.9/matplotlib/backends\n",
      "  copying lib/matplotlib/backends/wx_compat.py -> build/lib.macosx-10.9-x86_64-3.9/matplotlib/backends\n",
      "  copying lib/matplotlib/backends/backend_qt5agg.py -> build/lib.macosx-10.9-x86_64-3.9/matplotlib/backends\n",
      "  copying lib/matplotlib/backends/backend_qt5.py -> build/lib.macosx-10.9-x86_64-3.9/matplotlib/backends\n",
      "  copying lib/matplotlib/backends/backend_gtk3agg.py -> build/lib.macosx-10.9-x86_64-3.9/matplotlib/backends\n",
      "  copying lib/matplotlib/backends/backend_cairo.py -> build/lib.macosx-10.9-x86_64-3.9/matplotlib/backends\n",
      "  copying lib/matplotlib/backends/backend_pdf.py -> build/lib.macosx-10.9-x86_64-3.9/matplotlib/backends\n",
      "  copying lib/matplotlib/backends/backend_wxagg.py -> build/lib.macosx-10.9-x86_64-3.9/matplotlib/backends\n",
      "  copying lib/matplotlib/backends/backend_pgf.py -> build/lib.macosx-10.9-x86_64-3.9/matplotlib/backends\n",
      "  copying lib/matplotlib/backends/backend_mixed.py -> build/lib.macosx-10.9-x86_64-3.9/matplotlib/backends\n",
      "  copying lib/matplotlib/backends/backend_macosx.py -> build/lib.macosx-10.9-x86_64-3.9/matplotlib/backends\n",
      "  copying lib/matplotlib/backends/windowing.py -> build/lib.macosx-10.9-x86_64-3.9/matplotlib/backends\n",
      "  copying lib/matplotlib/backends/__init__.py -> build/lib.macosx-10.9-x86_64-3.9/matplotlib/backends\n",
      "  copying lib/matplotlib/backends/backend_qt4.py -> build/lib.macosx-10.9-x86_64-3.9/matplotlib/backends\n",
      "  copying lib/matplotlib/backends/backend_tkcairo.py -> build/lib.macosx-10.9-x86_64-3.9/matplotlib/backends\n",
      "  copying lib/matplotlib/backends/backend_qt4cairo.py -> build/lib.macosx-10.9-x86_64-3.9/matplotlib/backends\n",
      "  copying lib/matplotlib/backends/backend_gtk3.py -> build/lib.macosx-10.9-x86_64-3.9/matplotlib/backends\n",
      "  copying lib/matplotlib/backends/backend_wxcairo.py -> build/lib.macosx-10.9-x86_64-3.9/matplotlib/backends\n",
      "  copying lib/matplotlib/backends/backend_nbagg.py -> build/lib.macosx-10.9-x86_64-3.9/matplotlib/backends\n",
      "  copying lib/matplotlib/backends/backend_webagg_core.py -> build/lib.macosx-10.9-x86_64-3.9/matplotlib/backends\n",
      "  copying lib/matplotlib/backends/backend_wx.py -> build/lib.macosx-10.9-x86_64-3.9/matplotlib/backends\n",
      "  copying lib/matplotlib/backends/backend_qt5cairo.py -> build/lib.macosx-10.9-x86_64-3.9/matplotlib/backends\n",
      "  copying lib/matplotlib/backends/_backend_tk.py -> build/lib.macosx-10.9-x86_64-3.9/matplotlib/backends\n",
      "  copying lib/matplotlib/backends/qt_compat.py -> build/lib.macosx-10.9-x86_64-3.9/matplotlib/backends\n",
      "  copying lib/matplotlib/backends/backend_svg.py -> build/lib.macosx-10.9-x86_64-3.9/matplotlib/backends\n",
      "  copying lib/matplotlib/backends/_backend_pdf_ps.py -> build/lib.macosx-10.9-x86_64-3.9/matplotlib/backends\n",
      "  copying lib/matplotlib/backends/backend_webagg.py -> build/lib.macosx-10.9-x86_64-3.9/matplotlib/backends\n",
      "  copying lib/matplotlib/backends/tkagg.py -> build/lib.macosx-10.9-x86_64-3.9/matplotlib/backends\n",
      "  copying lib/matplotlib/backends/backend_ps.py -> build/lib.macosx-10.9-x86_64-3.9/matplotlib/backends\n",
      "  copying lib/matplotlib/backends/backend_agg.py -> build/lib.macosx-10.9-x86_64-3.9/matplotlib/backends\n",
      "  creating build/lib.macosx-10.9-x86_64-3.9/matplotlib/style\n",
      "  copying lib/matplotlib/style/__init__.py -> build/lib.macosx-10.9-x86_64-3.9/matplotlib/style\n",
      "  copying lib/matplotlib/style/core.py -> build/lib.macosx-10.9-x86_64-3.9/matplotlib/style\n",
      "  creating build/lib.macosx-10.9-x86_64-3.9/matplotlib/projections\n",
      "  copying lib/matplotlib/projections/geo.py -> build/lib.macosx-10.9-x86_64-3.9/matplotlib/projections\n",
      "  copying lib/matplotlib/projections/polar.py -> build/lib.macosx-10.9-x86_64-3.9/matplotlib/projections\n",
      "  copying lib/matplotlib/projections/__init__.py -> build/lib.macosx-10.9-x86_64-3.9/matplotlib/projections\n",
      "  creating build/lib.macosx-10.9-x86_64-3.9/matplotlib/testing\n",
      "  copying lib/matplotlib/testing/conftest.py -> build/lib.macosx-10.9-x86_64-3.9/matplotlib/testing\n",
      "  copying lib/matplotlib/testing/determinism.py -> build/lib.macosx-10.9-x86_64-3.9/matplotlib/testing\n",
      "  copying lib/matplotlib/testing/__init__.py -> build/lib.macosx-10.9-x86_64-3.9/matplotlib/testing\n",
      "  copying lib/matplotlib/testing/exceptions.py -> build/lib.macosx-10.9-x86_64-3.9/matplotlib/testing\n",
      "  copying lib/matplotlib/testing/disable_internet.py -> build/lib.macosx-10.9-x86_64-3.9/matplotlib/testing\n",
      "  copying lib/matplotlib/testing/compare.py -> build/lib.macosx-10.9-x86_64-3.9/matplotlib/testing\n",
      "  copying lib/matplotlib/testing/decorators.py -> build/lib.macosx-10.9-x86_64-3.9/matplotlib/testing\n",
      "  creating build/lib.macosx-10.9-x86_64-3.9/matplotlib/backends/qt_editor\n",
      "  copying lib/matplotlib/backends/qt_editor/_formlayout.py -> build/lib.macosx-10.9-x86_64-3.9/matplotlib/backends/qt_editor\n",
      "  copying lib/matplotlib/backends/qt_editor/formlayout.py -> build/lib.macosx-10.9-x86_64-3.9/matplotlib/backends/qt_editor\n",
      "  copying lib/matplotlib/backends/qt_editor/__init__.py -> build/lib.macosx-10.9-x86_64-3.9/matplotlib/backends/qt_editor\n",
      "  copying lib/matplotlib/backends/qt_editor/formsubplottool.py -> build/lib.macosx-10.9-x86_64-3.9/matplotlib/backends/qt_editor\n",
      "  copying lib/matplotlib/backends/qt_editor/figureoptions.py -> build/lib.macosx-10.9-x86_64-3.9/matplotlib/backends/qt_editor\n",
      "  creating build/lib.macosx-10.9-x86_64-3.9/matplotlib/testing/jpl_units\n",
      "  copying lib/matplotlib/testing/jpl_units/UnitDblFormatter.py -> build/lib.macosx-10.9-x86_64-3.9/matplotlib/testing/jpl_units\n",
      "  copying lib/matplotlib/testing/jpl_units/UnitDbl.py -> build/lib.macosx-10.9-x86_64-3.9/matplotlib/testing/jpl_units\n",
      "  copying lib/matplotlib/testing/jpl_units/EpochConverter.py -> build/lib.macosx-10.9-x86_64-3.9/matplotlib/testing/jpl_units\n",
      "  copying lib/matplotlib/testing/jpl_units/Duration.py -> build/lib.macosx-10.9-x86_64-3.9/matplotlib/testing/jpl_units\n",
      "  copying lib/matplotlib/testing/jpl_units/__init__.py -> build/lib.macosx-10.9-x86_64-3.9/matplotlib/testing/jpl_units\n",
      "  copying lib/matplotlib/testing/jpl_units/UnitDblConverter.py -> build/lib.macosx-10.9-x86_64-3.9/matplotlib/testing/jpl_units\n",
      "  copying lib/matplotlib/testing/jpl_units/Epoch.py -> build/lib.macosx-10.9-x86_64-3.9/matplotlib/testing/jpl_units\n",
      "  copying lib/matplotlib/testing/jpl_units/StrConverter.py -> build/lib.macosx-10.9-x86_64-3.9/matplotlib/testing/jpl_units\n",
      "  creating build/lib.macosx-10.9-x86_64-3.9/matplotlib/mpl-data\n",
      "  creating build/lib.macosx-10.9-x86_64-3.9/matplotlib/mpl-data/sample_data\n",
      "  copying lib/matplotlib/mpl-data/sample_data/grace_hopper.png -> build/lib.macosx-10.9-x86_64-3.9/matplotlib/mpl-data/sample_data\n",
      "  creating build/lib.macosx-10.9-x86_64-3.9/matplotlib/backends/web_backend\n",
      "  creating build/lib.macosx-10.9-x86_64-3.9/matplotlib/backends/web_backend/jquery-ui-1.12.1\n",
      "  copying lib/matplotlib/backends/web_backend/jquery-ui-1.12.1/jquery-ui.min.js -> build/lib.macosx-10.9-x86_64-3.9/matplotlib/backends/web_backend/jquery-ui-1.12.1\n",
      "  creating build/lib.macosx-10.9-x86_64-3.9/matplotlib/mpl-data/fonts\n",
      "  creating build/lib.macosx-10.9-x86_64-3.9/matplotlib/mpl-data/fonts/afm\n",
      "  copying lib/matplotlib/mpl-data/fonts/afm/pcrbo8a.afm -> build/lib.macosx-10.9-x86_64-3.9/matplotlib/mpl-data/fonts/afm\n",
      "  creating build/lib.macosx-10.9-x86_64-3.9/matplotlib/mpl-data/fonts/ttf\n",
      "  copying lib/matplotlib/mpl-data/fonts/ttf/cmb10.ttf -> build/lib.macosx-10.9-x86_64-3.9/matplotlib/mpl-data/fonts/ttf\n",
      "  copying lib/matplotlib/mpl-data/fonts/ttf/STIXSizTwoSymBol.ttf -> build/lib.macosx-10.9-x86_64-3.9/matplotlib/mpl-data/fonts/ttf\n",
      "  creating build/lib.macosx-10.9-x86_64-3.9/matplotlib/mpl-data/stylelib\n",
      "  copying lib/matplotlib/mpl-data/stylelib/seaborn-paper.mplstyle -> build/lib.macosx-10.9-x86_64-3.9/matplotlib/mpl-data/stylelib\n",
      "  creating build/lib.macosx-10.9-x86_64-3.9/matplotlib/mpl-data/images\n",
      "  copying lib/matplotlib/mpl-data/images/filesave.png -> build/lib.macosx-10.9-x86_64-3.9/matplotlib/mpl-data/images\n",
      "  copying lib/matplotlib/mpl-data/images/matplotlib.png -> build/lib.macosx-10.9-x86_64-3.9/matplotlib/mpl-data/images\n",
      "  copying lib/matplotlib/mpl-data/fonts/ttf/STIXSizFourSymBol.ttf -> build/lib.macosx-10.9-x86_64-3.9/matplotlib/mpl-data/fonts/ttf\n",
      "  copying lib/matplotlib/mpl-data/images/forward.gif -> build/lib.macosx-10.9-x86_64-3.9/matplotlib/mpl-data/images\n",
      "  copying lib/matplotlib/mpl-data/stylelib/seaborn-whitegrid.mplstyle -> build/lib.macosx-10.9-x86_64-3.9/matplotlib/mpl-data/stylelib\n",
      "  copying lib/matplotlib/mpl-data/fonts/afm/pagko8a.afm -> build/lib.macosx-10.9-x86_64-3.9/matplotlib/mpl-data/fonts/afm\n",
      "  creating build/lib.macosx-10.9-x86_64-3.9/matplotlib/mpl-data/fonts/pdfcorefonts\n",
      "  copying lib/matplotlib/mpl-data/fonts/pdfcorefonts/Courier-BoldOblique.afm -> build/lib.macosx-10.9-x86_64-3.9/matplotlib/mpl-data/fonts/pdfcorefonts\n",
      "  copying lib/matplotlib/mpl-data/fonts/ttf/DejaVuSerif.ttf -> build/lib.macosx-10.9-x86_64-3.9/matplotlib/mpl-data/fonts/ttf\n",
      "  copying lib/matplotlib/mpl-data/sample_data/embedding_in_wx3.xrc -> build/lib.macosx-10.9-x86_64-3.9/matplotlib/mpl-data/sample_data\n",
      "  copying lib/matplotlib/mpl-data/stylelib/seaborn-poster.mplstyle -> build/lib.macosx-10.9-x86_64-3.9/matplotlib/mpl-data/stylelib\n",
      "  copying lib/matplotlib/mpl-data/images/subplots.pdf -> build/lib.macosx-10.9-x86_64-3.9/matplotlib/mpl-data/images\n",
      "  copying lib/matplotlib/mpl-data/fonts/ttf/STIXNonUni.ttf -> build/lib.macosx-10.9-x86_64-3.9/matplotlib/mpl-data/fonts/ttf\n",
      "  copying lib/matplotlib/mpl-data/fonts/ttf/DejaVuSans-BoldOblique.ttf -> build/lib.macosx-10.9-x86_64-3.9/matplotlib/mpl-data/fonts/ttf\n",
      "  copying lib/matplotlib/mpl-data/stylelib/dark_background.mplstyle -> build/lib.macosx-10.9-x86_64-3.9/matplotlib/mpl-data/stylelib\n",
      "  copying lib/matplotlib/backends/web_backend/all_figures.html -> build/lib.macosx-10.9-x86_64-3.9/matplotlib/backends/web_backend\n",
      "  creating build/lib.macosx-10.9-x86_64-3.9/matplotlib/backends/web_backend/js\n",
      "  copying lib/matplotlib/backends/web_backend/js/mpl.js -> build/lib.macosx-10.9-x86_64-3.9/matplotlib/backends/web_backend/js\n",
      "  copying lib/matplotlib/mpl-data/fonts/pdfcorefonts/Times-BoldItalic.afm -> build/lib.macosx-10.9-x86_64-3.9/matplotlib/mpl-data/fonts/pdfcorefonts\n",
      "  copying lib/matplotlib/mpl-data/images/zoom_to_rect_large.gif -> build/lib.macosx-10.9-x86_64-3.9/matplotlib/mpl-data/images\n",
      "  copying lib/matplotlib/mpl-data/images/filesave.gif -> build/lib.macosx-10.9-x86_64-3.9/matplotlib/mpl-data/images\n",
      "  creating build/lib.macosx-10.9-x86_64-3.9/matplotlib/backends/web_backend/jquery\n",
      "  creating build/lib.macosx-10.9-x86_64-3.9/matplotlib/backends/web_backend/jquery/js\n",
      "  copying lib/matplotlib/backends/web_backend/jquery/js/jquery.min.js -> build/lib.macosx-10.9-x86_64-3.9/matplotlib/backends/web_backend/jquery/js\n",
      "  copying lib/matplotlib/mpl-data/stylelib/ggplot.mplstyle -> build/lib.macosx-10.9-x86_64-3.9/matplotlib/mpl-data/stylelib\n",
      "  copying lib/matplotlib/mpl-data/images/forward.png -> build/lib.macosx-10.9-x86_64-3.9/matplotlib/mpl-data/images\n",
      "  copying lib/matplotlib/mpl-data/sample_data/README.txt -> build/lib.macosx-10.9-x86_64-3.9/matplotlib/mpl-data/sample_data\n",
      "  copying lib/matplotlib/mpl-data/sample_data/membrane.dat -> build/lib.macosx-10.9-x86_64-3.9/matplotlib/mpl-data/sample_data\n",
      "  copying lib/matplotlib/mpl-data/fonts/ttf/STIXSizFourSymReg.ttf -> build/lib.macosx-10.9-x86_64-3.9/matplotlib/mpl-data/fonts/ttf\n",
      "  copying lib/matplotlib/mpl-data/fonts/ttf/STIXSizThreeSymBol.ttf -> build/lib.macosx-10.9-x86_64-3.9/matplotlib/mpl-data/fonts/ttf\n",
      "  copying lib/matplotlib/mpl-data/images/matplotlib.ppm -> build/lib.macosx-10.9-x86_64-3.9/matplotlib/mpl-data/images\n",
      "  copying lib/matplotlib/mpl-data/stylelib/fast.mplstyle -> build/lib.macosx-10.9-x86_64-3.9/matplotlib/mpl-data/stylelib\n",
      "  creating build/lib.macosx-10.9-x86_64-3.9/matplotlib/backends/web_backend/jquery-ui-1.12.1/images\n",
      "  copying lib/matplotlib/backends/web_backend/jquery-ui-1.12.1/images/ui-icons_cc0000_256x240.png -> build/lib.macosx-10.9-x86_64-3.9/matplotlib/backends/web_backend/jquery-ui-1.12.1/images\n",
      "  creating build/lib.macosx-10.9-x86_64-3.9/matplotlib/backends/web_backend/css\n",
      "  copying lib/matplotlib/backends/web_backend/css/page.css -> build/lib.macosx-10.9-x86_64-3.9/matplotlib/backends/web_backend/css\n",
      "  copying lib/matplotlib/mpl-data/images/back.svg -> build/lib.macosx-10.9-x86_64-3.9/matplotlib/mpl-data/images\n",
      "  copying lib/matplotlib/mpl-data/images/subplots_large.gif -> build/lib.macosx-10.9-x86_64-3.9/matplotlib/mpl-data/images\n",
      "  copying lib/matplotlib/backends/web_backend/jquery-ui-1.12.1/jquery-ui.theme.css -> build/lib.macosx-10.9-x86_64-3.9/matplotlib/backends/web_backend/jquery-ui-1.12.1\n",
      "  copying lib/matplotlib/mpl-data/sample_data/grace_hopper.jpg -> build/lib.macosx-10.9-x86_64-3.9/matplotlib/mpl-data/sample_data\n",
      "  copying lib/matplotlib/mpl-data/sample_data/aapl.npz -> build/lib.macosx-10.9-x86_64-3.9/matplotlib/mpl-data/sample_data\n",
      "  copying lib/matplotlib/mpl-data/fonts/afm/cmr10.afm -> build/lib.macosx-10.9-x86_64-3.9/matplotlib/mpl-data/fonts/afm\n",
      "  copying lib/matplotlib/mpl-data/fonts/ttf/DejaVuSansMono-BoldOblique.ttf -> build/lib.macosx-10.9-x86_64-3.9/matplotlib/mpl-data/fonts/ttf\n",
      "  copying lib/matplotlib/mpl-data/fonts/pdfcorefonts/Times-Italic.afm -> build/lib.macosx-10.9-x86_64-3.9/matplotlib/mpl-data/fonts/pdfcorefonts\n",
      "  copying lib/matplotlib/mpl-data/fonts/afm/phvr8an.afm -> build/lib.macosx-10.9-x86_64-3.9/matplotlib/mpl-data/fonts/afm\n",
      "  copying lib/matplotlib/mpl-data/stylelib/seaborn-talk.mplstyle -> build/lib.macosx-10.9-x86_64-3.9/matplotlib/mpl-data/stylelib\n",
      "  copying lib/matplotlib/mpl-data/images/forward.pdf -> build/lib.macosx-10.9-x86_64-3.9/matplotlib/mpl-data/images\n",
      "  copying lib/matplotlib/mpl-data/fonts/ttf/LICENSE_STIX -> build/lib.macosx-10.9-x86_64-3.9/matplotlib/mpl-data/fonts/ttf\n",
      "  copying lib/matplotlib/mpl-data/images/help.ppm -> build/lib.macosx-10.9-x86_64-3.9/matplotlib/mpl-data/images\n",
      "  copying lib/matplotlib/mpl-data/stylelib/bmh.mplstyle -> build/lib.macosx-10.9-x86_64-3.9/matplotlib/mpl-data/stylelib\n",
      "  copying lib/matplotlib/mpl-data/fonts/ttf/DejaVuSansDisplay.ttf -> build/lib.macosx-10.9-x86_64-3.9/matplotlib/mpl-data/fonts/ttf\n",
      "  copying lib/matplotlib/mpl-data/images/help.png -> build/lib.macosx-10.9-x86_64-3.9/matplotlib/mpl-data/images\n",
      "  copying lib/matplotlib/mpl-data/fonts/ttf/STIXNonUniBolIta.ttf -> build/lib.macosx-10.9-x86_64-3.9/matplotlib/mpl-data/fonts/ttf\n",
      "  copying lib/matplotlib/mpl-data/images/qt4_editor_options.pdf -> build/lib.macosx-10.9-x86_64-3.9/matplotlib/mpl-data/images\n",
      "  copying lib/matplotlib/mpl-data/fonts/afm/pbkdi8a.afm -> build/lib.macosx-10.9-x86_64-3.9/matplotlib/mpl-data/fonts/afm\n",
      "  copying lib/matplotlib/mpl-data/fonts/ttf/DejaVuSans.ttf -> build/lib.macosx-10.9-x86_64-3.9/matplotlib/mpl-data/fonts/ttf\n",
      "  creating build/lib.macosx-10.9-x86_64-3.9/matplotlib/mpl-data/sample_data/axes_grid\n",
      "  copying lib/matplotlib/mpl-data/sample_data/axes_grid/bivariate_normal.npy -> build/lib.macosx-10.9-x86_64-3.9/matplotlib/mpl-data/sample_data/axes_grid\n",
      "  copying lib/matplotlib/mpl-data/fonts/afm/phvbo8a.afm -> build/lib.macosx-10.9-x86_64-3.9/matplotlib/mpl-data/fonts/afm\n",
      "  copying lib/matplotlib/mpl-data/images/move.gif -> build/lib.macosx-10.9-x86_64-3.9/matplotlib/mpl-data/images\n",
      "  copying lib/matplotlib/mpl-data/images/home.pdf -> build/lib.macosx-10.9-x86_64-3.9/matplotlib/mpl-data/images\n",
      "  copying lib/matplotlib/mpl-data/fonts/ttf/STIXGeneral.ttf -> build/lib.macosx-10.9-x86_64-3.9/matplotlib/mpl-data/fonts/ttf\n",
      "  copying lib/matplotlib/mpl-data/images/subplots_large.png -> build/lib.macosx-10.9-x86_64-3.9/matplotlib/mpl-data/images\n",
      "  copying lib/matplotlib/mpl-data/stylelib/grayscale.mplstyle -> build/lib.macosx-10.9-x86_64-3.9/matplotlib/mpl-data/stylelib\n",
      "  copying lib/matplotlib/mpl-data/sample_data/percent_bachelors_degrees_women_usa.csv -> build/lib.macosx-10.9-x86_64-3.9/matplotlib/mpl-data/sample_data\n",
      "  copying lib/matplotlib/mpl-data/fonts/ttf/DejaVuSerif-BoldItalic.ttf -> build/lib.macosx-10.9-x86_64-3.9/matplotlib/mpl-data/fonts/ttf\n",
      "  copying lib/matplotlib/mpl-data/fonts/ttf/DejaVuSansMono-Oblique.ttf -> build/lib.macosx-10.9-x86_64-3.9/matplotlib/mpl-data/fonts/ttf\n",
      "  copying lib/matplotlib/mpl-data/stylelib/seaborn-colorblind.mplstyle -> build/lib.macosx-10.9-x86_64-3.9/matplotlib/mpl-data/stylelib\n",
      "  copying lib/matplotlib/backends/web_backend/js/nbagg_mpl.js -> build/lib.macosx-10.9-x86_64-3.9/matplotlib/backends/web_backend/js\n",
      "  copying lib/matplotlib/mpl-data/images/matplotlib_large.png -> build/lib.macosx-10.9-x86_64-3.9/matplotlib/mpl-data/images\n",
      "  copying lib/matplotlib/backends/web_backend/jquery-ui-1.12.1/jquery-ui.theme.min.css -> build/lib.macosx-10.9-x86_64-3.9/matplotlib/backends/web_backend/jquery-ui-1.12.1\n",
      "  copying lib/matplotlib/backends/web_backend/jquery-ui-1.12.1/images/ui-icons_555555_256x240.png -> build/lib.macosx-10.9-x86_64-3.9/matplotlib/backends/web_backend/jquery-ui-1.12.1/images\n",
      "  copying lib/matplotlib/mpl-data/fonts/ttf/cmmi10.ttf -> build/lib.macosx-10.9-x86_64-3.9/matplotlib/mpl-data/fonts/ttf\n",
      "  copying lib/matplotlib/mpl-data/sample_data/logo2.png -> build/lib.macosx-10.9-x86_64-3.9/matplotlib/mpl-data/sample_data\n",
      "  copying lib/matplotlib/mpl-data/fonts/afm/phvbo8an.afm -> build/lib.macosx-10.9-x86_64-3.9/matplotlib/mpl-data/fonts/afm\n",
      "  copying lib/matplotlib/mpl-data/images/matplotlib.svg -> build/lib.macosx-10.9-x86_64-3.9/matplotlib/mpl-data/images\n",
      "  copying lib/matplotlib/mpl-data/fonts/afm/pcrr8a.afm -> build/lib.macosx-10.9-x86_64-3.9/matplotlib/mpl-data/fonts/afm\n",
      "  copying lib/matplotlib/mpl-data/images/forward.svg -> build/lib.macosx-10.9-x86_64-3.9/matplotlib/mpl-data/images\n",
      "  copying lib/matplotlib/mpl-data/fonts/ttf/DejaVuSansMono-Bold.ttf -> build/lib.macosx-10.9-x86_64-3.9/matplotlib/mpl-data/fonts/ttf\n",
      "  copying lib/matplotlib/mpl-data/stylelib/seaborn-muted.mplstyle -> build/lib.macosx-10.9-x86_64-3.9/matplotlib/mpl-data/stylelib\n",
      "  copying lib/matplotlib/mpl-data/sample_data/goog.npz -> build/lib.macosx-10.9-x86_64-3.9/matplotlib/mpl-data/sample_data\n",
      "  copying lib/matplotlib/backends/web_backend/jquery-ui-1.12.1/images/ui-icons_777777_256x240.png -> build/lib.macosx-10.9-x86_64-3.9/matplotlib/backends/web_backend/jquery-ui-1.12.1/images\n",
      "  copying lib/matplotlib/mpl-data/fonts/ttf/STIXGeneralBolIta.ttf -> build/lib.macosx-10.9-x86_64-3.9/matplotlib/mpl-data/fonts/ttf\n",
      "  copying lib/matplotlib/mpl-data/images/move_large.png -> build/lib.macosx-10.9-x86_64-3.9/matplotlib/mpl-data/images\n",
      "  copying lib/matplotlib/mpl-data/fonts/ttf/STIXSizTwoSymReg.ttf -> build/lib.macosx-10.9-x86_64-3.9/matplotlib/mpl-data/fonts/ttf\n",
      "  copying lib/matplotlib/mpl-data/sample_data/None_vs_nearest-pdf.png -> build/lib.macosx-10.9-x86_64-3.9/matplotlib/mpl-data/sample_data\n",
      "  copying lib/matplotlib/mpl-data/fonts/afm/pzdr.afm -> build/lib.macosx-10.9-x86_64-3.9/matplotlib/mpl-data/fonts/afm\n",
      "  copying lib/matplotlib/mpl-data/images/home_large.png -> build/lib.macosx-10.9-x86_64-3.9/matplotlib/mpl-data/images\n",
      "  copying lib/matplotlib/mpl-data/images/hand.svg -> build/lib.macosx-10.9-x86_64-3.9/matplotlib/mpl-data/images\n",
      "  copying lib/matplotlib/mpl-data/fonts/ttf/cmex10.ttf -> build/lib.macosx-10.9-x86_64-3.9/matplotlib/mpl-data/fonts/ttf\n",
      "  copying lib/matplotlib/mpl-data/fonts/afm/pbkl8a.afm -> build/lib.macosx-10.9-x86_64-3.9/matplotlib/mpl-data/fonts/afm\n",
      "  copying lib/matplotlib/mpl-data/images/zoom_to_rect.pdf -> build/lib.macosx-10.9-x86_64-3.9/matplotlib/mpl-data/images\n",
      "  copying lib/matplotlib/mpl-data/stylelib/seaborn-dark-palette.mplstyle -> build/lib.macosx-10.9-x86_64-3.9/matplotlib/mpl-data/stylelib\n",
      "  copying lib/matplotlib/mpl-data/fonts/ttf/STIXNonUniBol.ttf -> build/lib.macosx-10.9-x86_64-3.9/matplotlib/mpl-data/fonts/ttf\n",
      "  copying lib/matplotlib/mpl-data/images/help.pdf -> build/lib.macosx-10.9-x86_64-3.9/matplotlib/mpl-data/images\n",
      "  copying lib/matplotlib/mpl-data/sample_data/eeg.dat -> build/lib.macosx-10.9-x86_64-3.9/matplotlib/mpl-data/sample_data\n",
      "  copying lib/matplotlib/mpl-data/stylelib/_classic_test.mplstyle -> build/lib.macosx-10.9-x86_64-3.9/matplotlib/mpl-data/stylelib\n",
      "  copying lib/matplotlib/mpl-data/images/filesave_large.gif -> build/lib.macosx-10.9-x86_64-3.9/matplotlib/mpl-data/images\n",
      "  copying lib/matplotlib/mpl-data/stylelib/seaborn-notebook.mplstyle -> build/lib.macosx-10.9-x86_64-3.9/matplotlib/mpl-data/stylelib\n",
      "  copying lib/matplotlib/mpl-data/sample_data/s1045.ima.gz -> build/lib.macosx-10.9-x86_64-3.9/matplotlib/mpl-data/sample_data\n",
      "  copying lib/matplotlib/mpl-data/fonts/ttf/cmss10.ttf -> build/lib.macosx-10.9-x86_64-3.9/matplotlib/mpl-data/fonts/ttf\n",
      "  copying lib/matplotlib/mpl-data/fonts/afm/phvro8a.afm -> build/lib.macosx-10.9-x86_64-3.9/matplotlib/mpl-data/fonts/afm\n",
      "  copying lib/matplotlib/mpl-data/images/move.pdf -> build/lib.macosx-10.9-x86_64-3.9/matplotlib/mpl-data/images\n",
      "  copying lib/matplotlib/mpl-data/images/hand.pdf -> build/lib.macosx-10.9-x86_64-3.9/matplotlib/mpl-data/images\n",
      "  copying lib/matplotlib/mpl-data/fonts/ttf/LICENSE_DEJAVU -> build/lib.macosx-10.9-x86_64-3.9/matplotlib/mpl-data/fonts/ttf\n",
      "  copying lib/matplotlib/backends/web_backend/js/mpl_tornado.js -> build/lib.macosx-10.9-x86_64-3.9/matplotlib/backends/web_backend/js\n",
      "  copying lib/matplotlib/mpl-data/fonts/pdfcorefonts/Courier-Bold.afm -> build/lib.macosx-10.9-x86_64-3.9/matplotlib/mpl-data/fonts/pdfcorefonts\n",
      "  copying lib/matplotlib/mpl-data/stylelib/classic.mplstyle -> build/lib.macosx-10.9-x86_64-3.9/matplotlib/mpl-data/stylelib\n",
      "  copying lib/matplotlib/mpl-data/images/forward_large.png -> build/lib.macosx-10.9-x86_64-3.9/matplotlib/mpl-data/images\n",
      "  copying lib/matplotlib/mpl-data/fonts/afm/ptmb8a.afm -> build/lib.macosx-10.9-x86_64-3.9/matplotlib/mpl-data/fonts/afm\n",
      "  copying lib/matplotlib/mpl-data/sample_data/Minduka_Present_Blue_Pack.png -> build/lib.macosx-10.9-x86_64-3.9/matplotlib/mpl-data/sample_data\n",
      "  copying lib/matplotlib/mpl-data/fonts/pdfcorefonts/readme.txt -> build/lib.macosx-10.9-x86_64-3.9/matplotlib/mpl-data/fonts/pdfcorefonts\n",
      "  copying lib/matplotlib/mpl-data/images/qt4_editor_options.svg -> build/lib.macosx-10.9-x86_64-3.9/matplotlib/mpl-data/images\n",
      "  copying lib/matplotlib/mpl-data/images/move_large.gif -> build/lib.macosx-10.9-x86_64-3.9/matplotlib/mpl-data/images\n",
      "  copying lib/matplotlib/mpl-data/stylelib/seaborn-ticks.mplstyle -> build/lib.macosx-10.9-x86_64-3.9/matplotlib/mpl-data/stylelib\n",
      "  copying lib/matplotlib/mpl-data/stylelib/seaborn-pastel.mplstyle -> build/lib.macosx-10.9-x86_64-3.9/matplotlib/mpl-data/stylelib\n",
      "  copying lib/matplotlib/mpl-data/fonts/afm/pbkli8a.afm -> build/lib.macosx-10.9-x86_64-3.9/matplotlib/mpl-data/fonts/afm\n",
      "  copying lib/matplotlib/backends/web_backend/jquery-ui-1.12.1/images/ui-icons_777620_256x240.png -> build/lib.macosx-10.9-x86_64-3.9/matplotlib/backends/web_backend/jquery-ui-1.12.1/images\n",
      "  copying lib/matplotlib/mpl-data/fonts/afm/pagdo8a.afm -> build/lib.macosx-10.9-x86_64-3.9/matplotlib/mpl-data/fonts/afm\n",
      "  copying lib/matplotlib/mpl-data/fonts/pdfcorefonts/Symbol.afm -> build/lib.macosx-10.9-x86_64-3.9/matplotlib/mpl-data/fonts/pdfcorefonts\n",
      "  copying lib/matplotlib/mpl-data/fonts/afm/cmtt10.afm -> build/lib.macosx-10.9-x86_64-3.9/matplotlib/mpl-data/fonts/afm\n",
      "  copying lib/matplotlib/mpl-data/fonts/afm/ptmri8a.afm -> build/lib.macosx-10.9-x86_64-3.9/matplotlib/mpl-data/fonts/afm\n",
      "  copying lib/matplotlib/mpl-data/fonts/afm/phvr8a.afm -> build/lib.macosx-10.9-x86_64-3.9/matplotlib/mpl-data/fonts/afm\n",
      "  copying lib/matplotlib/mpl-data/fonts/afm/phvlo8a.afm -> build/lib.macosx-10.9-x86_64-3.9/matplotlib/mpl-data/fonts/afm\n",
      "  copying lib/matplotlib/backends/web_backend/nbagg_uat.ipynb -> build/lib.macosx-10.9-x86_64-3.9/matplotlib/backends/web_backend\n",
      "  copying lib/matplotlib/mpl-data/sample_data/topobathy.npz -> build/lib.macosx-10.9-x86_64-3.9/matplotlib/mpl-data/sample_data\n",
      "  copying lib/matplotlib/mpl-data/images/subplots.gif -> build/lib.macosx-10.9-x86_64-3.9/matplotlib/mpl-data/images\n",
      "  copying lib/matplotlib/mpl-data/fonts/afm/pplr8a.afm -> build/lib.macosx-10.9-x86_64-3.9/matplotlib/mpl-data/fonts/afm\n",
      "  copying lib/matplotlib/mpl-data/images/hand.png -> build/lib.macosx-10.9-x86_64-3.9/matplotlib/mpl-data/images\n",
      "  copying lib/matplotlib/mpl-data/fonts/afm/psyr.afm -> build/lib.macosx-10.9-x86_64-3.9/matplotlib/mpl-data/fonts/afm\n",
      "  copying lib/matplotlib/mpl-data/fonts/ttf/cmr10.ttf -> build/lib.macosx-10.9-x86_64-3.9/matplotlib/mpl-data/fonts/ttf\n",
      "  copying lib/matplotlib/mpl-data/images/home.gif -> build/lib.macosx-10.9-x86_64-3.9/matplotlib/mpl-data/images\n",
      "  copying lib/matplotlib/backends/web_backend/jquery/js/jquery.js -> build/lib.macosx-10.9-x86_64-3.9/matplotlib/backends/web_backend/jquery/js\n",
      "  copying lib/matplotlib/backends/web_backend/jquery-ui-1.12.1/LICENSE.txt -> build/lib.macosx-10.9-x86_64-3.9/matplotlib/backends/web_backend/jquery-ui-1.12.1\n",
      "  creating build/lib.macosx-10.9-x86_64-3.9/matplotlib/backends/web_backend/jquery-ui-1.12.1/external\n",
      "  creating build/lib.macosx-10.9-x86_64-3.9/matplotlib/backends/web_backend/jquery-ui-1.12.1/external/jquery\n",
      "  copying lib/matplotlib/backends/web_backend/jquery-ui-1.12.1/external/jquery/jquery.js -> build/lib.macosx-10.9-x86_64-3.9/matplotlib/backends/web_backend/jquery-ui-1.12.1/external/jquery\n",
      "  copying lib/matplotlib/mpl-data/sample_data/demodata.csv -> build/lib.macosx-10.9-x86_64-3.9/matplotlib/mpl-data/sample_data\n",
      "  copying lib/matplotlib/mpl-data/images/back.pdf -> build/lib.macosx-10.9-x86_64-3.9/matplotlib/mpl-data/images\n",
      "  copying lib/matplotlib/mpl-data/fonts/afm/pncri8a.afm -> build/lib.macosx-10.9-x86_64-3.9/matplotlib/mpl-data/fonts/afm\n",
      "  copying lib/matplotlib/mpl-data/images/zoom_to_rect.svg -> build/lib.macosx-10.9-x86_64-3.9/matplotlib/mpl-data/images\n",
      "  copying lib/matplotlib/mpl-data/fonts/afm/pzcmi8a.afm -> build/lib.macosx-10.9-x86_64-3.9/matplotlib/mpl-data/fonts/afm\n",
      "  copying lib/matplotlib/mpl-data/fonts/pdfcorefonts/Courier-Oblique.afm -> build/lib.macosx-10.9-x86_64-3.9/matplotlib/mpl-data/fonts/pdfcorefonts\n",
      "  copying lib/matplotlib/mpl-data/images/matplotlib.pdf -> build/lib.macosx-10.9-x86_64-3.9/matplotlib/mpl-data/images\n",
      "  copying lib/matplotlib/mpl-data/sample_data/data_x_x2_x3.csv -> build/lib.macosx-10.9-x86_64-3.9/matplotlib/mpl-data/sample_data\n",
      "  copying lib/matplotlib/mpl-data/fonts/afm/cmex10.afm -> build/lib.macosx-10.9-x86_64-3.9/matplotlib/mpl-data/fonts/afm\n",
      "  copying lib/matplotlib/mpl-data/fonts/ttf/STIXSizFiveSymReg.ttf -> build/lib.macosx-10.9-x86_64-3.9/matplotlib/mpl-data/fonts/ttf\n",
      "  copying lib/matplotlib/mpl-data/stylelib/seaborn-dark.mplstyle -> build/lib.macosx-10.9-x86_64-3.9/matplotlib/mpl-data/stylelib\n",
      "  copying lib/matplotlib/mpl-data/stylelib/Solarize_Light2.mplstyle -> build/lib.macosx-10.9-x86_64-3.9/matplotlib/mpl-data/stylelib\n",
      "  copying lib/matplotlib/mpl-data/images/subplots.svg -> build/lib.macosx-10.9-x86_64-3.9/matplotlib/mpl-data/images\n",
      "  copying lib/matplotlib/backends/web_backend/single_figure.html -> build/lib.macosx-10.9-x86_64-3.9/matplotlib/backends/web_backend\n",
      "  copying lib/matplotlib/mpl-data/fonts/afm/pncbi8a.afm -> build/lib.macosx-10.9-x86_64-3.9/matplotlib/mpl-data/fonts/afm\n",
      "  copying lib/matplotlib/mpl-data/fonts/ttf/DejaVuSansMono.ttf -> build/lib.macosx-10.9-x86_64-3.9/matplotlib/mpl-data/fonts/ttf\n",
      "  copying lib/matplotlib/mpl-data/fonts/ttf/cmtt10.ttf -> build/lib.macosx-10.9-x86_64-3.9/matplotlib/mpl-data/fonts/ttf\n",
      "  copying lib/matplotlib/backends/web_backend/jquery-ui-1.12.1/AUTHORS.txt -> build/lib.macosx-10.9-x86_64-3.9/matplotlib/backends/web_backend/jquery-ui-1.12.1\n",
      "  copying lib/matplotlib/mpl-data/fonts/afm/phvro8an.afm -> build/lib.macosx-10.9-x86_64-3.9/matplotlib/mpl-data/fonts/afm\n",
      "  copying lib/matplotlib/mpl-data/sample_data/msft.csv -> build/lib.macosx-10.9-x86_64-3.9/matplotlib/mpl-data/sample_data\n",
      "  copying lib/matplotlib/mpl-data/images/home_large.gif -> build/lib.macosx-10.9-x86_64-3.9/matplotlib/mpl-data/images\n",
      "  copying lib/matplotlib/backends/web_backend/jquery-ui-1.12.1/jquery-ui.js -> build/lib.macosx-10.9-x86_64-3.9/matplotlib/backends/web_backend/jquery-ui-1.12.1\n",
      "  copying lib/matplotlib/mpl-data/fonts/ttf/STIXSizOneSymReg.ttf -> build/lib.macosx-10.9-x86_64-3.9/matplotlib/mpl-data/fonts/ttf\n",
      "  copying lib/matplotlib/mpl-data/images/home.svg -> build/lib.macosx-10.9-x86_64-3.9/matplotlib/mpl-data/images\n",
      "  copying lib/matplotlib/mpl-data/fonts/afm/pagd8a.afm -> build/lib.macosx-10.9-x86_64-3.9/matplotlib/mpl-data/fonts/afm\n",
      "  copying lib/matplotlib/mpl-data/fonts/ttf/DejaVuSerif-Italic.ttf -> build/lib.macosx-10.9-x86_64-3.9/matplotlib/mpl-data/fonts/ttf\n",
      "  copying lib/matplotlib/mpl-data/fonts/afm/ptmr8a.afm -> build/lib.macosx-10.9-x86_64-3.9/matplotlib/mpl-data/fonts/afm\n",
      "  copying lib/matplotlib/mpl-data/images/filesave.pdf -> build/lib.macosx-10.9-x86_64-3.9/matplotlib/mpl-data/images\n",
      "  copying lib/matplotlib/mpl-data/images/home.png -> build/lib.macosx-10.9-x86_64-3.9/matplotlib/mpl-data/images\n",
      "  copying lib/matplotlib/mpl-data/stylelib/fivethirtyeight.mplstyle -> build/lib.macosx-10.9-x86_64-3.9/matplotlib/mpl-data/stylelib\n",
      "  copying lib/matplotlib/backends/web_backend/css/boilerplate.css -> build/lib.macosx-10.9-x86_64-3.9/matplotlib/backends/web_backend/css\n",
      "  copying lib/matplotlib/mpl-data/fonts/pdfcorefonts/Helvetica-BoldOblique.afm -> build/lib.macosx-10.9-x86_64-3.9/matplotlib/mpl-data/fonts/pdfcorefonts\n",
      "  copying lib/matplotlib/mpl-data/images/hand.gif -> build/lib.macosx-10.9-x86_64-3.9/matplotlib/mpl-data/images\n",
      "  copying lib/matplotlib/mpl-data/fonts/afm/putr8a.afm -> build/lib.macosx-10.9-x86_64-3.9/matplotlib/mpl-data/fonts/afm\n",
      "  copying lib/matplotlib/mpl-data/fonts/afm/phvb8an.afm -> build/lib.macosx-10.9-x86_64-3.9/matplotlib/mpl-data/fonts/afm\n",
      "  copying lib/matplotlib/mpl-data/fonts/ttf/STIXGeneralItalic.ttf -> build/lib.macosx-10.9-x86_64-3.9/matplotlib/mpl-data/fonts/ttf\n",
      "  copying lib/matplotlib/mpl-data/images/filesave.svg -> build/lib.macosx-10.9-x86_64-3.9/matplotlib/mpl-data/images\n",
      "  copying lib/matplotlib/mpl-data/fonts/afm/cmmi10.afm -> build/lib.macosx-10.9-x86_64-3.9/matplotlib/mpl-data/fonts/afm\n",
      "  copying lib/matplotlib/mpl-data/fonts/afm/putbi8a.afm -> build/lib.macosx-10.9-x86_64-3.9/matplotlib/mpl-data/fonts/afm\n",
      "  copying lib/matplotlib/mpl-data/fonts/afm/putri8a.afm -> build/lib.macosx-10.9-x86_64-3.9/matplotlib/mpl-data/fonts/afm\n",
      "  copying lib/matplotlib/mpl-data/images/qt4_editor_options.png -> build/lib.macosx-10.9-x86_64-3.9/matplotlib/mpl-data/images\n",
      "  copying lib/matplotlib/mpl-data/fonts/pdfcorefonts/Helvetica-Bold.afm -> build/lib.macosx-10.9-x86_64-3.9/matplotlib/mpl-data/fonts/pdfcorefonts\n",
      "  copying lib/matplotlib/mpl-data/fonts/afm/pncb8a.afm -> build/lib.macosx-10.9-x86_64-3.9/matplotlib/mpl-data/fonts/afm\n",
      "  copying lib/matplotlib/mpl-data/matplotlibrc -> build/lib.macosx-10.9-x86_64-3.9/matplotlib/mpl-data\n",
      "  copying lib/matplotlib/mpl-data/images/help_large.ppm -> build/lib.macosx-10.9-x86_64-3.9/matplotlib/mpl-data/images\n",
      "  copying lib/matplotlib/mpl-data/images/zoom_to_rect_large.png -> build/lib.macosx-10.9-x86_64-3.9/matplotlib/mpl-data/images\n",
      "  copying lib/matplotlib/mpl-data/fonts/afm/pcrro8a.afm -> build/lib.macosx-10.9-x86_64-3.9/matplotlib/mpl-data/fonts/afm\n",
      "  copying lib/matplotlib/mpl-data/fonts/ttf/cmsy10.ttf -> build/lib.macosx-10.9-x86_64-3.9/matplotlib/mpl-data/fonts/ttf\n",
      "  copying lib/matplotlib/mpl-data/fonts/afm/ptmbi8a.afm -> build/lib.macosx-10.9-x86_64-3.9/matplotlib/mpl-data/fonts/afm\n",
      "  copying lib/matplotlib/mpl-data/fonts/ttf/DejaVuSans-Bold.ttf -> build/lib.macosx-10.9-x86_64-3.9/matplotlib/mpl-data/fonts/ttf\n",
      "  copying lib/matplotlib/mpl-data/fonts/ttf/DejaVuSerifDisplay.ttf -> build/lib.macosx-10.9-x86_64-3.9/matplotlib/mpl-data/fonts/ttf\n",
      "  copying lib/matplotlib/mpl-data/images/zoom_to_rect.png -> build/lib.macosx-10.9-x86_64-3.9/matplotlib/mpl-data/images\n",
      "  copying lib/matplotlib/mpl-data/images/help.svg -> build/lib.macosx-10.9-x86_64-3.9/matplotlib/mpl-data/images\n",
      "  copying lib/matplotlib/mpl-data/fonts/pdfcorefonts/Helvetica.afm -> build/lib.macosx-10.9-x86_64-3.9/matplotlib/mpl-data/fonts/pdfcorefonts\n",
      "  copying lib/matplotlib/backends/web_backend/jquery-ui-1.12.1/jquery-ui.structure.css -> build/lib.macosx-10.9-x86_64-3.9/matplotlib/backends/web_backend/jquery-ui-1.12.1\n",
      "  copying lib/matplotlib/mpl-data/sample_data/jacksboro_fault_dem.npz -> build/lib.macosx-10.9-x86_64-3.9/matplotlib/mpl-data/sample_data\n",
      "  copying lib/matplotlib/mpl-data/images/hand_large.gif -> build/lib.macosx-10.9-x86_64-3.9/matplotlib/mpl-data/images\n",
      "  copying lib/matplotlib/backends/web_backend/jquery-ui-1.12.1/jquery-ui.min.css -> build/lib.macosx-10.9-x86_64-3.9/matplotlib/backends/web_backend/jquery-ui-1.12.1\n",
      "  copying lib/matplotlib/mpl-data/fonts/afm/pcrb8a.afm -> build/lib.macosx-10.9-x86_64-3.9/matplotlib/mpl-data/fonts/afm\n",
      "  copying lib/matplotlib/mpl-data/fonts/afm/pbkd8a.afm -> build/lib.macosx-10.9-x86_64-3.9/matplotlib/mpl-data/fonts/afm\n",
      "  copying lib/matplotlib/mpl-data/fonts/afm/pplbi8a.afm -> build/lib.macosx-10.9-x86_64-3.9/matplotlib/mpl-data/fonts/afm\n",
      "  copying lib/matplotlib/mpl-data/sample_data/ct.raw.gz -> build/lib.macosx-10.9-x86_64-3.9/matplotlib/mpl-data/sample_data\n",
      "  copying lib/matplotlib/mpl-data/fonts/ttf/STIXSizOneSymBol.ttf -> build/lib.macosx-10.9-x86_64-3.9/matplotlib/mpl-data/fonts/ttf\n",
      "  copying lib/matplotlib/backends/web_backend/jquery-ui-1.12.1/index.html -> build/lib.macosx-10.9-x86_64-3.9/matplotlib/backends/web_backend/jquery-ui-1.12.1\n",
      "  copying lib/matplotlib/mpl-data/fonts/afm/pagk8a.afm -> build/lib.macosx-10.9-x86_64-3.9/matplotlib/mpl-data/fonts/afm\n",
      "  copying lib/matplotlib/backends/web_backend/ipython_inline_figure.html -> build/lib.macosx-10.9-x86_64-3.9/matplotlib/backends/web_backend\n",
      "  copying lib/matplotlib/mpl-data/images/move.png -> build/lib.macosx-10.9-x86_64-3.9/matplotlib/mpl-data/images\n",
      "  copying lib/matplotlib/mpl-data/fonts/afm/pplri8a.afm -> build/lib.macosx-10.9-x86_64-3.9/matplotlib/mpl-data/fonts/afm\n",
      "  copying lib/matplotlib/mpl-data/stylelib/seaborn-white.mplstyle -> build/lib.macosx-10.9-x86_64-3.9/matplotlib/mpl-data/stylelib\n",
      "  copying lib/matplotlib/mpl-data/images/subplots.png -> build/lib.macosx-10.9-x86_64-3.9/matplotlib/mpl-data/images\n",
      "  copying lib/matplotlib/mpl-data/images/help_large.png -> build/lib.macosx-10.9-x86_64-3.9/matplotlib/mpl-data/images\n",
      "  copying lib/matplotlib/mpl-data/images/back.gif -> build/lib.macosx-10.9-x86_64-3.9/matplotlib/mpl-data/images\n",
      "  copying lib/matplotlib/mpl-data/fonts/afm/cmsy10.afm -> build/lib.macosx-10.9-x86_64-3.9/matplotlib/mpl-data/fonts/afm\n",
      "  copying lib/matplotlib/mpl-data/fonts/pdfcorefonts/Helvetica-Oblique.afm -> build/lib.macosx-10.9-x86_64-3.9/matplotlib/mpl-data/fonts/pdfcorefonts\n",
      "  copying lib/matplotlib/mpl-data/fonts/ttf/DejaVuSerif-Bold.ttf -> build/lib.macosx-10.9-x86_64-3.9/matplotlib/mpl-data/fonts/ttf\n",
      "  copying lib/matplotlib/mpl-data/stylelib/seaborn-deep.mplstyle -> build/lib.macosx-10.9-x86_64-3.9/matplotlib/mpl-data/stylelib\n",
      "  copying lib/matplotlib/mpl-data/images/move.svg -> build/lib.macosx-10.9-x86_64-3.9/matplotlib/mpl-data/images\n",
      "  copying lib/matplotlib/mpl-data/images/back_large.gif -> build/lib.macosx-10.9-x86_64-3.9/matplotlib/mpl-data/images\n",
      "  copying lib/matplotlib/mpl-data/stylelib/seaborn-darkgrid.mplstyle -> build/lib.macosx-10.9-x86_64-3.9/matplotlib/mpl-data/stylelib\n",
      "  copying lib/matplotlib/mpl-data/fonts/pdfcorefonts/Times-Bold.afm -> build/lib.macosx-10.9-x86_64-3.9/matplotlib/mpl-data/fonts/pdfcorefonts\n",
      "  copying lib/matplotlib/mpl-data/stylelib/tableau-colorblind10.mplstyle -> build/lib.macosx-10.9-x86_64-3.9/matplotlib/mpl-data/stylelib\n",
      "  copying lib/matplotlib/mpl-data/fonts/ttf/STIXNonUniIta.ttf -> build/lib.macosx-10.9-x86_64-3.9/matplotlib/mpl-data/fonts/ttf\n",
      "  copying lib/matplotlib/backends/web_backend/jquery-ui-1.12.1/images/ui-icons_444444_256x240.png -> build/lib.macosx-10.9-x86_64-3.9/matplotlib/backends/web_backend/jquery-ui-1.12.1/images\n",
      "  copying lib/matplotlib/backends/web_backend/jquery-ui-1.12.1/jquery-ui.structure.min.css -> build/lib.macosx-10.9-x86_64-3.9/matplotlib/backends/web_backend/jquery-ui-1.12.1\n",
      "  copying lib/matplotlib/mpl-data/sample_data/ada.png -> build/lib.macosx-10.9-x86_64-3.9/matplotlib/mpl-data/sample_data\n",
      "  copying lib/matplotlib/backends/web_backend/css/fbm.css -> build/lib.macosx-10.9-x86_64-3.9/matplotlib/backends/web_backend/css\n",
      "  copying lib/matplotlib/mpl-data/images/back_large.png -> build/lib.macosx-10.9-x86_64-3.9/matplotlib/mpl-data/images\n",
      "  copying lib/matplotlib/mpl-data/images/forward_large.gif -> build/lib.macosx-10.9-x86_64-3.9/matplotlib/mpl-data/images\n",
      "  copying lib/matplotlib/mpl-data/fonts/pdfcorefonts/Times-Roman.afm -> build/lib.macosx-10.9-x86_64-3.9/matplotlib/mpl-data/fonts/pdfcorefonts\n",
      "  copying lib/matplotlib/backends/web_backend/jquery-ui-1.12.1/jquery-ui.css -> build/lib.macosx-10.9-x86_64-3.9/matplotlib/backends/web_backend/jquery-ui-1.12.1\n",
      "  copying lib/matplotlib/mpl-data/fonts/pdfcorefonts/Courier.afm -> build/lib.macosx-10.9-x86_64-3.9/matplotlib/mpl-data/fonts/pdfcorefonts\n",
      "  copying lib/matplotlib/mpl-data/fonts/afm/phvb8a.afm -> build/lib.macosx-10.9-x86_64-3.9/matplotlib/mpl-data/fonts/afm\n",
      "  copying lib/matplotlib/mpl-data/stylelib/seaborn.mplstyle -> build/lib.macosx-10.9-x86_64-3.9/matplotlib/mpl-data/stylelib\n",
      "  copying lib/matplotlib/mpl-data/fonts/afm/putb8a.afm -> build/lib.macosx-10.9-x86_64-3.9/matplotlib/mpl-data/fonts/afm\n",
      "  copying lib/matplotlib/mpl-data/fonts/afm/pplb8a.afm -> build/lib.macosx-10.9-x86_64-3.9/matplotlib/mpl-data/fonts/afm\n",
      "  copying lib/matplotlib/mpl-data/images/filesave_large.png -> build/lib.macosx-10.9-x86_64-3.9/matplotlib/mpl-data/images\n",
      "  copying lib/matplotlib/backends/web_backend/jquery-ui-1.12.1/images/ui-icons_ffffff_256x240.png -> build/lib.macosx-10.9-x86_64-3.9/matplotlib/backends/web_backend/jquery-ui-1.12.1/images\n",
      "  copying lib/matplotlib/mpl-data/images/back.png -> build/lib.macosx-10.9-x86_64-3.9/matplotlib/mpl-data/images\n",
      "  copying lib/matplotlib/mpl-data/fonts/afm/phvl8a.afm -> build/lib.macosx-10.9-x86_64-3.9/matplotlib/mpl-data/fonts/afm\n",
      "  copying lib/matplotlib/mpl-data/fonts/ttf/DejaVuSans-Oblique.ttf -> build/lib.macosx-10.9-x86_64-3.9/matplotlib/mpl-data/fonts/ttf\n",
      "  copying lib/matplotlib/mpl-data/fonts/afm/pncr8a.afm -> build/lib.macosx-10.9-x86_64-3.9/matplotlib/mpl-data/fonts/afm\n",
      "  copying lib/matplotlib/backends/web_backend/jquery-ui-1.12.1/package.json -> build/lib.macosx-10.9-x86_64-3.9/matplotlib/backends/web_backend/jquery-ui-1.12.1\n",
      "  copying lib/matplotlib/mpl-data/stylelib/seaborn-bright.mplstyle -> build/lib.macosx-10.9-x86_64-3.9/matplotlib/mpl-data/stylelib\n",
      "  copying lib/matplotlib/mpl-data/images/zoom_to_rect.gif -> build/lib.macosx-10.9-x86_64-3.9/matplotlib/mpl-data/images\n",
      "  copying lib/matplotlib/mpl-data/fonts/ttf/STIXSizThreeSymReg.ttf -> build/lib.macosx-10.9-x86_64-3.9/matplotlib/mpl-data/fonts/ttf\n",
      "  copying lib/matplotlib/mpl-data/images/qt4_editor_options_large.png -> build/lib.macosx-10.9-x86_64-3.9/matplotlib/mpl-data/images\n",
      "  copying lib/matplotlib/mpl-data/fonts/ttf/STIXGeneralBol.ttf -> build/lib.macosx-10.9-x86_64-3.9/matplotlib/mpl-data/fonts/ttf\n",
      "  copying lib/matplotlib/mpl-data/fonts/pdfcorefonts/ZapfDingbats.afm -> build/lib.macosx-10.9-x86_64-3.9/matplotlib/mpl-data/fonts/pdfcorefonts\n",
      "  UPDATING build/lib.macosx-10.9-x86_64-3.9/matplotlib/_version.py\n",
      "  set build/lib.macosx-10.9-x86_64-3.9/matplotlib/_version.py to '3.1.3'\n",
      "  running build_ext\n",
      "  building 'matplotlib.ft2font' extension\n",
      "  creating build/temp.macosx-10.9-x86_64-3.9\n",
      "  creating build/temp.macosx-10.9-x86_64-3.9/src\n",
      "  x86_64-apple-darwin13.4.0-clang -Wno-unused-result -Wsign-compare -Wunreachable-code -DNDEBUG -fwrapv -O2 -Wall -march=core2 -mtune=haswell -mssse3 -ftree-vectorize -fPIC -fPIE -fstack-protector-strong -O2 -pipe -isystem /Users/halledavis/opt/anaconda3/include -arch x86_64 -I/Users/halledavis/opt/anaconda3/include -march=core2 -mtune=haswell -mssse3 -ftree-vectorize -fPIC -fPIE -fstack-protector-strong -O2 -pipe -isystem /Users/halledavis/opt/anaconda3/include -arch x86_64 -march=core2 -mtune=haswell -mssse3 -ftree-vectorize -fPIC -fPIE -fstack-protector-strong -O2 -pipe -isystem /Users/halledavis/opt/anaconda3/include -D_FORTIFY_SOURCE=2 -isystem /Users/halledavis/opt/anaconda3/include -DFREETYPE_BUILD_TYPE=system -DPY_ARRAY_UNIQUE_SYMBOL=MPL_matplotlib_ft2font_ARRAY_API -DNPY_NO_DEPRECATED_API=NPY_1_7_API_VERSION -D__STDC_FORMAT_MACROS=1 -Iextern/agg24-svn/include -I/Users/halledavis/opt/anaconda3/lib/python3.9/site-packages/numpy/core/include -I/Users/halledavis/opt/anaconda3/include/python3.9 -c src/checkdep_freetype2.c -o build/temp.macosx-10.9-x86_64-3.9/src/checkdep_freetype2.o -I/Users/halledavis/opt/anaconda3/include/freetype2\n",
      "  src/checkdep_freetype2.c:7:9: warning: Compiling with FreeType version 2.10.4. [-W#pragma-messages]\n",
      "  #pragma message(\"Compiling with FreeType version \" \\\n",
      "          ^\n",
      "  1 warning generated.\n",
      "  x86_64-apple-darwin13.4.0-clang -Wno-unused-result -Wsign-compare -Wunreachable-code -DNDEBUG -fwrapv -O2 -Wall -march=core2 -mtune=haswell -mssse3 -ftree-vectorize -fPIC -fPIE -fstack-protector-strong -O2 -pipe -isystem /Users/halledavis/opt/anaconda3/include -arch x86_64 -I/Users/halledavis/opt/anaconda3/include -march=core2 -mtune=haswell -mssse3 -ftree-vectorize -fPIC -fPIE -fstack-protector-strong -O2 -pipe -isystem /Users/halledavis/opt/anaconda3/include -arch x86_64 -march=core2 -mtune=haswell -mssse3 -ftree-vectorize -fPIC -fPIE -fstack-protector-strong -O2 -pipe -isystem /Users/halledavis/opt/anaconda3/include -D_FORTIFY_SOURCE=2 -isystem /Users/halledavis/opt/anaconda3/include -DFREETYPE_BUILD_TYPE=system -DPY_ARRAY_UNIQUE_SYMBOL=MPL_matplotlib_ft2font_ARRAY_API -DNPY_NO_DEPRECATED_API=NPY_1_7_API_VERSION -D__STDC_FORMAT_MACROS=1 -Iextern/agg24-svn/include -I/Users/halledavis/opt/anaconda3/lib/python3.9/site-packages/numpy/core/include -I/Users/halledavis/opt/anaconda3/include/python3.9 -c src/ft2font.cpp -o build/temp.macosx-10.9-x86_64-3.9/src/ft2font.o -I/Users/halledavis/opt/anaconda3/include/freetype2\n",
      "  x86_64-apple-darwin13.4.0-clang -Wno-unused-result -Wsign-compare -Wunreachable-code -DNDEBUG -fwrapv -O2 -Wall -march=core2 -mtune=haswell -mssse3 -ftree-vectorize -fPIC -fPIE -fstack-protector-strong -O2 -pipe -isystem /Users/halledavis/opt/anaconda3/include -arch x86_64 -I/Users/halledavis/opt/anaconda3/include -march=core2 -mtune=haswell -mssse3 -ftree-vectorize -fPIC -fPIE -fstack-protector-strong -O2 -pipe -isystem /Users/halledavis/opt/anaconda3/include -arch x86_64 -march=core2 -mtune=haswell -mssse3 -ftree-vectorize -fPIC -fPIE -fstack-protector-strong -O2 -pipe -isystem /Users/halledavis/opt/anaconda3/include -D_FORTIFY_SOURCE=2 -isystem /Users/halledavis/opt/anaconda3/include -DFREETYPE_BUILD_TYPE=system -DPY_ARRAY_UNIQUE_SYMBOL=MPL_matplotlib_ft2font_ARRAY_API -DNPY_NO_DEPRECATED_API=NPY_1_7_API_VERSION -D__STDC_FORMAT_MACROS=1 -Iextern/agg24-svn/include -I/Users/halledavis/opt/anaconda3/lib/python3.9/site-packages/numpy/core/include -I/Users/halledavis/opt/anaconda3/include/python3.9 -c src/ft2font_wrapper.cpp -o build/temp.macosx-10.9-x86_64-3.9/src/ft2font_wrapper.o -I/Users/halledavis/opt/anaconda3/include/freetype2\n",
      "  In file included from src/ft2font_wrapper.cpp:4:\n",
      "  In file included from src/py_converters.h:18:\n",
      "  In file included from src/_backend_agg_basic_types.h:9:\n",
      "  In file included from extern/agg24-svn/include/agg_color_rgba.h:28:\n",
      "  extern/agg24-svn/include/agg_basics.h:231:13: warning: 'register' storage class specifier is deprecated and incompatible with C++17 [-Wdeprecated-register]\n",
      "              register unsigned q = a * b + (1 << (Shift-1));\n",
      "              ^~~~~~~~~\n",
      "  In file included from src/ft2font_wrapper.cpp:4:\n",
      "  In file included from src/py_converters.h:18:\n",
      "  In file included from src/_backend_agg_basic_types.h:11:\n",
      "  In file included from src/path_converters.h:8:\n",
      "  In file included from extern/agg24-svn/include/agg_path_storage.h:23:\n",
      "  In file included from extern/agg24-svn/include/agg_bezier_arc.h:24:\n",
      "  In file included from extern/agg24-svn/include/agg_conv_transform.h:23:\n",
      "  extern/agg24-svn/include/agg_trans_affine.h:295:9: warning: 'register' storage class specifier is deprecated and incompatible with C++17 [-Wdeprecated-register]\n",
      "          register double tmp = *x;\n",
      "          ^~~~~~~~~\n",
      "  extern/agg24-svn/include/agg_trans_affine.h:303:9: warning: 'register' storage class specifier is deprecated and incompatible with C++17 [-Wdeprecated-register]\n",
      "          register double tmp = *x;\n",
      "          ^~~~~~~~~\n",
      "  extern/agg24-svn/include/agg_trans_affine.h:311:9: warning: 'register' storage class specifier is deprecated and incompatible with C++17 [-Wdeprecated-register]\n",
      "          register double d = determinant_reciprocal();\n",
      "          ^~~~~~~~~\n",
      "  extern/agg24-svn/include/agg_trans_affine.h:312:9: warning: 'register' storage class specifier is deprecated and incompatible with C++17 [-Wdeprecated-register]\n",
      "          register double a = (*x - tx) * d;\n",
      "          ^~~~~~~~~\n",
      "  extern/agg24-svn/include/agg_trans_affine.h:313:9: warning: 'register' storage class specifier is deprecated and incompatible with C++17 [-Wdeprecated-register]\n",
      "          register double b = (*y - ty) * d;\n",
      "          ^~~~~~~~~\n",
      "  src/ft2font_wrapper.cpp:665:16: warning: '_PyUnicode_get_wstr_length' is deprecated [-Wdeprecated-declarations]\n",
      "          size = PyUnicode_GET_SIZE(textobj);\n",
      "                 ^\n",
      "  /Users/halledavis/opt/anaconda3/include/python3.9/cpython/unicodeobject.h:261:7: note: expanded from macro 'PyUnicode_GET_SIZE'\n",
      "        PyUnicode_WSTR_LENGTH(op) :                    \\\n",
      "        ^\n",
      "  /Users/halledavis/opt/anaconda3/include/python3.9/cpython/unicodeobject.h:451:35: note: expanded from macro 'PyUnicode_WSTR_LENGTH'\n",
      "  #define PyUnicode_WSTR_LENGTH(op) _PyUnicode_get_wstr_length((PyObject*)op)\n",
      "                                    ^\n",
      "  /Users/halledavis/opt/anaconda3/include/python3.9/cpython/unicodeobject.h:445:1: note: '_PyUnicode_get_wstr_length' has been explicitly marked deprecated here\n",
      "  Py_DEPRECATED(3.3)\n",
      "  ^\n",
      "  /Users/halledavis/opt/anaconda3/include/python3.9/pyport.h:508:54: note: expanded from macro 'Py_DEPRECATED'\n",
      "  #define Py_DEPRECATED(VERSION_UNUSED) __attribute__((__deprecated__))\n",
      "                                                       ^\n",
      "  src/ft2font_wrapper.cpp:665:16: warning: 'PyUnicode_AsUnicode' is deprecated [-Wdeprecated-declarations]\n",
      "          size = PyUnicode_GET_SIZE(textobj);\n",
      "                 ^\n",
      "  /Users/halledavis/opt/anaconda3/include/python3.9/cpython/unicodeobject.h:262:14: note: expanded from macro 'PyUnicode_GET_SIZE'\n",
      "        ((void)PyUnicode_AsUnicode(_PyObject_CAST(op)),\\\n",
      "               ^\n",
      "  /Users/halledavis/opt/anaconda3/include/python3.9/cpython/unicodeobject.h:580:1: note: 'PyUnicode_AsUnicode' has been explicitly marked deprecated here\n",
      "  Py_DEPRECATED(3.3) PyAPI_FUNC(Py_UNICODE *) PyUnicode_AsUnicode(\n",
      "  ^\n",
      "  /Users/halledavis/opt/anaconda3/include/python3.9/pyport.h:508:54: note: expanded from macro 'Py_DEPRECATED'\n",
      "  #define Py_DEPRECATED(VERSION_UNUSED) __attribute__((__deprecated__))\n",
      "                                                       ^\n",
      "  src/ft2font_wrapper.cpp:665:16: warning: '_PyUnicode_get_wstr_length' is deprecated [-Wdeprecated-declarations]\n",
      "          size = PyUnicode_GET_SIZE(textobj);\n",
      "                 ^\n",
      "  /Users/halledavis/opt/anaconda3/include/python3.9/cpython/unicodeobject.h:264:8: note: expanded from macro 'PyUnicode_GET_SIZE'\n",
      "         PyUnicode_WSTR_LENGTH(op)))\n",
      "         ^\n",
      "  /Users/halledavis/opt/anaconda3/include/python3.9/cpython/unicodeobject.h:451:35: note: expanded from macro 'PyUnicode_WSTR_LENGTH'\n",
      "  #define PyUnicode_WSTR_LENGTH(op) _PyUnicode_get_wstr_length((PyObject*)op)\n",
      "                                    ^\n",
      "  /Users/halledavis/opt/anaconda3/include/python3.9/cpython/unicodeobject.h:445:1: note: '_PyUnicode_get_wstr_length' has been explicitly marked deprecated here\n",
      "  Py_DEPRECATED(3.3)\n",
      "  ^\n",
      "  /Users/halledavis/opt/anaconda3/include/python3.9/pyport.h:508:54: note: expanded from macro 'Py_DEPRECATED'\n",
      "  #define Py_DEPRECATED(VERSION_UNUSED) __attribute__((__deprecated__))\n",
      "                                                       ^\n",
      "  src/ft2font_wrapper.cpp:667:30: warning: 'PyUnicode_AsUnicode' is deprecated [-Wdeprecated-declarations]\n",
      "          Py_UNICODE *unistr = PyUnicode_AsUnicode(textobj);\n",
      "                               ^\n",
      "  /Users/halledavis/opt/anaconda3/include/python3.9/cpython/unicodeobject.h:580:1: note: 'PyUnicode_AsUnicode' has been explicitly marked deprecated here\n",
      "  Py_DEPRECATED(3.3) PyAPI_FUNC(Py_UNICODE *) PyUnicode_AsUnicode(\n",
      "  ^\n",
      "  /Users/halledavis/opt/anaconda3/include/python3.9/pyport.h:508:54: note: expanded from macro 'Py_DEPRECATED'\n",
      "  #define Py_DEPRECATED(VERSION_UNUSED) __attribute__((__deprecated__))\n",
      "                                                       ^\n",
      "  10 warnings generated.\n"
     ]
    },
    {
     "name": "stdout",
     "output_type": "stream",
     "text": [
      "  x86_64-apple-darwin13.4.0-clang -Wno-unused-result -Wsign-compare -Wunreachable-code -DNDEBUG -fwrapv -O2 -Wall -march=core2 -mtune=haswell -mssse3 -ftree-vectorize -fPIC -fPIE -fstack-protector-strong -O2 -pipe -isystem /Users/halledavis/opt/anaconda3/include -arch x86_64 -I/Users/halledavis/opt/anaconda3/include -march=core2 -mtune=haswell -mssse3 -ftree-vectorize -fPIC -fPIE -fstack-protector-strong -O2 -pipe -isystem /Users/halledavis/opt/anaconda3/include -arch x86_64 -march=core2 -mtune=haswell -mssse3 -ftree-vectorize -fPIC -fPIE -fstack-protector-strong -O2 -pipe -isystem /Users/halledavis/opt/anaconda3/include -D_FORTIFY_SOURCE=2 -isystem /Users/halledavis/opt/anaconda3/include -DFREETYPE_BUILD_TYPE=system -DPY_ARRAY_UNIQUE_SYMBOL=MPL_matplotlib_ft2font_ARRAY_API -DNPY_NO_DEPRECATED_API=NPY_1_7_API_VERSION -D__STDC_FORMAT_MACROS=1 -Iextern/agg24-svn/include -I/Users/halledavis/opt/anaconda3/lib/python3.9/site-packages/numpy/core/include -I/Users/halledavis/opt/anaconda3/include/python3.9 -c src/mplutils.cpp -o build/temp.macosx-10.9-x86_64-3.9/src/mplutils.o -I/Users/halledavis/opt/anaconda3/include/freetype2\n",
      "  x86_64-apple-darwin13.4.0-clang -Wno-unused-result -Wsign-compare -Wunreachable-code -DNDEBUG -fwrapv -O2 -Wall -march=core2 -mtune=haswell -mssse3 -ftree-vectorize -fPIC -fPIE -fstack-protector-strong -O2 -pipe -isystem /Users/halledavis/opt/anaconda3/include -arch x86_64 -I/Users/halledavis/opt/anaconda3/include -march=core2 -mtune=haswell -mssse3 -ftree-vectorize -fPIC -fPIE -fstack-protector-strong -O2 -pipe -isystem /Users/halledavis/opt/anaconda3/include -arch x86_64 -march=core2 -mtune=haswell -mssse3 -ftree-vectorize -fPIC -fPIE -fstack-protector-strong -O2 -pipe -isystem /Users/halledavis/opt/anaconda3/include -D_FORTIFY_SOURCE=2 -isystem /Users/halledavis/opt/anaconda3/include -DFREETYPE_BUILD_TYPE=system -DPY_ARRAY_UNIQUE_SYMBOL=MPL_matplotlib_ft2font_ARRAY_API -DNPY_NO_DEPRECATED_API=NPY_1_7_API_VERSION -D__STDC_FORMAT_MACROS=1 -Iextern/agg24-svn/include -I/Users/halledavis/opt/anaconda3/lib/python3.9/site-packages/numpy/core/include -I/Users/halledavis/opt/anaconda3/include/python3.9 -c src/py_converters.cpp -o build/temp.macosx-10.9-x86_64-3.9/src/py_converters.o -I/Users/halledavis/opt/anaconda3/include/freetype2\n",
      "  In file included from src/py_converters.cpp:3:\n",
      "  In file included from src/py_converters.h:18:\n",
      "  In file included from src/_backend_agg_basic_types.h:9:\n",
      "  In file included from extern/agg24-svn/include/agg_color_rgba.h:28:\n",
      "  extern/agg24-svn/include/agg_basics.h:231:13: warning: 'register' storage class specifier is deprecated and incompatible with C++17 [-Wdeprecated-register]\n",
      "              register unsigned q = a * b + (1 << (Shift-1));\n",
      "              ^~~~~~~~~\n",
      "  In file included from src/py_converters.cpp:3:\n",
      "  In file included from src/py_converters.h:18:\n",
      "  In file included from src/_backend_agg_basic_types.h:11:\n",
      "  In file included from src/path_converters.h:8:\n",
      "  In file included from extern/agg24-svn/include/agg_path_storage.h:23:\n",
      "  In file included from extern/agg24-svn/include/agg_bezier_arc.h:24:\n",
      "  In file included from extern/agg24-svn/include/agg_conv_transform.h:23:\n",
      "  extern/agg24-svn/include/agg_trans_affine.h:295:9: warning: 'register' storage class specifier is deprecated and incompatible with C++17 [-Wdeprecated-register]\n",
      "          register double tmp = *x;\n",
      "          ^~~~~~~~~\n",
      "  extern/agg24-svn/include/agg_trans_affine.h:303:9: warning: 'register' storage class specifier is deprecated and incompatible with C++17 [-Wdeprecated-register]\n",
      "          register double tmp = *x;\n",
      "          ^~~~~~~~~\n",
      "  extern/agg24-svn/include/agg_trans_affine.h:311:9: warning: 'register' storage class specifier is deprecated and incompatible with C++17 [-Wdeprecated-register]\n",
      "          register double d = determinant_reciprocal();\n",
      "          ^~~~~~~~~\n",
      "  extern/agg24-svn/include/agg_trans_affine.h:312:9: warning: 'register' storage class specifier is deprecated and incompatible with C++17 [-Wdeprecated-register]\n",
      "          register double a = (*x - tx) * d;\n",
      "          ^~~~~~~~~\n",
      "  extern/agg24-svn/include/agg_trans_affine.h:313:9: warning: 'register' storage class specifier is deprecated and incompatible with C++17 [-Wdeprecated-register]\n",
      "          register double b = (*y - ty) * d;\n",
      "          ^~~~~~~~~\n",
      "  6 warnings generated.\n",
      "  x86_64-apple-darwin13.4.0-clang++ -bundle -undefined dynamic_lookup -Wl,-pie -Wl,-headerpad_max_install_names -Wl,-dead_strip_dylibs -Wl,-rpath,/Users/halledavis/opt/anaconda3/lib -L/Users/halledavis/opt/anaconda3/lib -L/Users/halledavis/opt/anaconda3/lib -Wl,-pie -Wl,-headerpad_max_install_names -Wl,-dead_strip_dylibs -Wl,-rpath,/Users/halledavis/opt/anaconda3/lib -L/Users/halledavis/opt/anaconda3/lib -Wl,-pie -Wl,-headerpad_max_install_names -Wl,-dead_strip_dylibs -Wl,-rpath,/Users/halledavis/opt/anaconda3/lib -L/Users/halledavis/opt/anaconda3/lib -march=core2 -mtune=haswell -mssse3 -ftree-vectorize -fPIC -fPIE -fstack-protector-strong -O2 -pipe -isystem /Users/halledavis/opt/anaconda3/include -D_FORTIFY_SOURCE=2 -isystem /Users/halledavis/opt/anaconda3/include -arch x86_64 build/temp.macosx-10.9-x86_64-3.9/src/checkdep_freetype2.o build/temp.macosx-10.9-x86_64-3.9/src/ft2font.o build/temp.macosx-10.9-x86_64-3.9/src/ft2font_wrapper.o build/temp.macosx-10.9-x86_64-3.9/src/mplutils.o build/temp.macosx-10.9-x86_64-3.9/src/py_converters.o -o build/lib.macosx-10.9-x86_64-3.9/matplotlib/ft2font.cpython-39-darwin.so -L/Users/halledavis/opt/anaconda3/lib -lfreetype\n",
      "  ld: warning: -pie being ignored. It is only used when linking a main executable\n",
      "  ld: unsupported tapi file type '!tapi-tbd' in YAML file '/Applications/Xcode.app/Contents/Developer/Platforms/MacOSX.platform/Developer/SDKs/MacOSX.sdk/usr/lib/libSystem.tbd' for architecture x86_64\n",
      "  clang-12: error: linker command failed with exit code 1 (use -v to see invocation)\n",
      "  error: command '/Users/halledavis/opt/anaconda3/bin/x86_64-apple-darwin13.4.0-clang++' failed with exit code 1\n",
      "  ----------------------------------------\u001b[0m\n",
      "\u001b[31m  ERROR: Failed building wheel for matplotlib\u001b[0m\n",
      "\u001b[?25h  Running setup.py clean for matplotlib\n",
      "Failed to build matplotlib\n",
      "\u001b[33mWARNING: Ignoring invalid distribution -atplotlib (/Users/halledavis/opt/anaconda3/lib/python3.9/site-packages)\u001b[0m\n",
      "Installing collected packages: matplotlib\n",
      "  Attempting uninstall: matplotlib\n",
      "\u001b[33m    WARNING: Ignoring invalid distribution -atplotlib (/Users/halledavis/opt/anaconda3/lib/python3.9/site-packages)\u001b[0m\n",
      "    Found existing installation: matplotlib 3.6.1\n",
      "    Uninstalling matplotlib-3.6.1:\n",
      "      Successfully uninstalled matplotlib-3.6.1\n",
      "    Running setup.py install for matplotlib ... \u001b[?25lerror\n",
      "\u001b[31m    ERROR: Command errored out with exit status 1:\n",
      "     command: /Users/halledavis/opt/anaconda3/bin/python -u -c 'import io, os, sys, setuptools, tokenize; sys.argv[0] = '\"'\"'/private/var/folders/4w/bl1whnz1491dljnl9k34l06h0000gn/T/pip-install-_7untfwz/matplotlib_1fc36d72c1804301b01eba39e7a25808/setup.py'\"'\"'; __file__='\"'\"'/private/var/folders/4w/bl1whnz1491dljnl9k34l06h0000gn/T/pip-install-_7untfwz/matplotlib_1fc36d72c1804301b01eba39e7a25808/setup.py'\"'\"';f = getattr(tokenize, '\"'\"'open'\"'\"', open)(__file__) if os.path.exists(__file__) else io.StringIO('\"'\"'from setuptools import setup; setup()'\"'\"');code = f.read().replace('\"'\"'\\r\\n'\"'\"', '\"'\"'\\n'\"'\"');f.close();exec(compile(code, __file__, '\"'\"'exec'\"'\"'))' install --record /private/var/folders/4w/bl1whnz1491dljnl9k34l06h0000gn/T/pip-record-mps5i8pc/install-record.txt --single-version-externally-managed --compile --install-headers /Users/halledavis/opt/anaconda3/include/python3.9/matplotlib\n",
      "         cwd: /private/var/folders/4w/bl1whnz1491dljnl9k34l06h0000gn/T/pip-install-_7untfwz/matplotlib_1fc36d72c1804301b01eba39e7a25808/\n",
      "    Complete output (624 lines):\n",
      "    ================================================================================\n",
      "    Edit setup.cfg to change the build options\n",
      "    \n",
      "    BUILDING MATPLOTLIB\n",
      "      matplotlib: yes [3.1.3]\n",
      "          python: yes [3.9.7 (default, Sep 16 2021, 08:50:36)  [Clang 10.0.0 ]]\n",
      "        platform: yes [darwin]\n",
      "    \n",
      "    OPTIONAL SUBPACKAGES\n",
      "     sample_data: yes [installing]\n",
      "           tests: no  [skipping due to configuration]\n",
      "    \n",
      "    OPTIONAL BACKEND EXTENSIONS\n",
      "             agg: yes [installing]\n",
      "           tkagg: yes [installing; run-time loading from Python Tcl/Tk]\n",
      "          macosx: yes [installing, darwin]\n",
      "    \n",
      "    OPTIONAL PACKAGE DATA\n",
      "            dlls: no  [skipping due to configuration]\n",
      "    \n",
      "    running install\n",
      "    running build\n",
      "    running build_py\n",
      "    creating build\n",
      "    creating build/lib.macosx-10.9-x86_64-3.9\n",
      "    copying lib/pylab.py -> build/lib.macosx-10.9-x86_64-3.9\n",
      "    creating build/lib.macosx-10.9-x86_64-3.9/mpl_toolkits\n",
      "    copying lib/mpl_toolkits/__init__.py -> build/lib.macosx-10.9-x86_64-3.9/mpl_toolkits\n",
      "    creating build/lib.macosx-10.9-x86_64-3.9/matplotlib\n",
      "    copying lib/matplotlib/hatch.py -> build/lib.macosx-10.9-x86_64-3.9/matplotlib\n",
      "    copying lib/matplotlib/transforms.py -> build/lib.macosx-10.9-x86_64-3.9/matplotlib\n",
      "    copying lib/matplotlib/legend_handler.py -> build/lib.macosx-10.9-x86_64-3.9/matplotlib\n",
      "    copying lib/matplotlib/axis.py -> build/lib.macosx-10.9-x86_64-3.9/matplotlib\n",
      "    copying lib/matplotlib/textpath.py -> build/lib.macosx-10.9-x86_64-3.9/matplotlib\n",
      "    copying lib/matplotlib/quiver.py -> build/lib.macosx-10.9-x86_64-3.9/matplotlib\n",
      "    copying lib/matplotlib/backend_bases.py -> build/lib.macosx-10.9-x86_64-3.9/matplotlib\n",
      "    copying lib/matplotlib/units.py -> build/lib.macosx-10.9-x86_64-3.9/matplotlib\n",
      "    copying lib/matplotlib/pylab.py -> build/lib.macosx-10.9-x86_64-3.9/matplotlib\n",
      "    copying lib/matplotlib/colorbar.py -> build/lib.macosx-10.9-x86_64-3.9/matplotlib\n",
      "    copying lib/matplotlib/_version.py -> build/lib.macosx-10.9-x86_64-3.9/matplotlib\n",
      "    copying lib/matplotlib/_cm.py -> build/lib.macosx-10.9-x86_64-3.9/matplotlib\n",
      "    copying lib/matplotlib/backend_managers.py -> build/lib.macosx-10.9-x86_64-3.9/matplotlib\n",
      "    copying lib/matplotlib/mathtext.py -> build/lib.macosx-10.9-x86_64-3.9/matplotlib\n",
      "    copying lib/matplotlib/font_manager.py -> build/lib.macosx-10.9-x86_64-3.9/matplotlib\n",
      "    copying lib/matplotlib/bezier.py -> build/lib.macosx-10.9-x86_64-3.9/matplotlib\n",
      "    copying lib/matplotlib/cm.py -> build/lib.macosx-10.9-x86_64-3.9/matplotlib\n",
      "    copying lib/matplotlib/legend.py -> build/lib.macosx-10.9-x86_64-3.9/matplotlib\n",
      "    copying lib/matplotlib/figure.py -> build/lib.macosx-10.9-x86_64-3.9/matplotlib\n",
      "    copying lib/matplotlib/__init__.py -> build/lib.macosx-10.9-x86_64-3.9/matplotlib\n",
      "    copying lib/matplotlib/offsetbox.py -> build/lib.macosx-10.9-x86_64-3.9/matplotlib\n",
      "    copying lib/matplotlib/tight_bbox.py -> build/lib.macosx-10.9-x86_64-3.9/matplotlib\n",
      "    copying lib/matplotlib/container.py -> build/lib.macosx-10.9-x86_64-3.9/matplotlib\n",
      "    copying lib/matplotlib/gridspec.py -> build/lib.macosx-10.9-x86_64-3.9/matplotlib\n",
      "    copying lib/matplotlib/lines.py -> build/lib.macosx-10.9-x86_64-3.9/matplotlib\n",
      "    copying lib/matplotlib/widgets.py -> build/lib.macosx-10.9-x86_64-3.9/matplotlib\n",
      "    copying lib/matplotlib/blocking_input.py -> build/lib.macosx-10.9-x86_64-3.9/matplotlib\n",
      "    copying lib/matplotlib/dviread.py -> build/lib.macosx-10.9-x86_64-3.9/matplotlib\n",
      "    copying lib/matplotlib/animation.py -> build/lib.macosx-10.9-x86_64-3.9/matplotlib\n",
      "    copying lib/matplotlib/type1font.py -> build/lib.macosx-10.9-x86_64-3.9/matplotlib\n",
      "    copying lib/matplotlib/_mathtext_data.py -> build/lib.macosx-10.9-x86_64-3.9/matplotlib\n",
      "    copying lib/matplotlib/artist.py -> build/lib.macosx-10.9-x86_64-3.9/matplotlib\n",
      "    copying lib/matplotlib/backend_tools.py -> build/lib.macosx-10.9-x86_64-3.9/matplotlib\n",
      "    copying lib/matplotlib/docstring.py -> build/lib.macosx-10.9-x86_64-3.9/matplotlib\n",
      "    copying lib/matplotlib/_color_data.py -> build/lib.macosx-10.9-x86_64-3.9/matplotlib\n",
      "    copying lib/matplotlib/texmanager.py -> build/lib.macosx-10.9-x86_64-3.9/matplotlib\n",
      "    copying lib/matplotlib/afm.py -> build/lib.macosx-10.9-x86_64-3.9/matplotlib\n",
      "    copying lib/matplotlib/patches.py -> build/lib.macosx-10.9-x86_64-3.9/matplotlib\n",
      "    copying lib/matplotlib/stackplot.py -> build/lib.macosx-10.9-x86_64-3.9/matplotlib\n",
      "    copying lib/matplotlib/collections.py -> build/lib.macosx-10.9-x86_64-3.9/matplotlib\n",
      "    copying lib/matplotlib/spines.py -> build/lib.macosx-10.9-x86_64-3.9/matplotlib\n",
      "    copying lib/matplotlib/text.py -> build/lib.macosx-10.9-x86_64-3.9/matplotlib\n",
      "    copying lib/matplotlib/markers.py -> build/lib.macosx-10.9-x86_64-3.9/matplotlib\n",
      "    copying lib/matplotlib/mlab.py -> build/lib.macosx-10.9-x86_64-3.9/matplotlib\n",
      "    copying lib/matplotlib/fontconfig_pattern.py -> build/lib.macosx-10.9-x86_64-3.9/matplotlib\n",
      "    copying lib/matplotlib/_pylab_helpers.py -> build/lib.macosx-10.9-x86_64-3.9/matplotlib\n",
      "    copying lib/matplotlib/tight_layout.py -> build/lib.macosx-10.9-x86_64-3.9/matplotlib\n",
      "    copying lib/matplotlib/_cm_listed.py -> build/lib.macosx-10.9-x86_64-3.9/matplotlib\n",
      "    copying lib/matplotlib/dates.py -> build/lib.macosx-10.9-x86_64-3.9/matplotlib\n",
      "    copying lib/matplotlib/table.py -> build/lib.macosx-10.9-x86_64-3.9/matplotlib\n",
      "    copying lib/matplotlib/_animation_data.py -> build/lib.macosx-10.9-x86_64-3.9/matplotlib\n",
      "    copying lib/matplotlib/pyplot.py -> build/lib.macosx-10.9-x86_64-3.9/matplotlib\n",
      "    copying lib/matplotlib/rcsetup.py -> build/lib.macosx-10.9-x86_64-3.9/matplotlib\n",
      "    copying lib/matplotlib/ticker.py -> build/lib.macosx-10.9-x86_64-3.9/matplotlib\n",
      "    copying lib/matplotlib/path.py -> build/lib.macosx-10.9-x86_64-3.9/matplotlib\n",
      "    copying lib/matplotlib/contour.py -> build/lib.macosx-10.9-x86_64-3.9/matplotlib\n",
      "    copying lib/matplotlib/_layoutbox.py -> build/lib.macosx-10.9-x86_64-3.9/matplotlib\n",
      "    copying lib/matplotlib/image.py -> build/lib.macosx-10.9-x86_64-3.9/matplotlib\n",
      "    copying lib/matplotlib/scale.py -> build/lib.macosx-10.9-x86_64-3.9/matplotlib\n",
      "    copying lib/matplotlib/category.py -> build/lib.macosx-10.9-x86_64-3.9/matplotlib\n",
      "    copying lib/matplotlib/_constrained_layout.py -> build/lib.macosx-10.9-x86_64-3.9/matplotlib\n",
      "    copying lib/matplotlib/sankey.py -> build/lib.macosx-10.9-x86_64-3.9/matplotlib\n",
      "    copying lib/matplotlib/patheffects.py -> build/lib.macosx-10.9-x86_64-3.9/matplotlib\n",
      "    copying lib/matplotlib/streamplot.py -> build/lib.macosx-10.9-x86_64-3.9/matplotlib\n",
      "    copying lib/matplotlib/colors.py -> build/lib.macosx-10.9-x86_64-3.9/matplotlib\n",
      "    creating build/lib.macosx-10.9-x86_64-3.9/mpl_toolkits/axes_grid1\n",
      "    copying lib/mpl_toolkits/axes_grid1/inset_locator.py -> build/lib.macosx-10.9-x86_64-3.9/mpl_toolkits/axes_grid1\n",
      "    copying lib/mpl_toolkits/axes_grid1/axes_grid.py -> build/lib.macosx-10.9-x86_64-3.9/mpl_toolkits/axes_grid1\n",
      "    copying lib/mpl_toolkits/axes_grid1/parasite_axes.py -> build/lib.macosx-10.9-x86_64-3.9/mpl_toolkits/axes_grid1\n",
      "    copying lib/mpl_toolkits/axes_grid1/colorbar.py -> build/lib.macosx-10.9-x86_64-3.9/mpl_toolkits/axes_grid1\n",
      "    copying lib/mpl_toolkits/axes_grid1/anchored_artists.py -> build/lib.macosx-10.9-x86_64-3.9/mpl_toolkits/axes_grid1\n",
      "    copying lib/mpl_toolkits/axes_grid1/__init__.py -> build/lib.macosx-10.9-x86_64-3.9/mpl_toolkits/axes_grid1\n",
      "    copying lib/mpl_toolkits/axes_grid1/axes_size.py -> build/lib.macosx-10.9-x86_64-3.9/mpl_toolkits/axes_grid1\n",
      "    copying lib/mpl_toolkits/axes_grid1/mpl_axes.py -> build/lib.macosx-10.9-x86_64-3.9/mpl_toolkits/axes_grid1\n",
      "    copying lib/mpl_toolkits/axes_grid1/axes_rgb.py -> build/lib.macosx-10.9-x86_64-3.9/mpl_toolkits/axes_grid1\n",
      "    copying lib/mpl_toolkits/axes_grid1/axes_divider.py -> build/lib.macosx-10.9-x86_64-3.9/mpl_toolkits/axes_grid1\n",
      "    creating build/lib.macosx-10.9-x86_64-3.9/mpl_toolkits/axes_grid\n",
      "    copying lib/mpl_toolkits/axes_grid/inset_locator.py -> build/lib.macosx-10.9-x86_64-3.9/mpl_toolkits/axes_grid\n",
      "    copying lib/mpl_toolkits/axes_grid/axislines.py -> build/lib.macosx-10.9-x86_64-3.9/mpl_toolkits/axes_grid\n",
      "    copying lib/mpl_toolkits/axes_grid/axes_grid.py -> build/lib.macosx-10.9-x86_64-3.9/mpl_toolkits/axes_grid\n",
      "    copying lib/mpl_toolkits/axes_grid/grid_finder.py -> build/lib.macosx-10.9-x86_64-3.9/mpl_toolkits/axes_grid\n",
      "    copying lib/mpl_toolkits/axes_grid/parasite_axes.py -> build/lib.macosx-10.9-x86_64-3.9/mpl_toolkits/axes_grid\n",
      "    copying lib/mpl_toolkits/axes_grid/colorbar.py -> build/lib.macosx-10.9-x86_64-3.9/mpl_toolkits/axes_grid\n",
      "    copying lib/mpl_toolkits/axes_grid/anchored_artists.py -> build/lib.macosx-10.9-x86_64-3.9/mpl_toolkits/axes_grid\n",
      "    copying lib/mpl_toolkits/axes_grid/axis_artist.py -> build/lib.macosx-10.9-x86_64-3.9/mpl_toolkits/axes_grid\n",
      "    copying lib/mpl_toolkits/axes_grid/axisline_style.py -> build/lib.macosx-10.9-x86_64-3.9/mpl_toolkits/axes_grid\n",
      "    copying lib/mpl_toolkits/axes_grid/__init__.py -> build/lib.macosx-10.9-x86_64-3.9/mpl_toolkits/axes_grid\n",
      "    copying lib/mpl_toolkits/axes_grid/axes_size.py -> build/lib.macosx-10.9-x86_64-3.9/mpl_toolkits/axes_grid\n",
      "    copying lib/mpl_toolkits/axes_grid/angle_helper.py -> build/lib.macosx-10.9-x86_64-3.9/mpl_toolkits/axes_grid\n",
      "    copying lib/mpl_toolkits/axes_grid/grid_helper_curvelinear.py -> build/lib.macosx-10.9-x86_64-3.9/mpl_toolkits/axes_grid\n",
      "    copying lib/mpl_toolkits/axes_grid/clip_path.py -> build/lib.macosx-10.9-x86_64-3.9/mpl_toolkits/axes_grid\n",
      "    copying lib/mpl_toolkits/axes_grid/floating_axes.py -> build/lib.macosx-10.9-x86_64-3.9/mpl_toolkits/axes_grid\n",
      "    copying lib/mpl_toolkits/axes_grid/axes_rgb.py -> build/lib.macosx-10.9-x86_64-3.9/mpl_toolkits/axes_grid\n",
      "    copying lib/mpl_toolkits/axes_grid/axes_divider.py -> build/lib.macosx-10.9-x86_64-3.9/mpl_toolkits/axes_grid\n",
      "    creating build/lib.macosx-10.9-x86_64-3.9/mpl_toolkits/mplot3d\n",
      "    copying lib/mpl_toolkits/mplot3d/proj3d.py -> build/lib.macosx-10.9-x86_64-3.9/mpl_toolkits/mplot3d\n",
      "    copying lib/mpl_toolkits/mplot3d/__init__.py -> build/lib.macosx-10.9-x86_64-3.9/mpl_toolkits/mplot3d\n",
      "    copying lib/mpl_toolkits/mplot3d/axes3d.py -> build/lib.macosx-10.9-x86_64-3.9/mpl_toolkits/mplot3d\n",
      "    copying lib/mpl_toolkits/mplot3d/axis3d.py -> build/lib.macosx-10.9-x86_64-3.9/mpl_toolkits/mplot3d\n",
      "    copying lib/mpl_toolkits/mplot3d/art3d.py -> build/lib.macosx-10.9-x86_64-3.9/mpl_toolkits/mplot3d\n",
      "    creating build/lib.macosx-10.9-x86_64-3.9/mpl_toolkits/axisartist\n",
      "    copying lib/mpl_toolkits/axisartist/axislines.py -> build/lib.macosx-10.9-x86_64-3.9/mpl_toolkits/axisartist\n",
      "    copying lib/mpl_toolkits/axisartist/axes_grid.py -> build/lib.macosx-10.9-x86_64-3.9/mpl_toolkits/axisartist\n",
      "    copying lib/mpl_toolkits/axisartist/grid_finder.py -> build/lib.macosx-10.9-x86_64-3.9/mpl_toolkits/axisartist\n",
      "    copying lib/mpl_toolkits/axisartist/parasite_axes.py -> build/lib.macosx-10.9-x86_64-3.9/mpl_toolkits/axisartist\n",
      "    copying lib/mpl_toolkits/axisartist/axis_artist.py -> build/lib.macosx-10.9-x86_64-3.9/mpl_toolkits/axisartist\n",
      "    copying lib/mpl_toolkits/axisartist/axisline_style.py -> build/lib.macosx-10.9-x86_64-3.9/mpl_toolkits/axisartist\n",
      "    copying lib/mpl_toolkits/axisartist/__init__.py -> build/lib.macosx-10.9-x86_64-3.9/mpl_toolkits/axisartist\n",
      "    copying lib/mpl_toolkits/axisartist/angle_helper.py -> build/lib.macosx-10.9-x86_64-3.9/mpl_toolkits/axisartist\n",
      "    copying lib/mpl_toolkits/axisartist/grid_helper_curvelinear.py -> build/lib.macosx-10.9-x86_64-3.9/mpl_toolkits/axisartist\n",
      "    copying lib/mpl_toolkits/axisartist/clip_path.py -> build/lib.macosx-10.9-x86_64-3.9/mpl_toolkits/axisartist\n",
      "    copying lib/mpl_toolkits/axisartist/floating_axes.py -> build/lib.macosx-10.9-x86_64-3.9/mpl_toolkits/axisartist\n",
      "    copying lib/mpl_toolkits/axisartist/axes_rgb.py -> build/lib.macosx-10.9-x86_64-3.9/mpl_toolkits/axisartist\n",
      "    copying lib/mpl_toolkits/axisartist/axes_divider.py -> build/lib.macosx-10.9-x86_64-3.9/mpl_toolkits/axisartist\n",
      "    creating build/lib.macosx-10.9-x86_64-3.9/matplotlib/compat\n",
      "    copying lib/matplotlib/compat/subprocess.py -> build/lib.macosx-10.9-x86_64-3.9/matplotlib/compat\n",
      "    copying lib/matplotlib/compat/__init__.py -> build/lib.macosx-10.9-x86_64-3.9/matplotlib/compat\n",
      "    creating build/lib.macosx-10.9-x86_64-3.9/matplotlib/tri\n",
      "    copying lib/matplotlib/tri/trirefine.py -> build/lib.macosx-10.9-x86_64-3.9/matplotlib/tri\n",
      "    copying lib/matplotlib/tri/tripcolor.py -> build/lib.macosx-10.9-x86_64-3.9/matplotlib/tri\n",
      "    copying lib/matplotlib/tri/trifinder.py -> build/lib.macosx-10.9-x86_64-3.9/matplotlib/tri\n",
      "    copying lib/matplotlib/tri/__init__.py -> build/lib.macosx-10.9-x86_64-3.9/matplotlib/tri\n",
      "    copying lib/matplotlib/tri/triplot.py -> build/lib.macosx-10.9-x86_64-3.9/matplotlib/tri\n",
      "    copying lib/matplotlib/tri/tritools.py -> build/lib.macosx-10.9-x86_64-3.9/matplotlib/tri\n",
      "    copying lib/matplotlib/tri/tricontour.py -> build/lib.macosx-10.9-x86_64-3.9/matplotlib/tri\n",
      "    copying lib/matplotlib/tri/triangulation.py -> build/lib.macosx-10.9-x86_64-3.9/matplotlib/tri\n",
      "    copying lib/matplotlib/tri/triinterpolate.py -> build/lib.macosx-10.9-x86_64-3.9/matplotlib/tri\n",
      "    creating build/lib.macosx-10.9-x86_64-3.9/matplotlib/axes\n",
      "    copying lib/matplotlib/axes/_axes.py -> build/lib.macosx-10.9-x86_64-3.9/matplotlib/axes\n",
      "    copying lib/matplotlib/axes/_base.py -> build/lib.macosx-10.9-x86_64-3.9/matplotlib/axes\n",
      "    copying lib/matplotlib/axes/_subplots.py -> build/lib.macosx-10.9-x86_64-3.9/matplotlib/axes\n",
      "    copying lib/matplotlib/axes/__init__.py -> build/lib.macosx-10.9-x86_64-3.9/matplotlib/axes\n",
      "    copying lib/matplotlib/axes/_secondary_axes.py -> build/lib.macosx-10.9-x86_64-3.9/matplotlib/axes\n",
      "    creating build/lib.macosx-10.9-x86_64-3.9/matplotlib/sphinxext\n",
      "    copying lib/matplotlib/sphinxext/__init__.py -> build/lib.macosx-10.9-x86_64-3.9/matplotlib/sphinxext\n",
      "    copying lib/matplotlib/sphinxext/mathmpl.py -> build/lib.macosx-10.9-x86_64-3.9/matplotlib/sphinxext\n",
      "    copying lib/matplotlib/sphinxext/plot_directive.py -> build/lib.macosx-10.9-x86_64-3.9/matplotlib/sphinxext\n",
      "    creating build/lib.macosx-10.9-x86_64-3.9/matplotlib/cbook\n",
      "    copying lib/matplotlib/cbook/deprecation.py -> build/lib.macosx-10.9-x86_64-3.9/matplotlib/cbook\n",
      "    copying lib/matplotlib/cbook/__init__.py -> build/lib.macosx-10.9-x86_64-3.9/matplotlib/cbook\n",
      "    creating build/lib.macosx-10.9-x86_64-3.9/matplotlib/backends\n",
      "    copying lib/matplotlib/backends/backend_template.py -> build/lib.macosx-10.9-x86_64-3.9/matplotlib/backends\n",
      "    copying lib/matplotlib/backends/backend_qt4agg.py -> build/lib.macosx-10.9-x86_64-3.9/matplotlib/backends\n",
      "    copying lib/matplotlib/backends/backend_gtk3cairo.py -> build/lib.macosx-10.9-x86_64-3.9/matplotlib/backends\n",
      "    copying lib/matplotlib/backends/backend_tkagg.py -> build/lib.macosx-10.9-x86_64-3.9/matplotlib/backends\n",
      "    copying lib/matplotlib/backends/wx_compat.py -> build/lib.macosx-10.9-x86_64-3.9/matplotlib/backends\n",
      "    copying lib/matplotlib/backends/backend_qt5agg.py -> build/lib.macosx-10.9-x86_64-3.9/matplotlib/backends\n",
      "    copying lib/matplotlib/backends/backend_qt5.py -> build/lib.macosx-10.9-x86_64-3.9/matplotlib/backends\n",
      "    copying lib/matplotlib/backends/backend_gtk3agg.py -> build/lib.macosx-10.9-x86_64-3.9/matplotlib/backends\n",
      "    copying lib/matplotlib/backends/backend_cairo.py -> build/lib.macosx-10.9-x86_64-3.9/matplotlib/backends\n",
      "    copying lib/matplotlib/backends/backend_pdf.py -> build/lib.macosx-10.9-x86_64-3.9/matplotlib/backends\n",
      "    copying lib/matplotlib/backends/backend_wxagg.py -> build/lib.macosx-10.9-x86_64-3.9/matplotlib/backends\n",
      "    copying lib/matplotlib/backends/backend_pgf.py -> build/lib.macosx-10.9-x86_64-3.9/matplotlib/backends\n",
      "    copying lib/matplotlib/backends/backend_mixed.py -> build/lib.macosx-10.9-x86_64-3.9/matplotlib/backends\n",
      "    copying lib/matplotlib/backends/backend_macosx.py -> build/lib.macosx-10.9-x86_64-3.9/matplotlib/backends\n",
      "    copying lib/matplotlib/backends/windowing.py -> build/lib.macosx-10.9-x86_64-3.9/matplotlib/backends\n",
      "    copying lib/matplotlib/backends/__init__.py -> build/lib.macosx-10.9-x86_64-3.9/matplotlib/backends\n",
      "    copying lib/matplotlib/backends/backend_qt4.py -> build/lib.macosx-10.9-x86_64-3.9/matplotlib/backends\n",
      "    copying lib/matplotlib/backends/backend_tkcairo.py -> build/lib.macosx-10.9-x86_64-3.9/matplotlib/backends\n",
      "    copying lib/matplotlib/backends/backend_qt4cairo.py -> build/lib.macosx-10.9-x86_64-3.9/matplotlib/backends\n",
      "    copying lib/matplotlib/backends/backend_gtk3.py -> build/lib.macosx-10.9-x86_64-3.9/matplotlib/backends\n",
      "    copying lib/matplotlib/backends/backend_wxcairo.py -> build/lib.macosx-10.9-x86_64-3.9/matplotlib/backends\n",
      "    copying lib/matplotlib/backends/backend_nbagg.py -> build/lib.macosx-10.9-x86_64-3.9/matplotlib/backends\n",
      "    copying lib/matplotlib/backends/backend_webagg_core.py -> build/lib.macosx-10.9-x86_64-3.9/matplotlib/backends\n",
      "    copying lib/matplotlib/backends/backend_wx.py -> build/lib.macosx-10.9-x86_64-3.9/matplotlib/backends\n",
      "    copying lib/matplotlib/backends/backend_qt5cairo.py -> build/lib.macosx-10.9-x86_64-3.9/matplotlib/backends\n",
      "    copying lib/matplotlib/backends/_backend_tk.py -> build/lib.macosx-10.9-x86_64-3.9/matplotlib/backends\n",
      "    copying lib/matplotlib/backends/qt_compat.py -> build/lib.macosx-10.9-x86_64-3.9/matplotlib/backends\n",
      "    copying lib/matplotlib/backends/backend_svg.py -> build/lib.macosx-10.9-x86_64-3.9/matplotlib/backends\n",
      "    copying lib/matplotlib/backends/_backend_pdf_ps.py -> build/lib.macosx-10.9-x86_64-3.9/matplotlib/backends\n",
      "    copying lib/matplotlib/backends/backend_webagg.py -> build/lib.macosx-10.9-x86_64-3.9/matplotlib/backends\n",
      "    copying lib/matplotlib/backends/tkagg.py -> build/lib.macosx-10.9-x86_64-3.9/matplotlib/backends\n",
      "    copying lib/matplotlib/backends/backend_ps.py -> build/lib.macosx-10.9-x86_64-3.9/matplotlib/backends\n",
      "    copying lib/matplotlib/backends/backend_agg.py -> build/lib.macosx-10.9-x86_64-3.9/matplotlib/backends\n",
      "    creating build/lib.macosx-10.9-x86_64-3.9/matplotlib/style\n",
      "    copying lib/matplotlib/style/__init__.py -> build/lib.macosx-10.9-x86_64-3.9/matplotlib/style\n",
      "    copying lib/matplotlib/style/core.py -> build/lib.macosx-10.9-x86_64-3.9/matplotlib/style\n",
      "    creating build/lib.macosx-10.9-x86_64-3.9/matplotlib/projections\n",
      "    copying lib/matplotlib/projections/geo.py -> build/lib.macosx-10.9-x86_64-3.9/matplotlib/projections\n",
      "    copying lib/matplotlib/projections/polar.py -> build/lib.macosx-10.9-x86_64-3.9/matplotlib/projections\n",
      "    copying lib/matplotlib/projections/__init__.py -> build/lib.macosx-10.9-x86_64-3.9/matplotlib/projections\n",
      "    creating build/lib.macosx-10.9-x86_64-3.9/matplotlib/testing\n",
      "    copying lib/matplotlib/testing/conftest.py -> build/lib.macosx-10.9-x86_64-3.9/matplotlib/testing\n",
      "    copying lib/matplotlib/testing/determinism.py -> build/lib.macosx-10.9-x86_64-3.9/matplotlib/testing\n",
      "    copying lib/matplotlib/testing/__init__.py -> build/lib.macosx-10.9-x86_64-3.9/matplotlib/testing\n",
      "    copying lib/matplotlib/testing/exceptions.py -> build/lib.macosx-10.9-x86_64-3.9/matplotlib/testing\n",
      "    copying lib/matplotlib/testing/disable_internet.py -> build/lib.macosx-10.9-x86_64-3.9/matplotlib/testing\n",
      "    copying lib/matplotlib/testing/compare.py -> build/lib.macosx-10.9-x86_64-3.9/matplotlib/testing\n",
      "    copying lib/matplotlib/testing/decorators.py -> build/lib.macosx-10.9-x86_64-3.9/matplotlib/testing\n",
      "    creating build/lib.macosx-10.9-x86_64-3.9/matplotlib/backends/qt_editor\n",
      "    copying lib/matplotlib/backends/qt_editor/_formlayout.py -> build/lib.macosx-10.9-x86_64-3.9/matplotlib/backends/qt_editor\n",
      "    copying lib/matplotlib/backends/qt_editor/formlayout.py -> build/lib.macosx-10.9-x86_64-3.9/matplotlib/backends/qt_editor\n",
      "    copying lib/matplotlib/backends/qt_editor/__init__.py -> build/lib.macosx-10.9-x86_64-3.9/matplotlib/backends/qt_editor\n",
      "    copying lib/matplotlib/backends/qt_editor/formsubplottool.py -> build/lib.macosx-10.9-x86_64-3.9/matplotlib/backends/qt_editor\n",
      "    copying lib/matplotlib/backends/qt_editor/figureoptions.py -> build/lib.macosx-10.9-x86_64-3.9/matplotlib/backends/qt_editor\n",
      "    creating build/lib.macosx-10.9-x86_64-3.9/matplotlib/testing/jpl_units\n",
      "    copying lib/matplotlib/testing/jpl_units/UnitDblFormatter.py -> build/lib.macosx-10.9-x86_64-3.9/matplotlib/testing/jpl_units\n",
      "    copying lib/matplotlib/testing/jpl_units/UnitDbl.py -> build/lib.macosx-10.9-x86_64-3.9/matplotlib/testing/jpl_units\n",
      "    copying lib/matplotlib/testing/jpl_units/EpochConverter.py -> build/lib.macosx-10.9-x86_64-3.9/matplotlib/testing/jpl_units\n",
      "    copying lib/matplotlib/testing/jpl_units/Duration.py -> build/lib.macosx-10.9-x86_64-3.9/matplotlib/testing/jpl_units\n",
      "    copying lib/matplotlib/testing/jpl_units/__init__.py -> build/lib.macosx-10.9-x86_64-3.9/matplotlib/testing/jpl_units\n",
      "    copying lib/matplotlib/testing/jpl_units/UnitDblConverter.py -> build/lib.macosx-10.9-x86_64-3.9/matplotlib/testing/jpl_units\n",
      "    copying lib/matplotlib/testing/jpl_units/Epoch.py -> build/lib.macosx-10.9-x86_64-3.9/matplotlib/testing/jpl_units\n",
      "    copying lib/matplotlib/testing/jpl_units/StrConverter.py -> build/lib.macosx-10.9-x86_64-3.9/matplotlib/testing/jpl_units\n",
      "    creating build/lib.macosx-10.9-x86_64-3.9/matplotlib/mpl-data\n",
      "    creating build/lib.macosx-10.9-x86_64-3.9/matplotlib/mpl-data/images\n",
      "    copying lib/matplotlib/mpl-data/images/help.svg -> build/lib.macosx-10.9-x86_64-3.9/matplotlib/mpl-data/images\n",
      "    creating build/lib.macosx-10.9-x86_64-3.9/matplotlib/mpl-data/fonts\n",
      "    creating build/lib.macosx-10.9-x86_64-3.9/matplotlib/mpl-data/fonts/afm\n",
      "    copying lib/matplotlib/mpl-data/fonts/afm/pplri8a.afm -> build/lib.macosx-10.9-x86_64-3.9/matplotlib/mpl-data/fonts/afm\n",
      "    creating build/lib.macosx-10.9-x86_64-3.9/matplotlib/mpl-data/fonts/ttf\n",
      "    copying lib/matplotlib/mpl-data/fonts/ttf/STIXNonUniIta.ttf -> build/lib.macosx-10.9-x86_64-3.9/matplotlib/mpl-data/fonts/ttf\n",
      "    copying lib/matplotlib/mpl-data/images/zoom_to_rect.svg -> build/lib.macosx-10.9-x86_64-3.9/matplotlib/mpl-data/images\n",
      "    copying lib/matplotlib/mpl-data/images/qt4_editor_options.png -> build/lib.macosx-10.9-x86_64-3.9/matplotlib/mpl-data/images\n",
      "    copying lib/matplotlib/mpl-data/fonts/ttf/STIXSizThreeSymBol.ttf -> build/lib.macosx-10.9-x86_64-3.9/matplotlib/mpl-data/fonts/ttf\n",
      "    creating build/lib.macosx-10.9-x86_64-3.9/matplotlib/backends/web_backend\n",
      "    creating build/lib.macosx-10.9-x86_64-3.9/matplotlib/backends/web_backend/jquery-ui-1.12.1\n",
      "    copying lib/matplotlib/backends/web_backend/jquery-ui-1.12.1/jquery-ui.min.css -> build/lib.macosx-10.9-x86_64-3.9/matplotlib/backends/web_backend/jquery-ui-1.12.1\n",
      "    copying lib/matplotlib/mpl-data/images/move.png -> build/lib.macosx-10.9-x86_64-3.9/matplotlib/mpl-data/images\n",
      "    copying lib/matplotlib/backends/web_backend/jquery-ui-1.12.1/index.html -> build/lib.macosx-10.9-x86_64-3.9/matplotlib/backends/web_backend/jquery-ui-1.12.1\n",
      "    copying lib/matplotlib/mpl-data/images/help.pdf -> build/lib.macosx-10.9-x86_64-3.9/matplotlib/mpl-data/images\n",
      "    creating build/lib.macosx-10.9-x86_64-3.9/matplotlib/mpl-data/fonts/pdfcorefonts\n",
      "    copying lib/matplotlib/mpl-data/fonts/pdfcorefonts/Times-BoldItalic.afm -> build/lib.macosx-10.9-x86_64-3.9/matplotlib/mpl-data/fonts/pdfcorefonts\n",
      "    creating build/lib.macosx-10.9-x86_64-3.9/matplotlib/mpl-data/stylelib\n",
      "    copying lib/matplotlib/mpl-data/stylelib/seaborn-whitegrid.mplstyle -> build/lib.macosx-10.9-x86_64-3.9/matplotlib/mpl-data/stylelib\n",
      "    copying lib/matplotlib/mpl-data/fonts/afm/pncri8a.afm -> build/lib.macosx-10.9-x86_64-3.9/matplotlib/mpl-data/fonts/afm\n",
      "    copying lib/matplotlib/mpl-data/fonts/ttf/DejaVuSerif-Italic.ttf -> build/lib.macosx-10.9-x86_64-3.9/matplotlib/mpl-data/fonts/ttf\n",
      "    copying lib/matplotlib/mpl-data/fonts/pdfcorefonts/Times-Italic.afm -> build/lib.macosx-10.9-x86_64-3.9/matplotlib/mpl-data/fonts/pdfcorefonts\n",
      "    copying lib/matplotlib/mpl-data/fonts/afm/pncr8a.afm -> build/lib.macosx-10.9-x86_64-3.9/matplotlib/mpl-data/fonts/afm\n",
      "    copying lib/matplotlib/backends/web_backend/jquery-ui-1.12.1/jquery-ui.structure.min.css -> build/lib.macosx-10.9-x86_64-3.9/matplotlib/backends/web_backend/jquery-ui-1.12.1\n",
      "    creating build/lib.macosx-10.9-x86_64-3.9/matplotlib/mpl-data/sample_data\n",
      "    copying lib/matplotlib/mpl-data/sample_data/logo2.png -> build/lib.macosx-10.9-x86_64-3.9/matplotlib/mpl-data/sample_data\n",
      "    copying lib/matplotlib/mpl-data/images/help.ppm -> build/lib.macosx-10.9-x86_64-3.9/matplotlib/mpl-data/images\n",
      "    copying lib/matplotlib/mpl-data/fonts/pdfcorefonts/Helvetica-Bold.afm -> build/lib.macosx-10.9-x86_64-3.9/matplotlib/mpl-data/fonts/pdfcorefonts\n",
      "    copying lib/matplotlib/mpl-data/fonts/afm/phvro8a.afm -> build/lib.macosx-10.9-x86_64-3.9/matplotlib/mpl-data/fonts/afm\n",
      "    copying lib/matplotlib/mpl-data/fonts/afm/pplb8a.afm -> build/lib.macosx-10.9-x86_64-3.9/matplotlib/mpl-data/fonts/afm\n",
      "    copying lib/matplotlib/mpl-data/images/back.gif -> build/lib.macosx-10.9-x86_64-3.9/matplotlib/mpl-data/images\n",
      "    creating build/lib.macosx-10.9-x86_64-3.9/matplotlib/backends/web_backend/jquery\n",
      "    creating build/lib.macosx-10.9-x86_64-3.9/matplotlib/backends/web_backend/jquery/js\n",
      "    copying lib/matplotlib/backends/web_backend/jquery/js/jquery.min.js -> build/lib.macosx-10.9-x86_64-3.9/matplotlib/backends/web_backend/jquery/js\n",
      "    copying lib/matplotlib/mpl-data/images/hand.gif -> build/lib.macosx-10.9-x86_64-3.9/matplotlib/mpl-data/images\n",
      "    copying lib/matplotlib/mpl-data/fonts/ttf/STIXNonUniBol.ttf -> build/lib.macosx-10.9-x86_64-3.9/matplotlib/mpl-data/fonts/ttf\n",
      "    copying lib/matplotlib/backends/web_backend/jquery-ui-1.12.1/jquery-ui.structure.css -> build/lib.macosx-10.9-x86_64-3.9/matplotlib/backends/web_backend/jquery-ui-1.12.1\n",
      "    copying lib/matplotlib/mpl-data/images/hand_large.gif -> build/lib.macosx-10.9-x86_64-3.9/matplotlib/mpl-data/images\n",
      "    copying lib/matplotlib/mpl-data/sample_data/demodata.csv -> build/lib.macosx-10.9-x86_64-3.9/matplotlib/mpl-data/sample_data\n",
      "    copying lib/matplotlib/backends/web_backend/jquery-ui-1.12.1/AUTHORS.txt -> build/lib.macosx-10.9-x86_64-3.9/matplotlib/backends/web_backend/jquery-ui-1.12.1\n",
      "    copying lib/matplotlib/mpl-data/fonts/pdfcorefonts/Helvetica-BoldOblique.afm -> build/lib.macosx-10.9-x86_64-3.9/matplotlib/mpl-data/fonts/pdfcorefonts\n",
      "    copying lib/matplotlib/mpl-data/fonts/ttf/STIXGeneralBol.ttf -> build/lib.macosx-10.9-x86_64-3.9/matplotlib/mpl-data/fonts/ttf\n",
      "    copying lib/matplotlib/mpl-data/images/zoom_to_rect.png -> build/lib.macosx-10.9-x86_64-3.9/matplotlib/mpl-data/images\n",
      "    copying lib/matplotlib/mpl-data/fonts/afm/cmtt10.afm -> build/lib.macosx-10.9-x86_64-3.9/matplotlib/mpl-data/fonts/afm\n",
      "    copying lib/matplotlib/mpl-data/sample_data/ada.png -> build/lib.macosx-10.9-x86_64-3.9/matplotlib/mpl-data/sample_data\n",
      "    copying lib/matplotlib/mpl-data/fonts/afm/pcrro8a.afm -> build/lib.macosx-10.9-x86_64-3.9/matplotlib/mpl-data/fonts/afm\n",
      "    copying lib/matplotlib/mpl-data/stylelib/dark_background.mplstyle -> build/lib.macosx-10.9-x86_64-3.9/matplotlib/mpl-data/stylelib\n",
      "    copying lib/matplotlib/mpl-data/fonts/afm/ptmbi8a.afm -> build/lib.macosx-10.9-x86_64-3.9/matplotlib/mpl-data/fonts/afm\n",
      "    creating build/lib.macosx-10.9-x86_64-3.9/matplotlib/backends/web_backend/jquery-ui-1.12.1/images\n",
      "    copying lib/matplotlib/backends/web_backend/jquery-ui-1.12.1/images/ui-icons_777620_256x240.png -> build/lib.macosx-10.9-x86_64-3.9/matplotlib/backends/web_backend/jquery-ui-1.12.1/images\n",
      "    copying lib/matplotlib/mpl-data/images/help_large.png -> build/lib.macosx-10.9-x86_64-3.9/matplotlib/mpl-data/images\n",
      "    copying lib/matplotlib/mpl-data/images/move.svg -> build/lib.macosx-10.9-x86_64-3.9/matplotlib/mpl-data/images\n",
      "    copying lib/matplotlib/mpl-data/fonts/ttf/DejaVuSans-Oblique.ttf -> build/lib.macosx-10.9-x86_64-3.9/matplotlib/mpl-data/fonts/ttf\n",
      "    copying lib/matplotlib/mpl-data/stylelib/seaborn-poster.mplstyle -> build/lib.macosx-10.9-x86_64-3.9/matplotlib/mpl-data/stylelib\n",
      "    copying lib/matplotlib/mpl-data/fonts/afm/pplr8a.afm -> build/lib.macosx-10.9-x86_64-3.9/matplotlib/mpl-data/fonts/afm\n",
      "    copying lib/matplotlib/mpl-data/images/zoom_to_rect_large.gif -> build/lib.macosx-10.9-x86_64-3.9/matplotlib/mpl-data/images\n",
      "    copying lib/matplotlib/mpl-data/stylelib/seaborn-talk.mplstyle -> build/lib.macosx-10.9-x86_64-3.9/matplotlib/mpl-data/stylelib\n",
      "    copying lib/matplotlib/mpl-data/fonts/afm/phvr8an.afm -> build/lib.macosx-10.9-x86_64-3.9/matplotlib/mpl-data/fonts/afm\n",
      "    copying lib/matplotlib/backends/web_backend/jquery-ui-1.12.1/jquery-ui.js -> build/lib.macosx-10.9-x86_64-3.9/matplotlib/backends/web_backend/jquery-ui-1.12.1\n",
      "    copying lib/matplotlib/mpl-data/images/zoom_to_rect.pdf -> build/lib.macosx-10.9-x86_64-3.9/matplotlib/mpl-data/images\n",
      "    copying lib/matplotlib/mpl-data/fonts/afm/pcrb8a.afm -> build/lib.macosx-10.9-x86_64-3.9/matplotlib/mpl-data/fonts/afm\n",
      "    copying lib/matplotlib/mpl-data/sample_data/grace_hopper.png -> build/lib.macosx-10.9-x86_64-3.9/matplotlib/mpl-data/sample_data\n",
      "    copying lib/matplotlib/mpl-data/stylelib/bmh.mplstyle -> build/lib.macosx-10.9-x86_64-3.9/matplotlib/mpl-data/stylelib\n",
      "    copying lib/matplotlib/mpl-data/fonts/pdfcorefonts/Times-Roman.afm -> build/lib.macosx-10.9-x86_64-3.9/matplotlib/mpl-data/fonts/pdfcorefonts\n",
      "    copying lib/matplotlib/backends/web_backend/jquery-ui-1.12.1/jquery-ui.theme.min.css -> build/lib.macosx-10.9-x86_64-3.9/matplotlib/backends/web_backend/jquery-ui-1.12.1\n",
      "    copying lib/matplotlib/mpl-data/stylelib/seaborn-darkgrid.mplstyle -> build/lib.macosx-10.9-x86_64-3.9/matplotlib/mpl-data/stylelib\n",
      "    copying lib/matplotlib/mpl-data/sample_data/jacksboro_fault_dem.npz -> build/lib.macosx-10.9-x86_64-3.9/matplotlib/mpl-data/sample_data\n",
      "    copying lib/matplotlib/mpl-data/images/forward.gif -> build/lib.macosx-10.9-x86_64-3.9/matplotlib/mpl-data/images\n",
      "    copying lib/matplotlib/mpl-data/fonts/ttf/STIXSizOneSymBol.ttf -> build/lib.macosx-10.9-x86_64-3.9/matplotlib/mpl-data/fonts/ttf\n",
      "    creating build/lib.macosx-10.9-x86_64-3.9/matplotlib/backends/web_backend/css\n",
      "    copying lib/matplotlib/backends/web_backend/css/boilerplate.css -> build/lib.macosx-10.9-x86_64-3.9/matplotlib/backends/web_backend/css\n",
      "    copying lib/matplotlib/mpl-data/fonts/ttf/DejaVuSansMono-Oblique.ttf -> build/lib.macosx-10.9-x86_64-3.9/matplotlib/mpl-data/fonts/ttf\n",
      "    copying lib/matplotlib/backends/web_backend/jquery-ui-1.12.1/images/ui-icons_cc0000_256x240.png -> build/lib.macosx-10.9-x86_64-3.9/matplotlib/backends/web_backend/jquery-ui-1.12.1/images\n",
      "    copying lib/matplotlib/mpl-data/fonts/ttf/DejaVuSansMono-BoldOblique.ttf -> build/lib.macosx-10.9-x86_64-3.9/matplotlib/mpl-data/fonts/ttf\n",
      "    copying lib/matplotlib/mpl-data/fonts/ttf/cmtt10.ttf -> build/lib.macosx-10.9-x86_64-3.9/matplotlib/mpl-data/fonts/ttf\n",
      "    copying lib/matplotlib/mpl-data/fonts/afm/pagk8a.afm -> build/lib.macosx-10.9-x86_64-3.9/matplotlib/mpl-data/fonts/afm\n",
      "    copying lib/matplotlib/mpl-data/images/back.pdf -> build/lib.macosx-10.9-x86_64-3.9/matplotlib/mpl-data/images\n"
     ]
    },
    {
     "name": "stdout",
     "output_type": "stream",
     "text": [
      "    copying lib/matplotlib/mpl-data/stylelib/seaborn-deep.mplstyle -> build/lib.macosx-10.9-x86_64-3.9/matplotlib/mpl-data/stylelib\r\n",
      "    copying lib/matplotlib/mpl-data/images/move_large.gif -> build/lib.macosx-10.9-x86_64-3.9/matplotlib/mpl-data/images\r\n",
      "    copying lib/matplotlib/backends/web_backend/jquery-ui-1.12.1/images/ui-icons_444444_256x240.png -> build/lib.macosx-10.9-x86_64-3.9/matplotlib/backends/web_backend/jquery-ui-1.12.1/images\r\n",
      "    copying lib/matplotlib/mpl-data/images/subplots_large.gif -> build/lib.macosx-10.9-x86_64-3.9/matplotlib/mpl-data/images\r\n",
      "    copying lib/matplotlib/mpl-data/images/home.svg -> build/lib.macosx-10.9-x86_64-3.9/matplotlib/mpl-data/images\r\n",
      "    copying lib/matplotlib/mpl-data/images/forward.png -> build/lib.macosx-10.9-x86_64-3.9/matplotlib/mpl-data/images\r\n",
      "    copying lib/matplotlib/mpl-data/images/matplotlib_large.png -> build/lib.macosx-10.9-x86_64-3.9/matplotlib/mpl-data/images\r\n",
      "    copying lib/matplotlib/mpl-data/images/back.png -> build/lib.macosx-10.9-x86_64-3.9/matplotlib/mpl-data/images\r\n",
      "    copying lib/matplotlib/mpl-data/images/help_large.ppm -> build/lib.macosx-10.9-x86_64-3.9/matplotlib/mpl-data/images\r\n",
      "    copying lib/matplotlib/mpl-data/stylelib/_classic_test.mplstyle -> build/lib.macosx-10.9-x86_64-3.9/matplotlib/mpl-data/stylelib\r\n",
      "    copying lib/matplotlib/backends/web_backend/single_figure.html -> build/lib.macosx-10.9-x86_64-3.9/matplotlib/backends/web_backend\r\n",
      "    copying lib/matplotlib/backends/web_backend/nbagg_uat.ipynb -> build/lib.macosx-10.9-x86_64-3.9/matplotlib/backends/web_backend\r\n",
      "    copying lib/matplotlib/mpl-data/sample_data/eeg.dat -> build/lib.macosx-10.9-x86_64-3.9/matplotlib/mpl-data/sample_data\r\n",
      "    copying lib/matplotlib/mpl-data/fonts/ttf/STIXGeneral.ttf -> build/lib.macosx-10.9-x86_64-3.9/matplotlib/mpl-data/fonts/ttf\r\n",
      "    copying lib/matplotlib/mpl-data/images/home.gif -> build/lib.macosx-10.9-x86_64-3.9/matplotlib/mpl-data/images\r\n",
      "    copying lib/matplotlib/mpl-data/images/home.pdf -> build/lib.macosx-10.9-x86_64-3.9/matplotlib/mpl-data/images\r\n",
      "    copying lib/matplotlib/mpl-data/stylelib/seaborn-paper.mplstyle -> build/lib.macosx-10.9-x86_64-3.9/matplotlib/mpl-data/stylelib\r\n",
      "    copying lib/matplotlib/mpl-data/images/filesave.png -> build/lib.macosx-10.9-x86_64-3.9/matplotlib/mpl-data/images\r\n",
      "    copying lib/matplotlib/backends/web_backend/jquery-ui-1.12.1/jquery-ui.css -> build/lib.macosx-10.9-x86_64-3.9/matplotlib/backends/web_backend/jquery-ui-1.12.1\r\n",
      "    copying lib/matplotlib/mpl-data/fonts/afm/pagdo8a.afm -> build/lib.macosx-10.9-x86_64-3.9/matplotlib/mpl-data/fonts/afm\r\n",
      "    copying lib/matplotlib/mpl-data/images/matplotlib.png -> build/lib.macosx-10.9-x86_64-3.9/matplotlib/mpl-data/images\r\n",
      "    copying lib/matplotlib/mpl-data/images/qt4_editor_options_large.png -> build/lib.macosx-10.9-x86_64-3.9/matplotlib/mpl-data/images\r\n",
      "    copying lib/matplotlib/mpl-data/fonts/afm/cmr10.afm -> build/lib.macosx-10.9-x86_64-3.9/matplotlib/mpl-data/fonts/afm\r\n",
      "    copying lib/matplotlib/mpl-data/fonts/afm/pncbi8a.afm -> build/lib.macosx-10.9-x86_64-3.9/matplotlib/mpl-data/fonts/afm\r\n",
      "    copying lib/matplotlib/mpl-data/sample_data/grace_hopper.jpg -> build/lib.macosx-10.9-x86_64-3.9/matplotlib/mpl-data/sample_data\r\n",
      "    copying lib/matplotlib/mpl-data/fonts/ttf/DejaVuSansMono.ttf -> build/lib.macosx-10.9-x86_64-3.9/matplotlib/mpl-data/fonts/ttf\r\n",
      "    copying lib/matplotlib/mpl-data/images/home.png -> build/lib.macosx-10.9-x86_64-3.9/matplotlib/mpl-data/images\r\n",
      "    copying lib/matplotlib/mpl-data/images/hand.svg -> build/lib.macosx-10.9-x86_64-3.9/matplotlib/mpl-data/images\r\n",
      "    copying lib/matplotlib/mpl-data/images/home_large.gif -> build/lib.macosx-10.9-x86_64-3.9/matplotlib/mpl-data/images\r\n",
      "    copying lib/matplotlib/mpl-data/sample_data/s1045.ima.gz -> build/lib.macosx-10.9-x86_64-3.9/matplotlib/mpl-data/sample_data\r\n",
      "    copying lib/matplotlib/mpl-data/matplotlibrc -> build/lib.macosx-10.9-x86_64-3.9/matplotlib/mpl-data\r\n",
      "    copying lib/matplotlib/mpl-data/fonts/pdfcorefonts/ZapfDingbats.afm -> build/lib.macosx-10.9-x86_64-3.9/matplotlib/mpl-data/fonts/pdfcorefonts\r\n",
      "    copying lib/matplotlib/mpl-data/stylelib/seaborn-colorblind.mplstyle -> build/lib.macosx-10.9-x86_64-3.9/matplotlib/mpl-data/stylelib\r\n",
      "    copying lib/matplotlib/mpl-data/images/back.svg -> build/lib.macosx-10.9-x86_64-3.9/matplotlib/mpl-data/images\r\n",
      "    copying lib/matplotlib/mpl-data/stylelib/tableau-colorblind10.mplstyle -> build/lib.macosx-10.9-x86_64-3.9/matplotlib/mpl-data/stylelib\r\n",
      "    copying lib/matplotlib/mpl-data/sample_data/goog.npz -> build/lib.macosx-10.9-x86_64-3.9/matplotlib/mpl-data/sample_data\r\n",
      "    copying lib/matplotlib/mpl-data/fonts/afm/ptmb8a.afm -> build/lib.macosx-10.9-x86_64-3.9/matplotlib/mpl-data/fonts/afm\r\n",
      "    copying lib/matplotlib/mpl-data/sample_data/membrane.dat -> build/lib.macosx-10.9-x86_64-3.9/matplotlib/mpl-data/sample_data\r\n",
      "    copying lib/matplotlib/mpl-data/images/filesave_large.png -> build/lib.macosx-10.9-x86_64-3.9/matplotlib/mpl-data/images\r\n",
      "    copying lib/matplotlib/mpl-data/stylelib/seaborn-ticks.mplstyle -> build/lib.macosx-10.9-x86_64-3.9/matplotlib/mpl-data/stylelib\r\n",
      "    copying lib/matplotlib/mpl-data/fonts/pdfcorefonts/Courier-Bold.afm -> build/lib.macosx-10.9-x86_64-3.9/matplotlib/mpl-data/fonts/pdfcorefonts\r\n",
      "    copying lib/matplotlib/mpl-data/fonts/afm/phvb8an.afm -> build/lib.macosx-10.9-x86_64-3.9/matplotlib/mpl-data/fonts/afm\r\n",
      "    copying lib/matplotlib/mpl-data/fonts/ttf/STIXGeneralBolIta.ttf -> build/lib.macosx-10.9-x86_64-3.9/matplotlib/mpl-data/fonts/ttf\r\n",
      "    copying lib/matplotlib/backends/web_backend/jquery-ui-1.12.1/jquery-ui.min.js -> build/lib.macosx-10.9-x86_64-3.9/matplotlib/backends/web_backend/jquery-ui-1.12.1\r\n",
      "    copying lib/matplotlib/mpl-data/images/zoom_to_rect.gif -> build/lib.macosx-10.9-x86_64-3.9/matplotlib/mpl-data/images\r\n",
      "    copying lib/matplotlib/mpl-data/fonts/pdfcorefonts/Helvetica-Oblique.afm -> build/lib.macosx-10.9-x86_64-3.9/matplotlib/mpl-data/fonts/pdfcorefonts\r\n",
      "    copying lib/matplotlib/mpl-data/fonts/ttf/cmex10.ttf -> build/lib.macosx-10.9-x86_64-3.9/matplotlib/mpl-data/fonts/ttf\r\n",
      "    copying lib/matplotlib/mpl-data/fonts/ttf/STIXSizTwoSymReg.ttf -> build/lib.macosx-10.9-x86_64-3.9/matplotlib/mpl-data/fonts/ttf\r\n",
      "    copying lib/matplotlib/mpl-data/fonts/afm/pbkli8a.afm -> build/lib.macosx-10.9-x86_64-3.9/matplotlib/mpl-data/fonts/afm\r\n",
      "    copying lib/matplotlib/mpl-data/images/forward_large.png -> build/lib.macosx-10.9-x86_64-3.9/matplotlib/mpl-data/images\r\n",
      "    copying lib/matplotlib/mpl-data/images/back_large.png -> build/lib.macosx-10.9-x86_64-3.9/matplotlib/mpl-data/images\r\n",
      "    copying lib/matplotlib/mpl-data/fonts/ttf/STIXGeneralItalic.ttf -> build/lib.macosx-10.9-x86_64-3.9/matplotlib/mpl-data/fonts/ttf\r\n",
      "    copying lib/matplotlib/mpl-data/fonts/ttf/STIXSizThreeSymReg.ttf -> build/lib.macosx-10.9-x86_64-3.9/matplotlib/mpl-data/fonts/ttf\r\n",
      "    copying lib/matplotlib/mpl-data/fonts/ttf/cmsy10.ttf -> build/lib.macosx-10.9-x86_64-3.9/matplotlib/mpl-data/fonts/ttf\r\n",
      "    copying lib/matplotlib/mpl-data/images/back_large.gif -> build/lib.macosx-10.9-x86_64-3.9/matplotlib/mpl-data/images\r\n",
      "    copying lib/matplotlib/mpl-data/images/matplotlib.pdf -> build/lib.macosx-10.9-x86_64-3.9/matplotlib/mpl-data/images\r\n",
      "    copying lib/matplotlib/mpl-data/images/hand.pdf -> build/lib.macosx-10.9-x86_64-3.9/matplotlib/mpl-data/images\r\n",
      "    copying lib/matplotlib/mpl-data/fonts/afm/pzcmi8a.afm -> build/lib.macosx-10.9-x86_64-3.9/matplotlib/mpl-data/fonts/afm\r\n",
      "    copying lib/matplotlib/mpl-data/images/forward_large.gif -> build/lib.macosx-10.9-x86_64-3.9/matplotlib/mpl-data/images\r\n",
      "    copying lib/matplotlib/mpl-data/fonts/afm/putri8a.afm -> build/lib.macosx-10.9-x86_64-3.9/matplotlib/mpl-data/fonts/afm\r\n",
      "    copying lib/matplotlib/mpl-data/images/zoom_to_rect_large.png -> build/lib.macosx-10.9-x86_64-3.9/matplotlib/mpl-data/images\r\n",
      "    creating build/lib.macosx-10.9-x86_64-3.9/matplotlib/backends/web_backend/js\r\n",
      "    copying lib/matplotlib/backends/web_backend/js/mpl_tornado.js -> build/lib.macosx-10.9-x86_64-3.9/matplotlib/backends/web_backend/js\r\n",
      "    copying lib/matplotlib/mpl-data/fonts/afm/pcrr8a.afm -> build/lib.macosx-10.9-x86_64-3.9/matplotlib/mpl-data/fonts/afm\r\n",
      "    copying lib/matplotlib/mpl-data/fonts/pdfcorefonts/Courier-Oblique.afm -> build/lib.macosx-10.9-x86_64-3.9/matplotlib/mpl-data/fonts/pdfcorefonts\r\n",
      "    copying lib/matplotlib/mpl-data/fonts/afm/putb8a.afm -> build/lib.macosx-10.9-x86_64-3.9/matplotlib/mpl-data/fonts/afm\r\n",
      "    copying lib/matplotlib/mpl-data/sample_data/percent_bachelors_degrees_women_usa.csv -> build/lib.macosx-10.9-x86_64-3.9/matplotlib/mpl-data/sample_data\r\n",
      "    copying lib/matplotlib/mpl-data/fonts/ttf/DejaVuSans-Bold.ttf -> build/lib.macosx-10.9-x86_64-3.9/matplotlib/mpl-data/fonts/ttf\r\n",
      "    copying lib/matplotlib/mpl-data/fonts/ttf/DejaVuSans.ttf -> build/lib.macosx-10.9-x86_64-3.9/matplotlib/mpl-data/fonts/ttf\r\n",
      "    copying lib/matplotlib/mpl-data/fonts/afm/ptmri8a.afm -> build/lib.macosx-10.9-x86_64-3.9/matplotlib/mpl-data/fonts/afm\r\n",
      "    copying lib/matplotlib/mpl-data/images/qt4_editor_options.svg -> build/lib.macosx-10.9-x86_64-3.9/matplotlib/mpl-data/images\r\n",
      "    copying lib/matplotlib/backends/web_backend/css/fbm.css -> build/lib.macosx-10.9-x86_64-3.9/matplotlib/backends/web_backend/css\r\n",
      "    copying lib/matplotlib/mpl-data/images/move.pdf -> build/lib.macosx-10.9-x86_64-3.9/matplotlib/mpl-data/images\r\n",
      "    copying lib/matplotlib/backends/web_backend/jquery-ui-1.12.1/images/ui-icons_555555_256x240.png -> build/lib.macosx-10.9-x86_64-3.9/matplotlib/backends/web_backend/jquery-ui-1.12.1/images\r\n",
      "    copying lib/matplotlib/backends/web_backend/jquery-ui-1.12.1/package.json -> build/lib.macosx-10.9-x86_64-3.9/matplotlib/backends/web_backend/jquery-ui-1.12.1\r\n",
      "    copying lib/matplotlib/mpl-data/images/subplots_large.png -> build/lib.macosx-10.9-x86_64-3.9/matplotlib/mpl-data/images\r\n",
      "    copying lib/matplotlib/mpl-data/images/move.gif -> build/lib.macosx-10.9-x86_64-3.9/matplotlib/mpl-data/images\r\n",
      "    copying lib/matplotlib/mpl-data/stylelib/seaborn-bright.mplstyle -> build/lib.macosx-10.9-x86_64-3.9/matplotlib/mpl-data/stylelib\r\n",
      "    copying lib/matplotlib/mpl-data/fonts/afm/putr8a.afm -> build/lib.macosx-10.9-x86_64-3.9/matplotlib/mpl-data/fonts/afm\r\n",
      "    copying lib/matplotlib/mpl-data/stylelib/seaborn-notebook.mplstyle -> build/lib.macosx-10.9-x86_64-3.9/matplotlib/mpl-data/stylelib\r\n",
      "    copying lib/matplotlib/mpl-data/fonts/afm/pcrbo8a.afm -> build/lib.macosx-10.9-x86_64-3.9/matplotlib/mpl-data/fonts/afm\r\n",
      "    copying lib/matplotlib/backends/web_backend/js/nbagg_mpl.js -> build/lib.macosx-10.9-x86_64-3.9/matplotlib/backends/web_backend/js\r\n",
      "    copying lib/matplotlib/mpl-data/sample_data/topobathy.npz -> build/lib.macosx-10.9-x86_64-3.9/matplotlib/mpl-data/sample_data\r\n",
      "    copying lib/matplotlib/mpl-data/fonts/afm/phvbo8an.afm -> build/lib.macosx-10.9-x86_64-3.9/matplotlib/mpl-data/fonts/afm\r\n",
      "    copying lib/matplotlib/mpl-data/fonts/ttf/DejaVuSerif.ttf -> build/lib.macosx-10.9-x86_64-3.9/matplotlib/mpl-data/fonts/ttf\r\n",
      "    copying lib/matplotlib/backends/web_backend/css/page.css -> build/lib.macosx-10.9-x86_64-3.9/matplotlib/backends/web_backend/css\r\n",
      "    copying lib/matplotlib/mpl-data/fonts/afm/pagd8a.afm -> build/lib.macosx-10.9-x86_64-3.9/matplotlib/mpl-data/fonts/afm\r\n",
      "    copying lib/matplotlib/mpl-data/fonts/afm/phvr8a.afm -> build/lib.macosx-10.9-x86_64-3.9/matplotlib/mpl-data/fonts/afm\r\n",
      "    copying lib/matplotlib/mpl-data/sample_data/ct.raw.gz -> build/lib.macosx-10.9-x86_64-3.9/matplotlib/mpl-data/sample_data\r\n",
      "    copying lib/matplotlib/mpl-data/sample_data/msft.csv -> build/lib.macosx-10.9-x86_64-3.9/matplotlib/mpl-data/sample_data\r\n",
      "    copying lib/matplotlib/mpl-data/fonts/pdfcorefonts/Symbol.afm -> build/lib.macosx-10.9-x86_64-3.9/matplotlib/mpl-data/fonts/pdfcorefonts\r\n",
      "    copying lib/matplotlib/mpl-data/sample_data/Minduka_Present_Blue_Pack.png -> build/lib.macosx-10.9-x86_64-3.9/matplotlib/mpl-data/sample_data\r\n",
      "    copying lib/matplotlib/mpl-data/sample_data/None_vs_nearest-pdf.png -> build/lib.macosx-10.9-x86_64-3.9/matplotlib/mpl-data/sample_data\r\n",
      "    copying lib/matplotlib/mpl-data/fonts/ttf/DejaVuSerif-BoldItalic.ttf -> build/lib.macosx-10.9-x86_64-3.9/matplotlib/mpl-data/fonts/ttf\r\n",
      "    copying lib/matplotlib/mpl-data/fonts/pdfcorefonts/readme.txt -> build/lib.macosx-10.9-x86_64-3.9/matplotlib/mpl-data/fonts/pdfcorefonts\r\n",
      "    copying lib/matplotlib/mpl-data/images/filesave_large.gif -> build/lib.macosx-10.9-x86_64-3.9/matplotlib/mpl-data/images\r\n",
      "    copying lib/matplotlib/backends/web_backend/all_figures.html -> build/lib.macosx-10.9-x86_64-3.9/matplotlib/backends/web_backend\r\n",
      "    copying lib/matplotlib/mpl-data/fonts/afm/cmmi10.afm -> build/lib.macosx-10.9-x86_64-3.9/matplotlib/mpl-data/fonts/afm\r\n",
      "    copying lib/matplotlib/mpl-data/images/help.png -> build/lib.macosx-10.9-x86_64-3.9/matplotlib/mpl-data/images\r\n",
      "    copying lib/matplotlib/mpl-data/fonts/afm/putbi8a.afm -> build/lib.macosx-10.9-x86_64-3.9/matplotlib/mpl-data/fonts/afm\r\n",
      "    copying lib/matplotlib/mpl-data/stylelib/seaborn.mplstyle -> build/lib.macosx-10.9-x86_64-3.9/matplotlib/mpl-data/stylelib\r\n",
      "    creating build/lib.macosx-10.9-x86_64-3.9/matplotlib/mpl-data/sample_data/axes_grid\r\n",
      "    copying lib/matplotlib/mpl-data/sample_data/axes_grid/bivariate_normal.npy -> build/lib.macosx-10.9-x86_64-3.9/matplotlib/mpl-data/sample_data/axes_grid\r\n",
      "    copying lib/matplotlib/mpl-data/fonts/afm/phvlo8a.afm -> build/lib.macosx-10.9-x86_64-3.9/matplotlib/mpl-data/fonts/afm\r\n",
      "    copying lib/matplotlib/backends/web_backend/jquery-ui-1.12.1/jquery-ui.theme.css -> build/lib.macosx-10.9-x86_64-3.9/matplotlib/backends/web_backend/jquery-ui-1.12.1\r\n",
      "    copying lib/matplotlib/mpl-data/fonts/ttf/STIXSizFourSymBol.ttf -> build/lib.macosx-10.9-x86_64-3.9/matplotlib/mpl-data/fonts/ttf\r\n",
      "    copying lib/matplotlib/mpl-data/fonts/ttf/cmmi10.ttf -> build/lib.macosx-10.9-x86_64-3.9/matplotlib/mpl-data/fonts/ttf\r\n",
      "    copying lib/matplotlib/mpl-data/fonts/afm/psyr.afm -> build/lib.macosx-10.9-x86_64-3.9/matplotlib/mpl-data/fonts/afm\r\n",
      "    copying lib/matplotlib/mpl-data/stylelib/seaborn-muted.mplstyle -> build/lib.macosx-10.9-x86_64-3.9/matplotlib/mpl-data/stylelib\r\n",
      "    copying lib/matplotlib/mpl-data/images/subplots.pdf -> build/lib.macosx-10.9-x86_64-3.9/matplotlib/mpl-data/images\r\n",
      "    copying lib/matplotlib/mpl-data/fonts/afm/pagko8a.afm -> build/lib.macosx-10.9-x86_64-3.9/matplotlib/mpl-data/fonts/afm\r\n",
      "    copying lib/matplotlib/mpl-data/fonts/pdfcorefonts/Helvetica.afm -> build/lib.macosx-10.9-x86_64-3.9/matplotlib/mpl-data/fonts/pdfcorefonts\r\n",
      "    copying lib/matplotlib/mpl-data/fonts/afm/pplbi8a.afm -> build/lib.macosx-10.9-x86_64-3.9/matplotlib/mpl-data/fonts/afm\r\n",
      "    copying lib/matplotlib/backends/web_backend/jquery/js/jquery.js -> build/lib.macosx-10.9-x86_64-3.9/matplotlib/backends/web_backend/jquery/js\r\n",
      "    copying lib/matplotlib/mpl-data/fonts/ttf/STIXSizOneSymReg.ttf -> build/lib.macosx-10.9-x86_64-3.9/matplotlib/mpl-data/fonts/ttf\r\n",
      "    copying lib/matplotlib/mpl-data/stylelib/classic.mplstyle -> build/lib.macosx-10.9-x86_64-3.9/matplotlib/mpl-data/stylelib\r\n",
      "    copying lib/matplotlib/backends/web_backend/ipython_inline_figure.html -> build/lib.macosx-10.9-x86_64-3.9/matplotlib/backends/web_backend\r\n",
      "    copying lib/matplotlib/mpl-data/fonts/ttf/STIXNonUniBolIta.ttf -> build/lib.macosx-10.9-x86_64-3.9/matplotlib/mpl-data/fonts/ttf\r\n",
      "    copying lib/matplotlib/mpl-data/fonts/ttf/DejaVuSansMono-Bold.ttf -> build/lib.macosx-10.9-x86_64-3.9/matplotlib/mpl-data/fonts/ttf\r\n",
      "    copying lib/matplotlib/mpl-data/images/filesave.gif -> build/lib.macosx-10.9-x86_64-3.9/matplotlib/mpl-data/images\r\n",
      "    copying lib/matplotlib/mpl-data/fonts/ttf/STIXSizFiveSymReg.ttf -> build/lib.macosx-10.9-x86_64-3.9/matplotlib/mpl-data/fonts/ttf\r\n",
      "    copying lib/matplotlib/mpl-data/images/qt4_editor_options.pdf -> build/lib.macosx-10.9-x86_64-3.9/matplotlib/mpl-data/images\r\n",
      "    copying lib/matplotlib/mpl-data/images/hand.png -> build/lib.macosx-10.9-x86_64-3.9/matplotlib/mpl-data/images\r\n",
      "    copying lib/matplotlib/mpl-data/stylelib/seaborn-dark-palette.mplstyle -> build/lib.macosx-10.9-x86_64-3.9/matplotlib/mpl-data/stylelib\r\n",
      "    copying lib/matplotlib/mpl-data/fonts/afm/pbkd8a.afm -> build/lib.macosx-10.9-x86_64-3.9/matplotlib/mpl-data/fonts/afm\r\n",
      "    copying lib/matplotlib/mpl-data/fonts/ttf/STIXNonUni.ttf -> build/lib.macosx-10.9-x86_64-3.9/matplotlib/mpl-data/fonts/ttf\r\n",
      "    copying lib/matplotlib/mpl-data/stylelib/seaborn-pastel.mplstyle -> build/lib.macosx-10.9-x86_64-3.9/matplotlib/mpl-data/stylelib\r\n",
      "    copying lib/matplotlib/mpl-data/stylelib/seaborn-white.mplstyle -> build/lib.macosx-10.9-x86_64-3.9/matplotlib/mpl-data/stylelib\r\n",
      "    copying lib/matplotlib/mpl-data/fonts/afm/cmsy10.afm -> build/lib.macosx-10.9-x86_64-3.9/matplotlib/mpl-data/fonts/afm\r\n",
      "    copying lib/matplotlib/backends/web_backend/jquery-ui-1.12.1/images/ui-icons_ffffff_256x240.png -> build/lib.macosx-10.9-x86_64-3.9/matplotlib/backends/web_backend/jquery-ui-1.12.1/images\r\n",
      "    copying lib/matplotlib/mpl-data/fonts/pdfcorefonts/Courier.afm -> build/lib.macosx-10.9-x86_64-3.9/matplotlib/mpl-data/fonts/pdfcorefonts\r\n",
      "    copying lib/matplotlib/mpl-data/images/matplotlib.svg -> build/lib.macosx-10.9-x86_64-3.9/matplotlib/mpl-data/images\r\n",
      "    copying lib/matplotlib/mpl-data/fonts/ttf/STIXSizFourSymReg.ttf -> build/lib.macosx-10.9-x86_64-3.9/matplotlib/mpl-data/fonts/ttf\r\n",
      "    copying lib/matplotlib/mpl-data/images/forward.svg -> build/lib.macosx-10.9-x86_64-3.9/matplotlib/mpl-data/images\r\n",
      "    creating build/lib.macosx-10.9-x86_64-3.9/matplotlib/backends/web_backend/jquery-ui-1.12.1/external\r\n",
      "    creating build/lib.macosx-10.9-x86_64-3.9/matplotlib/backends/web_backend/jquery-ui-1.12.1/external/jquery\r\n",
      "    copying lib/matplotlib/backends/web_backend/jquery-ui-1.12.1/external/jquery/jquery.js -> build/lib.macosx-10.9-x86_64-3.9/matplotlib/backends/web_backend/jquery-ui-1.12.1/external/jquery\r\n",
      "    copying lib/matplotlib/mpl-data/images/move_large.png -> build/lib.macosx-10.9-x86_64-3.9/matplotlib/mpl-data/images\r\n",
      "    copying lib/matplotlib/mpl-data/sample_data/data_x_x2_x3.csv -> build/lib.macosx-10.9-x86_64-3.9/matplotlib/mpl-data/sample_data\r\n",
      "    copying lib/matplotlib/mpl-data/images/subplots.svg -> build/lib.macosx-10.9-x86_64-3.9/matplotlib/mpl-data/images\r\n",
      "    copying lib/matplotlib/mpl-data/fonts/ttf/LICENSE_DEJAVU -> build/lib.macosx-10.9-x86_64-3.9/matplotlib/mpl-data/fonts/ttf\r\n",
      "    copying lib/matplotlib/mpl-data/images/home_large.png -> build/lib.macosx-10.9-x86_64-3.9/matplotlib/mpl-data/images\r\n",
      "    copying lib/matplotlib/mpl-data/fonts/ttf/cmb10.ttf -> build/lib.macosx-10.9-x86_64-3.9/matplotlib/mpl-data/fonts/ttf\r\n",
      "    copying lib/matplotlib/mpl-data/images/subplots.png -> build/lib.macosx-10.9-x86_64-3.9/matplotlib/mpl-data/images\r\n",
      "    copying lib/matplotlib/mpl-data/fonts/afm/pbkdi8a.afm -> build/lib.macosx-10.9-x86_64-3.9/matplotlib/mpl-data/fonts/afm\r\n",
      "    copying lib/matplotlib/mpl-data/fonts/afm/phvb8a.afm -> build/lib.macosx-10.9-x86_64-3.9/matplotlib/mpl-data/fonts/afm\r\n",
      "    copying lib/matplotlib/mpl-data/fonts/ttf/STIXSizTwoSymBol.ttf -> build/lib.macosx-10.9-x86_64-3.9/matplotlib/mpl-data/fonts/ttf\r\n",
      "    copying lib/matplotlib/backends/web_backend/js/mpl.js -> build/lib.macosx-10.9-x86_64-3.9/matplotlib/backends/web_backend/js\r\n",
      "    copying lib/matplotlib/mpl-data/stylelib/fivethirtyeight.mplstyle -> build/lib.macosx-10.9-x86_64-3.9/matplotlib/mpl-data/stylelib\r\n",
      "    copying lib/matplotlib/mpl-data/images/matplotlib.ppm -> build/lib.macosx-10.9-x86_64-3.9/matplotlib/mpl-data/images\r\n",
      "    copying lib/matplotlib/mpl-data/sample_data/embedding_in_wx3.xrc -> build/lib.macosx-10.9-x86_64-3.9/matplotlib/mpl-data/sample_data\r\n",
      "    copying lib/matplotlib/mpl-data/fonts/ttf/LICENSE_STIX -> build/lib.macosx-10.9-x86_64-3.9/matplotlib/mpl-data/fonts/ttf\r\n",
      "    copying lib/matplotlib/backends/web_backend/jquery-ui-1.12.1/images/ui-icons_777777_256x240.png -> build/lib.macosx-10.9-x86_64-3.9/matplotlib/backends/web_backend/jquery-ui-1.12.1/images\r\n",
      "    copying lib/matplotlib/mpl-data/fonts/ttf/cmr10.ttf -> build/lib.macosx-10.9-x86_64-3.9/matplotlib/mpl-data/fonts/ttf\r\n",
      "    copying lib/matplotlib/mpl-data/stylelib/fast.mplstyle -> build/lib.macosx-10.9-x86_64-3.9/matplotlib/mpl-data/stylelib\r\n",
      "    copying lib/matplotlib/mpl-data/fonts/ttf/DejaVuSansDisplay.ttf -> build/lib.macosx-10.9-x86_64-3.9/matplotlib/mpl-data/fonts/ttf\r\n",
      "    copying lib/matplotlib/mpl-data/fonts/afm/phvl8a.afm -> build/lib.macosx-10.9-x86_64-3.9/matplotlib/mpl-data/fonts/afm\r\n",
      "    copying lib/matplotlib/mpl-data/sample_data/README.txt -> build/lib.macosx-10.9-x86_64-3.9/matplotlib/mpl-data/sample_data\r\n",
      "    copying lib/matplotlib/mpl-data/images/subplots.gif -> build/lib.macosx-10.9-x86_64-3.9/matplotlib/mpl-data/images\r\n",
      "    copying lib/matplotlib/mpl-data/fonts/afm/cmex10.afm -> build/lib.macosx-10.9-x86_64-3.9/matplotlib/mpl-data/fonts/afm\r\n",
      "    copying lib/matplotlib/mpl-data/fonts/ttf/DejaVuSerifDisplay.ttf -> build/lib.macosx-10.9-x86_64-3.9/matplotlib/mpl-data/fonts/ttf\r\n",
      "    copying lib/matplotlib/mpl-data/fonts/ttf/cmss10.ttf -> build/lib.macosx-10.9-x86_64-3.9/matplotlib/mpl-data/fonts/ttf\r\n",
      "    copying lib/matplotlib/mpl-data/sample_data/aapl.npz -> build/lib.macosx-10.9-x86_64-3.9/matplotlib/mpl-data/sample_data\r\n",
      "    copying lib/matplotlib/mpl-data/stylelib/grayscale.mplstyle -> build/lib.macosx-10.9-x86_64-3.9/matplotlib/mpl-data/stylelib\r\n",
      "    copying lib/matplotlib/mpl-data/fonts/afm/pbkl8a.afm -> build/lib.macosx-10.9-x86_64-3.9/matplotlib/mpl-data/fonts/afm\r\n",
      "    copying lib/matplotlib/mpl-data/fonts/afm/phvbo8a.afm -> build/lib.macosx-10.9-x86_64-3.9/matplotlib/mpl-data/fonts/afm\r\n",
      "    copying lib/matplotlib/mpl-data/images/filesave.pdf -> build/lib.macosx-10.9-x86_64-3.9/matplotlib/mpl-data/images\r\n",
      "    copying lib/matplotlib/mpl-data/fonts/pdfcorefonts/Courier-BoldOblique.afm -> build/lib.macosx-10.9-x86_64-3.9/matplotlib/mpl-data/fonts/pdfcorefonts\r\n",
      "    copying lib/matplotlib/mpl-data/fonts/ttf/DejaVuSans-BoldOblique.ttf -> build/lib.macosx-10.9-x86_64-3.9/matplotlib/mpl-data/fonts/ttf\r\n",
      "    copying lib/matplotlib/mpl-data/images/filesave.svg -> build/lib.macosx-10.9-x86_64-3.9/matplotlib/mpl-data/images\r\n",
      "    copying lib/matplotlib/mpl-data/stylelib/Solarize_Light2.mplstyle -> build/lib.macosx-10.9-x86_64-3.9/matplotlib/mpl-data/stylelib\r\n",
      "    copying lib/matplotlib/mpl-data/fonts/afm/ptmr8a.afm -> build/lib.macosx-10.9-x86_64-3.9/matplotlib/mpl-data/fonts/afm\r\n",
      "    copying lib/matplotlib/mpl-data/fonts/afm/phvro8an.afm -> build/lib.macosx-10.9-x86_64-3.9/matplotlib/mpl-data/fonts/afm\r\n",
      "    copying lib/matplotlib/mpl-data/stylelib/ggplot.mplstyle -> build/lib.macosx-10.9-x86_64-3.9/matplotlib/mpl-data/stylelib\r\n",
      "    copying lib/matplotlib/mpl-data/stylelib/seaborn-dark.mplstyle -> build/lib.macosx-10.9-x86_64-3.9/matplotlib/mpl-data/stylelib\r\n",
      "    copying lib/matplotlib/backends/web_backend/jquery-ui-1.12.1/LICENSE.txt -> build/lib.macosx-10.9-x86_64-3.9/matplotlib/backends/web_backend/jquery-ui-1.12.1\r\n",
      "    copying lib/matplotlib/mpl-data/images/forward.pdf -> build/lib.macosx-10.9-x86_64-3.9/matplotlib/mpl-data/images\r\n",
      "    copying lib/matplotlib/mpl-data/fonts/ttf/DejaVuSerif-Bold.ttf -> build/lib.macosx-10.9-x86_64-3.9/matplotlib/mpl-data/fonts/ttf\r\n",
      "    copying lib/matplotlib/mpl-data/fonts/afm/pncb8a.afm -> build/lib.macosx-10.9-x86_64-3.9/matplotlib/mpl-data/fonts/afm\r\n",
      "    copying lib/matplotlib/mpl-data/fonts/pdfcorefonts/Times-Bold.afm -> build/lib.macosx-10.9-x86_64-3.9/matplotlib/mpl-data/fonts/pdfcorefonts\r\n",
      "    copying lib/matplotlib/mpl-data/fonts/afm/pzdr.afm -> build/lib.macosx-10.9-x86_64-3.9/matplotlib/mpl-data/fonts/afm\r\n",
      "    UPDATING build/lib.macosx-10.9-x86_64-3.9/matplotlib/_version.py\r\n",
      "    set build/lib.macosx-10.9-x86_64-3.9/matplotlib/_version.py to '3.1.3'\r\n",
      "    running build_ext\r\n",
      "    building 'matplotlib.ft2font' extension\r\n",
      "    creating build/temp.macosx-10.9-x86_64-3.9\r\n",
      "    creating build/temp.macosx-10.9-x86_64-3.9/src\r\n",
      "    x86_64-apple-darwin13.4.0-clang -Wno-unused-result -Wsign-compare -Wunreachable-code -DNDEBUG -fwrapv -O2 -Wall -march=core2 -mtune=haswell -mssse3 -ftree-vectorize -fPIC -fPIE -fstack-protector-strong -O2 -pipe -isystem /Users/halledavis/opt/anaconda3/include -arch x86_64 -I/Users/halledavis/opt/anaconda3/include -march=core2 -mtune=haswell -mssse3 -ftree-vectorize -fPIC -fPIE -fstack-protector-strong -O2 -pipe -isystem /Users/halledavis/opt/anaconda3/include -arch x86_64 -march=core2 -mtune=haswell -mssse3 -ftree-vectorize -fPIC -fPIE -fstack-protector-strong -O2 -pipe -isystem /Users/halledavis/opt/anaconda3/include -D_FORTIFY_SOURCE=2 -isystem /Users/halledavis/opt/anaconda3/include -DFREETYPE_BUILD_TYPE=system -DPY_ARRAY_UNIQUE_SYMBOL=MPL_matplotlib_ft2font_ARRAY_API -DNPY_NO_DEPRECATED_API=NPY_1_7_API_VERSION -D__STDC_FORMAT_MACROS=1 -Iextern/agg24-svn/include -I/Users/halledavis/opt/anaconda3/lib/python3.9/site-packages/numpy/core/include -I/Users/halledavis/opt/anaconda3/include/python3.9 -c src/checkdep_freetype2.c -o build/temp.macosx-10.9-x86_64-3.9/src/checkdep_freetype2.o -I/Users/halledavis/opt/anaconda3/include/freetype2\r\n",
      "    src/checkdep_freetype2.c:7:9: warning: Compiling with FreeType version 2.10.4. [-W#pragma-messages]\r\n",
      "    #pragma message(\"Compiling with FreeType version \" \\\r\n",
      "            ^\r\n",
      "    1 warning generated.\r\n",
      "    x86_64-apple-darwin13.4.0-clang -Wno-unused-result -Wsign-compare -Wunreachable-code -DNDEBUG -fwrapv -O2 -Wall -march=core2 -mtune=haswell -mssse3 -ftree-vectorize -fPIC -fPIE -fstack-protector-strong -O2 -pipe -isystem /Users/halledavis/opt/anaconda3/include -arch x86_64 -I/Users/halledavis/opt/anaconda3/include -march=core2 -mtune=haswell -mssse3 -ftree-vectorize -fPIC -fPIE -fstack-protector-strong -O2 -pipe -isystem /Users/halledavis/opt/anaconda3/include -arch x86_64 -march=core2 -mtune=haswell -mssse3 -ftree-vectorize -fPIC -fPIE -fstack-protector-strong -O2 -pipe -isystem /Users/halledavis/opt/anaconda3/include -D_FORTIFY_SOURCE=2 -isystem /Users/halledavis/opt/anaconda3/include -DFREETYPE_BUILD_TYPE=system -DPY_ARRAY_UNIQUE_SYMBOL=MPL_matplotlib_ft2font_ARRAY_API -DNPY_NO_DEPRECATED_API=NPY_1_7_API_VERSION -D__STDC_FORMAT_MACROS=1 -Iextern/agg24-svn/include -I/Users/halledavis/opt/anaconda3/lib/python3.9/site-packages/numpy/core/include -I/Users/halledavis/opt/anaconda3/include/python3.9 -c src/ft2font.cpp -o build/temp.macosx-10.9-x86_64-3.9/src/ft2font.o -I/Users/halledavis/opt/anaconda3/include/freetype2\r\n",
      "    x86_64-apple-darwin13.4.0-clang -Wno-unused-result -Wsign-compare -Wunreachable-code -DNDEBUG -fwrapv -O2 -Wall -march=core2 -mtune=haswell -mssse3 -ftree-vectorize -fPIC -fPIE -fstack-protector-strong -O2 -pipe -isystem /Users/halledavis/opt/anaconda3/include -arch x86_64 -I/Users/halledavis/opt/anaconda3/include -march=core2 -mtune=haswell -mssse3 -ftree-vectorize -fPIC -fPIE -fstack-protector-strong -O2 -pipe -isystem /Users/halledavis/opt/anaconda3/include -arch x86_64 -march=core2 -mtune=haswell -mssse3 -ftree-vectorize -fPIC -fPIE -fstack-protector-strong -O2 -pipe -isystem /Users/halledavis/opt/anaconda3/include -D_FORTIFY_SOURCE=2 -isystem /Users/halledavis/opt/anaconda3/include -DFREETYPE_BUILD_TYPE=system -DPY_ARRAY_UNIQUE_SYMBOL=MPL_matplotlib_ft2font_ARRAY_API -DNPY_NO_DEPRECATED_API=NPY_1_7_API_VERSION -D__STDC_FORMAT_MACROS=1 -Iextern/agg24-svn/include -I/Users/halledavis/opt/anaconda3/lib/python3.9/site-packages/numpy/core/include -I/Users/halledavis/opt/anaconda3/include/python3.9 -c src/ft2font_wrapper.cpp -o build/temp.macosx-10.9-x86_64-3.9/src/ft2font_wrapper.o -I/Users/halledavis/opt/anaconda3/include/freetype2\r\n",
      "    In file included from src/ft2font_wrapper.cpp:4:\r\n",
      "    In file included from src/py_converters.h:18:\r\n",
      "    In file included from src/_backend_agg_basic_types.h:9:\r\n",
      "    In file included from extern/agg24-svn/include/agg_color_rgba.h:28:\r\n",
      "    extern/agg24-svn/include/agg_basics.h:231:13: warning: 'register' storage class specifier is deprecated and incompatible with C++17 [-Wdeprecated-register]\r\n",
      "                register unsigned q = a * b + (1 << (Shift-1));\r\n",
      "                ^~~~~~~~~\r\n",
      "    In file included from src/ft2font_wrapper.cpp:4:\r\n",
      "    In file included from src/py_converters.h:18:\r\n",
      "    In file included from src/_backend_agg_basic_types.h:11:\r\n",
      "    In file included from src/path_converters.h:8:\r\n",
      "    In file included from extern/agg24-svn/include/agg_path_storage.h:23:\r\n",
      "    In file included from extern/agg24-svn/include/agg_bezier_arc.h:24:\r\n",
      "    In file included from extern/agg24-svn/include/agg_conv_transform.h:23:\r\n",
      "    extern/agg24-svn/include/agg_trans_affine.h:295:9: warning: 'register' storage class specifier is deprecated and incompatible with C++17 [-Wdeprecated-register]\r\n",
      "            register double tmp = *x;\r\n",
      "            ^~~~~~~~~\r\n",
      "    extern/agg24-svn/include/agg_trans_affine.h:303:9: warning: 'register' storage class specifier is deprecated and incompatible with C++17 [-Wdeprecated-register]\r\n",
      "            register double tmp = *x;\r\n",
      "            ^~~~~~~~~\r\n",
      "    extern/agg24-svn/include/agg_trans_affine.h:311:9: warning: 'register' storage class specifier is deprecated and incompatible with C++17 [-Wdeprecated-register]\r\n",
      "            register double d = determinant_reciprocal();\r\n",
      "            ^~~~~~~~~\r\n",
      "    extern/agg24-svn/include/agg_trans_affine.h:312:9: warning: 'register' storage class specifier is deprecated and incompatible with C++17 [-Wdeprecated-register]\r\n",
      "            register double a = (*x - tx) * d;\r\n",
      "            ^~~~~~~~~\r\n",
      "    extern/agg24-svn/include/agg_trans_affine.h:313:9: warning: 'register' storage class specifier is deprecated and incompatible with C++17 [-Wdeprecated-register]\r\n",
      "            register double b = (*y - ty) * d;\r\n",
      "            ^~~~~~~~~\r\n",
      "    src/ft2font_wrapper.cpp:665:16: warning: '_PyUnicode_get_wstr_length' is deprecated [-Wdeprecated-declarations]\r\n",
      "            size = PyUnicode_GET_SIZE(textobj);\r\n",
      "                   ^\r\n",
      "    /Users/halledavis/opt/anaconda3/include/python3.9/cpython/unicodeobject.h:261:7: note: expanded from macro 'PyUnicode_GET_SIZE'\r\n",
      "          PyUnicode_WSTR_LENGTH(op) :                    \\\r\n",
      "          ^\r\n",
      "    /Users/halledavis/opt/anaconda3/include/python3.9/cpython/unicodeobject.h:451:35: note: expanded from macro 'PyUnicode_WSTR_LENGTH'\r\n",
      "    #define PyUnicode_WSTR_LENGTH(op) _PyUnicode_get_wstr_length((PyObject*)op)\r\n",
      "                                      ^\r\n",
      "    /Users/halledavis/opt/anaconda3/include/python3.9/cpython/unicodeobject.h:445:1: note: '_PyUnicode_get_wstr_length' has been explicitly marked deprecated here\r\n",
      "    Py_DEPRECATED(3.3)\r\n",
      "    ^\r\n",
      "    /Users/halledavis/opt/anaconda3/include/python3.9/pyport.h:508:54: note: expanded from macro 'Py_DEPRECATED'\r\n",
      "    #define Py_DEPRECATED(VERSION_UNUSED) __attribute__((__deprecated__))\r\n",
      "                                                         ^\r\n",
      "    src/ft2font_wrapper.cpp:665:16: warning: 'PyUnicode_AsUnicode' is deprecated [-Wdeprecated-declarations]\r\n",
      "            size = PyUnicode_GET_SIZE(textobj);\r\n",
      "                   ^\r\n",
      "    /Users/halledavis/opt/anaconda3/include/python3.9/cpython/unicodeobject.h:262:14: note: expanded from macro 'PyUnicode_GET_SIZE'\r\n",
      "          ((void)PyUnicode_AsUnicode(_PyObject_CAST(op)),\\\r\n",
      "                 ^\r\n",
      "    /Users/halledavis/opt/anaconda3/include/python3.9/cpython/unicodeobject.h:580:1: note: 'PyUnicode_AsUnicode' has been explicitly marked deprecated here\r\n",
      "    Py_DEPRECATED(3.3) PyAPI_FUNC(Py_UNICODE *) PyUnicode_AsUnicode(\r\n",
      "    ^\r\n",
      "    /Users/halledavis/opt/anaconda3/include/python3.9/pyport.h:508:54: note: expanded from macro 'Py_DEPRECATED'\r\n",
      "    #define Py_DEPRECATED(VERSION_UNUSED) __attribute__((__deprecated__))\r\n",
      "                                                         ^\r\n",
      "    src/ft2font_wrapper.cpp:665:16: warning: '_PyUnicode_get_wstr_length' is deprecated [-Wdeprecated-declarations]\r\n",
      "            size = PyUnicode_GET_SIZE(textobj);\r\n",
      "                   ^\r\n",
      "    /Users/halledavis/opt/anaconda3/include/python3.9/cpython/unicodeobject.h:264:8: note: expanded from macro 'PyUnicode_GET_SIZE'\r\n",
      "           PyUnicode_WSTR_LENGTH(op)))\r\n",
      "           ^\r\n",
      "    /Users/halledavis/opt/anaconda3/include/python3.9/cpython/unicodeobject.h:451:35: note: expanded from macro 'PyUnicode_WSTR_LENGTH'\r\n",
      "    #define PyUnicode_WSTR_LENGTH(op) _PyUnicode_get_wstr_length((PyObject*)op)\r\n",
      "                                      ^\r\n",
      "    /Users/halledavis/opt/anaconda3/include/python3.9/cpython/unicodeobject.h:445:1: note: '_PyUnicode_get_wstr_length' has been explicitly marked deprecated here\r\n",
      "    Py_DEPRECATED(3.3)\r\n",
      "    ^\r\n",
      "    /Users/halledavis/opt/anaconda3/include/python3.9/pyport.h:508:54: note: expanded from macro 'Py_DEPRECATED'\r\n",
      "    #define Py_DEPRECATED(VERSION_UNUSED) __attribute__((__deprecated__))\r\n",
      "                                                         ^\r\n",
      "    src/ft2font_wrapper.cpp:667:30: warning: 'PyUnicode_AsUnicode' is deprecated [-Wdeprecated-declarations]\r\n",
      "            Py_UNICODE *unistr = PyUnicode_AsUnicode(textobj);\r\n",
      "                                 ^\r\n",
      "    /Users/halledavis/opt/anaconda3/include/python3.9/cpython/unicodeobject.h:580:1: note: 'PyUnicode_AsUnicode' has been explicitly marked deprecated here\r\n",
      "    Py_DEPRECATED(3.3) PyAPI_FUNC(Py_UNICODE *) PyUnicode_AsUnicode(\r\n",
      "    ^\r\n",
      "    /Users/halledavis/opt/anaconda3/include/python3.9/pyport.h:508:54: note: expanded from macro 'Py_DEPRECATED'\r\n",
      "    #define Py_DEPRECATED(VERSION_UNUSED) __attribute__((__deprecated__))\r\n",
      "                                                         ^\r\n",
      "    10 warnings generated.\r\n",
      "    x86_64-apple-darwin13.4.0-clang -Wno-unused-result -Wsign-compare -Wunreachable-code -DNDEBUG -fwrapv -O2 -Wall -march=core2 -mtune=haswell -mssse3 -ftree-vectorize -fPIC -fPIE -fstack-protector-strong -O2 -pipe -isystem /Users/halledavis/opt/anaconda3/include -arch x86_64 -I/Users/halledavis/opt/anaconda3/include -march=core2 -mtune=haswell -mssse3 -ftree-vectorize -fPIC -fPIE -fstack-protector-strong -O2 -pipe -isystem /Users/halledavis/opt/anaconda3/include -arch x86_64 -march=core2 -mtune=haswell -mssse3 -ftree-vectorize -fPIC -fPIE -fstack-protector-strong -O2 -pipe -isystem /Users/halledavis/opt/anaconda3/include -D_FORTIFY_SOURCE=2 -isystem /Users/halledavis/opt/anaconda3/include -DFREETYPE_BUILD_TYPE=system -DPY_ARRAY_UNIQUE_SYMBOL=MPL_matplotlib_ft2font_ARRAY_API -DNPY_NO_DEPRECATED_API=NPY_1_7_API_VERSION -D__STDC_FORMAT_MACROS=1 -Iextern/agg24-svn/include -I/Users/halledavis/opt/anaconda3/lib/python3.9/site-packages/numpy/core/include -I/Users/halledavis/opt/anaconda3/include/python3.9 -c src/mplutils.cpp -o build/temp.macosx-10.9-x86_64-3.9/src/mplutils.o -I/Users/halledavis/opt/anaconda3/include/freetype2\r\n",
      "    x86_64-apple-darwin13.4.0-clang -Wno-unused-result -Wsign-compare -Wunreachable-code -DNDEBUG -fwrapv -O2 -Wall -march=core2 -mtune=haswell -mssse3 -ftree-vectorize -fPIC -fPIE -fstack-protector-strong -O2 -pipe -isystem /Users/halledavis/opt/anaconda3/include -arch x86_64 -I/Users/halledavis/opt/anaconda3/include -march=core2 -mtune=haswell -mssse3 -ftree-vectorize -fPIC -fPIE -fstack-protector-strong -O2 -pipe -isystem /Users/halledavis/opt/anaconda3/include -arch x86_64 -march=core2 -mtune=haswell -mssse3 -ftree-vectorize -fPIC -fPIE -fstack-protector-strong -O2 -pipe -isystem /Users/halledavis/opt/anaconda3/include -D_FORTIFY_SOURCE=2 -isystem /Users/halledavis/opt/anaconda3/include -DFREETYPE_BUILD_TYPE=system -DPY_ARRAY_UNIQUE_SYMBOL=MPL_matplotlib_ft2font_ARRAY_API -DNPY_NO_DEPRECATED_API=NPY_1_7_API_VERSION -D__STDC_FORMAT_MACROS=1 -Iextern/agg24-svn/include -I/Users/halledavis/opt/anaconda3/lib/python3.9/site-packages/numpy/core/include -I/Users/halledavis/opt/anaconda3/include/python3.9 -c src/py_converters.cpp -o build/temp.macosx-10.9-x86_64-3.9/src/py_converters.o -I/Users/halledavis/opt/anaconda3/include/freetype2\r\n",
      "    In file included from src/py_converters.cpp:3:\r\n",
      "    In file included from src/py_converters.h:18:\r\n",
      "    In file included from src/_backend_agg_basic_types.h:9:\r\n",
      "    In file included from extern/agg24-svn/include/agg_color_rgba.h:28:\r\n",
      "    extern/agg24-svn/include/agg_basics.h:231:13: warning: 'register' storage class specifier is deprecated and incompatible with C++17 [-Wdeprecated-register]\r\n",
      "                register unsigned q = a * b + (1 << (Shift-1));\r\n",
      "                ^~~~~~~~~\r\n",
      "    In file included from src/py_converters.cpp:3:\r\n",
      "    In file included from src/py_converters.h:18:\r\n",
      "    In file included from src/_backend_agg_basic_types.h:11:\r\n",
      "    In file included from src/path_converters.h:8:\r\n",
      "    In file included from extern/agg24-svn/include/agg_path_storage.h:23:\r\n",
      "    In file included from extern/agg24-svn/include/agg_bezier_arc.h:24:\r\n",
      "    In file included from extern/agg24-svn/include/agg_conv_transform.h:23:\r\n",
      "    extern/agg24-svn/include/agg_trans_affine.h:295:9: warning: 'register' storage class specifier is deprecated and incompatible with C++17 [-Wdeprecated-register]\r\n",
      "            register double tmp = *x;\r\n",
      "            ^~~~~~~~~\r\n",
      "    extern/agg24-svn/include/agg_trans_affine.h:303:9: warning: 'register' storage class specifier is deprecated and incompatible with C++17 [-Wdeprecated-register]\r\n",
      "            register double tmp = *x;\r\n",
      "            ^~~~~~~~~\r\n",
      "    extern/agg24-svn/include/agg_trans_affine.h:311:9: warning: 'register' storage class specifier is deprecated and incompatible with C++17 [-Wdeprecated-register]\r\n",
      "            register double d = determinant_reciprocal();\r\n",
      "            ^~~~~~~~~\r\n",
      "    extern/agg24-svn/include/agg_trans_affine.h:312:9: warning: 'register' storage class specifier is deprecated and incompatible with C++17 [-Wdeprecated-register]\r\n",
      "            register double a = (*x - tx) * d;\r\n",
      "            ^~~~~~~~~\r\n",
      "    extern/agg24-svn/include/agg_trans_affine.h:313:9: warning: 'register' storage class specifier is deprecated and incompatible with C++17 [-Wdeprecated-register]\r\n",
      "            register double b = (*y - ty) * d;\r\n",
      "            ^~~~~~~~~\r\n",
      "    6 warnings generated.\r\n",
      "    x86_64-apple-darwin13.4.0-clang++ -bundle -undefined dynamic_lookup -Wl,-pie -Wl,-headerpad_max_install_names -Wl,-dead_strip_dylibs -Wl,-rpath,/Users/halledavis/opt/anaconda3/lib -L/Users/halledavis/opt/anaconda3/lib -L/Users/halledavis/opt/anaconda3/lib -Wl,-pie -Wl,-headerpad_max_install_names -Wl,-dead_strip_dylibs -Wl,-rpath,/Users/halledavis/opt/anaconda3/lib -L/Users/halledavis/opt/anaconda3/lib -Wl,-pie -Wl,-headerpad_max_install_names -Wl,-dead_strip_dylibs -Wl,-rpath,/Users/halledavis/opt/anaconda3/lib -L/Users/halledavis/opt/anaconda3/lib -march=core2 -mtune=haswell -mssse3 -ftree-vectorize -fPIC -fPIE -fstack-protector-strong -O2 -pipe -isystem /Users/halledavis/opt/anaconda3/include -D_FORTIFY_SOURCE=2 -isystem /Users/halledavis/opt/anaconda3/include -arch x86_64 build/temp.macosx-10.9-x86_64-3.9/src/checkdep_freetype2.o build/temp.macosx-10.9-x86_64-3.9/src/ft2font.o build/temp.macosx-10.9-x86_64-3.9/src/ft2font_wrapper.o build/temp.macosx-10.9-x86_64-3.9/src/mplutils.o build/temp.macosx-10.9-x86_64-3.9/src/py_converters.o -o build/lib.macosx-10.9-x86_64-3.9/matplotlib/ft2font.cpython-39-darwin.so -L/Users/halledavis/opt/anaconda3/lib -lfreetype\r\n",
      "    ld: warning: -pie being ignored. It is only used when linking a main executable\r\n",
      "    ld: unsupported tapi file type '!tapi-tbd' in YAML file '/Applications/Xcode.app/Contents/Developer/Platforms/MacOSX.platform/Developer/SDKs/MacOSX.sdk/usr/lib/libSystem.tbd' for architecture x86_64\r\n",
      "    clang-12: error: linker command failed with exit code 1 (use -v to see invocation)\r\n",
      "    error: command '/Users/halledavis/opt/anaconda3/bin/x86_64-apple-darwin13.4.0-clang++' failed with exit code 1\r\n",
      "    ----------------------------------------\u001b[0m\r\n",
      "\u001b[?25h  Rolling back uninstall of matplotlib\r\n",
      "  Moving to /Users/halledavis/opt/anaconda3/lib/python3.9/site-packages/__pycache__/pylab.cpython-39.pyc\r\n",
      "   from /private/var/folders/4w/bl1whnz1491dljnl9k34l06h0000gn/T/pip-uninstall-hof_akkv/pylab.cpython-39.pyc\r\n",
      "  Moving to /Users/halledavis/opt/anaconda3/lib/python3.9/site-packages/matplotlib-3.6.1-py3.9-nspkg.pth\r\n",
      "   from /private/var/folders/4w/bl1whnz1491dljnl9k34l06h0000gn/T/pip-uninstall-hvhnehjl/matplotlib-3.6.1-py3.9-nspkg.pth\r\n",
      "  Moving to /Users/halledavis/opt/anaconda3/lib/python3.9/site-packages/matplotlib-3.6.1.dist-info/\r\n",
      "   from /Users/halledavis/opt/anaconda3/lib/python3.9/site-packages/~atplotlib-3.6.1.dist-info\r\n",
      "  Moving to /Users/halledavis/opt/anaconda3/lib/python3.9/site-packages/matplotlib/\r\n",
      "   from /Users/halledavis/opt/anaconda3/lib/python3.9/site-packages/~-tplotlib\r\n",
      "  Moving to /Users/halledavis/opt/anaconda3/lib/python3.9/site-packages/mpl_toolkits/axes_grid1/\r\n",
      "   from /Users/halledavis/opt/anaconda3/lib/python3.9/site-packages/mpl_toolkits/~-es_grid1\r\n",
      "  Moving to /Users/halledavis/opt/anaconda3/lib/python3.9/site-packages/mpl_toolkits/axisartist/\r\n",
      "   from /Users/halledavis/opt/anaconda3/lib/python3.9/site-packages/mpl_toolkits/~-isartist\r\n",
      "  Moving to /Users/halledavis/opt/anaconda3/lib/python3.9/site-packages/mpl_toolkits/mplot3d/\r\n",
      "   from /Users/halledavis/opt/anaconda3/lib/python3.9/site-packages/mpl_toolkits/~-lot3d\r\n",
      "  Moving to /Users/halledavis/opt/anaconda3/lib/python3.9/site-packages/mpl_toolkits/tests/\r\n",
      "   from /Users/halledavis/opt/anaconda3/lib/python3.9/site-packages/mpl_toolkits/~-sts\r\n",
      "  Moving to /Users/halledavis/opt/anaconda3/lib/python3.9/site-packages/pylab.py\r\n",
      "   from /private/var/folders/4w/bl1whnz1491dljnl9k34l06h0000gn/T/pip-uninstall-hvhnehjl/pylab.py\r\n",
      "\u001b[31mERROR: Command errored out with exit status 1: /Users/halledavis/opt/anaconda3/bin/python -u -c 'import io, os, sys, setuptools, tokenize; sys.argv[0] = '\"'\"'/private/var/folders/4w/bl1whnz1491dljnl9k34l06h0000gn/T/pip-install-_7untfwz/matplotlib_1fc36d72c1804301b01eba39e7a25808/setup.py'\"'\"'; __file__='\"'\"'/private/var/folders/4w/bl1whnz1491dljnl9k34l06h0000gn/T/pip-install-_7untfwz/matplotlib_1fc36d72c1804301b01eba39e7a25808/setup.py'\"'\"';f = getattr(tokenize, '\"'\"'open'\"'\"', open)(__file__) if os.path.exists(__file__) else io.StringIO('\"'\"'from setuptools import setup; setup()'\"'\"');code = f.read().replace('\"'\"'\\r\\n'\"'\"', '\"'\"'\\n'\"'\"');f.close();exec(compile(code, __file__, '\"'\"'exec'\"'\"'))' install --record /private/var/folders/4w/bl1whnz1491dljnl9k34l06h0000gn/T/pip-record-mps5i8pc/install-record.txt --single-version-externally-managed --compile --install-headers /Users/halledavis/opt/anaconda3/include/python3.9/matplotlib Check the logs for full command output.\u001b[0m\r\n",
      "\u001b[33mWARNING: Ignoring invalid distribution -atplotlib (/Users/halledavis/opt/anaconda3/lib/python3.9/site-packages)\u001b[0m\r\n",
      "\u001b[33mWARNING: Ignoring invalid distribution -atplotlib (/Users/halledavis/opt/anaconda3/lib/python3.9/site-packages)\u001b[0m\r\n",
      "\u001b[33mWARNING: Ignoring invalid distribution -atplotlib (/Users/halledavis/opt/anaconda3/lib/python3.9/site-packages)\u001b[0m\r\n"
     ]
    },
    {
     "name": "stdout",
     "output_type": "stream",
     "text": [
      "\u001b[33mWARNING: Ignoring invalid distribution -atplotlib (/Users/halledavis/opt/anaconda3/lib/python3.9/site-packages)\u001b[0m\n",
      "\u001b[33mWARNING: Ignoring invalid distribution -atplotlib (/Users/halledavis/opt/anaconda3/lib/python3.9/site-packages)\u001b[0m\n",
      "Requirement already satisfied: imbalanced-learn in /Users/halledavis/opt/anaconda3/lib/python3.9/site-packages (0.9.1)\n",
      "Requirement already satisfied: numpy>=1.17.3 in /Users/halledavis/opt/anaconda3/lib/python3.9/site-packages (from imbalanced-learn) (1.20.3)\n",
      "Requirement already satisfied: threadpoolctl>=2.0.0 in /Users/halledavis/opt/anaconda3/lib/python3.9/site-packages (from imbalanced-learn) (2.2.0)\n",
      "Requirement already satisfied: scipy>=1.3.2 in /Users/halledavis/opt/anaconda3/lib/python3.9/site-packages (from imbalanced-learn) (1.7.1)\n",
      "Requirement already satisfied: scikit-learn>=1.1.0 in /Users/halledavis/opt/anaconda3/lib/python3.9/site-packages (from imbalanced-learn) (1.1.2)\n",
      "Requirement already satisfied: joblib>=1.0.0 in /Users/halledavis/opt/anaconda3/lib/python3.9/site-packages (from imbalanced-learn) (1.1.0)\n",
      "\u001b[33mWARNING: Ignoring invalid distribution -atplotlib (/Users/halledavis/opt/anaconda3/lib/python3.9/site-packages)\u001b[0m\n",
      "\u001b[33mWARNING: Ignoring invalid distribution -atplotlib (/Users/halledavis/opt/anaconda3/lib/python3.9/site-packages)\u001b[0m\n",
      "\u001b[33mWARNING: Ignoring invalid distribution -atplotlib (/Users/halledavis/opt/anaconda3/lib/python3.9/site-packages)\u001b[0m\n",
      "\u001b[33mWARNING: Ignoring invalid distribution -atplotlib (/Users/halledavis/opt/anaconda3/lib/python3.9/site-packages)\u001b[0m\n",
      "\u001b[33mWARNING: Ignoring invalid distribution -atplotlib (/Users/halledavis/opt/anaconda3/lib/python3.9/site-packages)\u001b[0m\n",
      "\u001b[33mWARNING: Ignoring invalid distribution -atplotlib (/Users/halledavis/opt/anaconda3/lib/python3.9/site-packages)\u001b[0m\n",
      "Requirement already satisfied: researchpy in /Users/halledavis/opt/anaconda3/lib/python3.9/site-packages (0.3.2)\n",
      "Requirement already satisfied: patsy in /Users/halledavis/opt/anaconda3/lib/python3.9/site-packages (from researchpy) (0.5.2)\n",
      "Requirement already satisfied: scipy in /Users/halledavis/opt/anaconda3/lib/python3.9/site-packages (from researchpy) (1.7.1)\n",
      "Requirement already satisfied: numpy in /Users/halledavis/opt/anaconda3/lib/python3.9/site-packages (from researchpy) (1.20.3)\n",
      "Requirement already satisfied: statsmodels in /Users/halledavis/opt/anaconda3/lib/python3.9/site-packages (from researchpy) (0.12.2)\n",
      "Requirement already satisfied: pandas in /Users/halledavis/opt/anaconda3/lib/python3.9/site-packages (from researchpy) (1.3.4)\n",
      "Requirement already satisfied: python-dateutil>=2.7.3 in /Users/halledavis/opt/anaconda3/lib/python3.9/site-packages (from pandas->researchpy) (2.8.2)\n",
      "Requirement already satisfied: pytz>=2017.3 in /Users/halledavis/opt/anaconda3/lib/python3.9/site-packages (from pandas->researchpy) (2021.3)\n",
      "Requirement already satisfied: six>=1.5 in /Users/halledavis/opt/anaconda3/lib/python3.9/site-packages (from python-dateutil>=2.7.3->pandas->researchpy) (1.16.0)\n",
      "\u001b[33mWARNING: Ignoring invalid distribution -atplotlib (/Users/halledavis/opt/anaconda3/lib/python3.9/site-packages)\u001b[0m\n",
      "\u001b[33mWARNING: Ignoring invalid distribution -atplotlib (/Users/halledavis/opt/anaconda3/lib/python3.9/site-packages)\u001b[0m\n",
      "\u001b[33mWARNING: Ignoring invalid distribution -atplotlib (/Users/halledavis/opt/anaconda3/lib/python3.9/site-packages)\u001b[0m\n",
      "\u001b[33mWARNING: Ignoring invalid distribution -atplotlib (/Users/halledavis/opt/anaconda3/lib/python3.9/site-packages)\u001b[0m\n",
      "\u001b[33mWARNING: Ignoring invalid distribution -atplotlib (/Users/halledavis/opt/anaconda3/lib/python3.9/site-packages)\u001b[0m\n",
      "\u001b[33mWARNING: Ignoring invalid distribution -atplotlib (/Users/halledavis/opt/anaconda3/lib/python3.9/site-packages)\u001b[0m\n",
      "Requirement already satisfied: termcolor in /Users/halledavis/opt/anaconda3/lib/python3.9/site-packages (1.1.0)\n",
      "\u001b[33mWARNING: Ignoring invalid distribution -atplotlib (/Users/halledavis/opt/anaconda3/lib/python3.9/site-packages)\u001b[0m\n",
      "\u001b[33mWARNING: Ignoring invalid distribution -atplotlib (/Users/halledavis/opt/anaconda3/lib/python3.9/site-packages)\u001b[0m\n",
      "\u001b[33mWARNING: Ignoring invalid distribution -atplotlib (/Users/halledavis/opt/anaconda3/lib/python3.9/site-packages)\u001b[0m\n",
      "\u001b[33mWARNING: Ignoring invalid distribution -atplotlib (/Users/halledavis/opt/anaconda3/lib/python3.9/site-packages)\u001b[0m\n",
      "\u001b[33mWARNING: Ignoring invalid distribution -atplotlib (/Users/halledavis/opt/anaconda3/lib/python3.9/site-packages)\u001b[0m\n",
      "\u001b[33mWARNING: Ignoring invalid distribution -atplotlib (/Users/halledavis/opt/anaconda3/lib/python3.9/site-packages)\u001b[0m\n",
      "Requirement already satisfied: scikit-plot in /Users/halledavis/opt/anaconda3/lib/python3.9/site-packages (0.3.7)\n",
      "Requirement already satisfied: matplotlib>=1.4.0 in /Users/halledavis/opt/anaconda3/lib/python3.9/site-packages (from scikit-plot) (3.6.1)\n",
      "Requirement already satisfied: scipy>=0.9 in /Users/halledavis/opt/anaconda3/lib/python3.9/site-packages (from scikit-plot) (1.7.1)\n",
      "Requirement already satisfied: scikit-learn>=0.18 in /Users/halledavis/opt/anaconda3/lib/python3.9/site-packages (from scikit-plot) (1.1.2)\n",
      "Requirement already satisfied: joblib>=0.10 in /Users/halledavis/opt/anaconda3/lib/python3.9/site-packages (from scikit-plot) (1.1.0)\n",
      "Requirement already satisfied: cycler>=0.10 in /Users/halledavis/opt/anaconda3/lib/python3.9/site-packages (from matplotlib>=1.4.0->scikit-plot) (0.10.0)\n",
      "Requirement already satisfied: packaging>=20.0 in /Users/halledavis/opt/anaconda3/lib/python3.9/site-packages (from matplotlib>=1.4.0->scikit-plot) (21.0)\n",
      "Requirement already satisfied: numpy>=1.19 in /Users/halledavis/opt/anaconda3/lib/python3.9/site-packages (from matplotlib>=1.4.0->scikit-plot) (1.20.3)\n",
      "Requirement already satisfied: kiwisolver>=1.0.1 in /Users/halledavis/opt/anaconda3/lib/python3.9/site-packages (from matplotlib>=1.4.0->scikit-plot) (1.3.1)\n",
      "Requirement already satisfied: python-dateutil>=2.7 in /Users/halledavis/opt/anaconda3/lib/python3.9/site-packages (from matplotlib>=1.4.0->scikit-plot) (2.8.2)\n",
      "Requirement already satisfied: pyparsing>=2.2.1 in /Users/halledavis/opt/anaconda3/lib/python3.9/site-packages (from matplotlib>=1.4.0->scikit-plot) (3.0.4)\n",
      "Requirement already satisfied: contourpy>=1.0.1 in /Users/halledavis/opt/anaconda3/lib/python3.9/site-packages (from matplotlib>=1.4.0->scikit-plot) (1.0.5)\n",
      "Requirement already satisfied: pillow>=6.2.0 in /Users/halledavis/opt/anaconda3/lib/python3.9/site-packages (from matplotlib>=1.4.0->scikit-plot) (8.4.0)\n",
      "Requirement already satisfied: fonttools>=4.22.0 in /Users/halledavis/opt/anaconda3/lib/python3.9/site-packages (from matplotlib>=1.4.0->scikit-plot) (4.25.0)\n",
      "Requirement already satisfied: six in /Users/halledavis/opt/anaconda3/lib/python3.9/site-packages (from cycler>=0.10->matplotlib>=1.4.0->scikit-plot) (1.16.0)\n",
      "Requirement already satisfied: threadpoolctl>=2.0.0 in /Users/halledavis/opt/anaconda3/lib/python3.9/site-packages (from scikit-learn>=0.18->scikit-plot) (2.2.0)\n",
      "\u001b[33mWARNING: Ignoring invalid distribution -atplotlib (/Users/halledavis/opt/anaconda3/lib/python3.9/site-packages)\u001b[0m\n",
      "\u001b[33mWARNING: Ignoring invalid distribution -atplotlib (/Users/halledavis/opt/anaconda3/lib/python3.9/site-packages)\u001b[0m\n",
      "\u001b[33mWARNING: Ignoring invalid distribution -atplotlib (/Users/halledavis/opt/anaconda3/lib/python3.9/site-packages)\u001b[0m\n",
      "\u001b[33mWARNING: Ignoring invalid distribution -atplotlib (/Users/halledavis/opt/anaconda3/lib/python3.9/site-packages)\u001b[0m\n",
      "\u001b[33mWARNING: Ignoring invalid distribution -atplotlib (/Users/halledavis/opt/anaconda3/lib/python3.9/site-packages)\u001b[0m\n",
      "\u001b[33mWARNING: Ignoring invalid distribution -atplotlib (/Users/halledavis/opt/anaconda3/lib/python3.9/site-packages)\u001b[0m\n",
      "Collecting missingno\n",
      "  Downloading missingno-0.5.1-py3-none-any.whl (8.7 kB)\n",
      "Requirement already satisfied: matplotlib in /Users/halledavis/opt/anaconda3/lib/python3.9/site-packages (from missingno) (3.6.1)\n",
      "Requirement already satisfied: seaborn in /Users/halledavis/opt/anaconda3/lib/python3.9/site-packages (from missingno) (0.11.2)\n",
      "Requirement already satisfied: numpy in /Users/halledavis/opt/anaconda3/lib/python3.9/site-packages (from missingno) (1.20.3)\n",
      "Requirement already satisfied: scipy in /Users/halledavis/opt/anaconda3/lib/python3.9/site-packages (from missingno) (1.7.1)\n",
      "Requirement already satisfied: packaging>=20.0 in /Users/halledavis/opt/anaconda3/lib/python3.9/site-packages (from matplotlib->missingno) (21.0)\n",
      "Requirement already satisfied: python-dateutil>=2.7 in /Users/halledavis/opt/anaconda3/lib/python3.9/site-packages (from matplotlib->missingno) (2.8.2)\n",
      "Requirement already satisfied: fonttools>=4.22.0 in /Users/halledavis/opt/anaconda3/lib/python3.9/site-packages (from matplotlib->missingno) (4.25.0)\n",
      "Requirement already satisfied: contourpy>=1.0.1 in /Users/halledavis/opt/anaconda3/lib/python3.9/site-packages (from matplotlib->missingno) (1.0.5)\n",
      "Requirement already satisfied: pillow>=6.2.0 in /Users/halledavis/opt/anaconda3/lib/python3.9/site-packages (from matplotlib->missingno) (8.4.0)\n",
      "Requirement already satisfied: kiwisolver>=1.0.1 in /Users/halledavis/opt/anaconda3/lib/python3.9/site-packages (from matplotlib->missingno) (1.3.1)\n",
      "Requirement already satisfied: pyparsing>=2.2.1 in /Users/halledavis/opt/anaconda3/lib/python3.9/site-packages (from matplotlib->missingno) (3.0.4)\n",
      "Requirement already satisfied: cycler>=0.10 in /Users/halledavis/opt/anaconda3/lib/python3.9/site-packages (from matplotlib->missingno) (0.10.0)\n"
     ]
    },
    {
     "name": "stdout",
     "output_type": "stream",
     "text": [
      "Requirement already satisfied: six in /Users/halledavis/opt/anaconda3/lib/python3.9/site-packages (from cycler>=0.10->matplotlib->missingno) (1.16.0)\n",
      "Requirement already satisfied: pandas>=0.23 in /Users/halledavis/opt/anaconda3/lib/python3.9/site-packages (from seaborn->missingno) (1.3.4)\n",
      "Requirement already satisfied: pytz>=2017.3 in /Users/halledavis/opt/anaconda3/lib/python3.9/site-packages (from pandas>=0.23->seaborn->missingno) (2021.3)\n",
      "\u001b[33mWARNING: Ignoring invalid distribution -atplotlib (/Users/halledavis/opt/anaconda3/lib/python3.9/site-packages)\u001b[0m\n",
      "Installing collected packages: missingno\n",
      "\u001b[33mWARNING: Ignoring invalid distribution -atplotlib (/Users/halledavis/opt/anaconda3/lib/python3.9/site-packages)\u001b[0m\n",
      "Successfully installed missingno-0.5.1\n",
      "\u001b[33mWARNING: Ignoring invalid distribution -atplotlib (/Users/halledavis/opt/anaconda3/lib/python3.9/site-packages)\u001b[0m\n",
      "\u001b[33mWARNING: Ignoring invalid distribution -atplotlib (/Users/halledavis/opt/anaconda3/lib/python3.9/site-packages)\u001b[0m\n",
      "\u001b[33mWARNING: Ignoring invalid distribution -atplotlib (/Users/halledavis/opt/anaconda3/lib/python3.9/site-packages)\u001b[0m\n"
     ]
    }
   ],
   "source": [
    "!pip install dmba\n",
    "!pip install matplotlib==3.1.3\n",
    "!pip install imbalanced-learn\n",
    "!pip install researchpy\n",
    "!pip install termcolor\n",
    "!pip install scikit-plot\n",
    "!pip install missingno"
   ]
  },
  {
   "cell_type": "code",
   "execution_count": 2,
   "metadata": {
    "colab": {
     "base_uri": "https://localhost:8080/"
    },
    "id": "hzCdUu94U6sA",
    "outputId": "fafe5d87-2fd2-4a11-95d0-350fab820255"
   },
   "outputs": [
    {
     "name": "stdout",
     "output_type": "stream",
     "text": [
      "no display found. Using non-interactive Agg backend\n"
     ]
    }
   ],
   "source": [
    "import numpy as np\n",
    "import pandas as pd\n",
    "# Turn off warning messages\n",
    "pd.options.mode.chained_assignment = None # default = 'warn'\n",
    "\n",
    "import matplotlib.pylab as plt\n",
    "import seaborn as sns\n",
    "\n",
    "from sklearn import preprocessing\n",
    "from sklearn import metrics\n",
    "from statsmodels.stats.outliers_influence import variance_inflation_factor\n",
    "from sklearn.model_selection import train_test_split, GridSearchCV\n",
    "from sklearn.metrics import accuracy_score, classification_report, confusion_matrix\n",
    "from sklearn.neighbors import NearestNeighbors, KNeighborsClassifier\n",
    "from sklearn.linear_model import LogisticRegression, LogisticRegressionCV\n",
    "from sklearn.tree import DecisionTreeClassifier, DecisionTreeRegressor\n",
    "from sklearn.ensemble import RandomForestClassifier, GradientBoostingClassifier\n",
    "from sklearn.impute import KNNImputer\n",
    "from sklearn.neural_network import MLPClassifier\n",
    "from sklearn.linear_model import LogisticRegressionCV\n",
    "import scikitplot as skplt\n",
    "\n",
    "import pydotplus\n",
    "import seaborn as sns\n",
    "import matplotlib.pyplot as plt\n",
    "import plotly.express as px\n",
    "import missingno as msno\n",
    "from termcolor import colored\n",
    "\n",
    "import researchpy as rp\n",
    "import math\n",
    "\n",
    "from sklearn.preprocessing import StandardScaler,LabelEncoder, Normalizer\n",
    "\n",
    "import scipy.special\n",
    "import scipy.stats as stats\n",
    "from scipy.stats import skew, kurtosis, shapiro\n",
    "\n",
    "\n",
    "import warnings\n",
    "warnings.filterwarnings('ignore')\n",
    "\n",
    "# Over sampling\n",
    "# !pip install imbalanced-learn\n",
    "from imblearn.over_sampling import RandomOverSampler\n",
    "\n",
    "#Book Authors package to gain access to datasets from book.\n",
    "import dmba\n",
    "from dmba import plotDecisionTree, gainsChart, liftChart, classificationSummary, regressionSummary, adjusted_r2_score, AIC_score, BIC_score\n",
    "from dmba.metric import AIC_score\n",
    "\n",
    "sns.set()\n",
    "%matplotlib inline"
   ]
  },
  {
   "cell_type": "markdown",
   "metadata": {},
   "source": [
    "### Import Data"
   ]
  },
  {
   "cell_type": "code",
   "execution_count": 3,
   "metadata": {
    "colab": {
     "base_uri": "https://localhost:8080/"
    },
    "id": "PZI-F_dOU3u-",
    "outputId": "b21d431e-8f4d-4d89-fe8c-d7980e7b8cb6"
   },
   "outputs": [
    {
     "ename": "ModuleNotFoundError",
     "evalue": "No module named 'google.colab'",
     "output_type": "error",
     "traceback": [
      "\u001b[0;31m---------------------------------------------------------------------------\u001b[0m",
      "\u001b[0;31mModuleNotFoundError\u001b[0m                       Traceback (most recent call last)",
      "\u001b[0;32m/var/folders/4w/bl1whnz1491dljnl9k34l06h0000gn/T/ipykernel_30952/1408506528.py\u001b[0m in \u001b[0;36m<module>\u001b[0;34m\u001b[0m\n\u001b[0;32m----> 1\u001b[0;31m \u001b[0;32mfrom\u001b[0m \u001b[0mgoogle\u001b[0m\u001b[0;34m.\u001b[0m\u001b[0mcolab\u001b[0m \u001b[0;32mimport\u001b[0m \u001b[0mdrive\u001b[0m\u001b[0;34m\u001b[0m\u001b[0;34m\u001b[0m\u001b[0m\n\u001b[0m\u001b[1;32m      2\u001b[0m \u001b[0mdrive\u001b[0m\u001b[0;34m.\u001b[0m\u001b[0mmount\u001b[0m\u001b[0;34m(\u001b[0m\u001b[0;34m'/content/drive'\u001b[0m\u001b[0;34m)\u001b[0m\u001b[0;34m\u001b[0m\u001b[0;34m\u001b[0m\u001b[0m\n",
      "\u001b[0;31mModuleNotFoundError\u001b[0m: No module named 'google.colab'"
     ]
    }
   ],
   "source": [
    "from google.colab import drive\n",
    "drive.mount('/content/drive')"
   ]
  },
  {
   "cell_type": "code",
   "execution_count": 4,
   "metadata": {
    "colab": {
     "base_uri": "https://localhost:8080/",
     "height": 511
    },
    "id": "3GKDS0MhU6vW",
    "outputId": "79435bb1-a3a7-43a6-dc8f-6c519286864c"
   },
   "outputs": [],
   "source": [
    "df = pd.read_csv('https://raw.githubusercontent.com/ADS-505-F22-Applied-Data-Sci-for-Biz/Final_Team_Project/main/Bank%20Customer%20Churn%20Prediction.csv')"
   ]
  },
  {
   "cell_type": "markdown",
   "metadata": {},
   "source": [
    "### Initial Peek into Data"
   ]
  },
  {
   "cell_type": "code",
   "execution_count": 5,
   "metadata": {},
   "outputs": [
    {
     "data": {
      "text/plain": [
       "(10000, 12)"
      ]
     },
     "execution_count": 5,
     "metadata": {},
     "output_type": "execute_result"
    }
   ],
   "source": [
    "df.shape\n",
    "\n",
    "#10,000 rows and 12 columns"
   ]
  },
  {
   "cell_type": "code",
   "execution_count": 6,
   "metadata": {},
   "outputs": [
    {
     "data": {
      "text/html": [
       "<div>\n",
       "<style scoped>\n",
       "    .dataframe tbody tr th:only-of-type {\n",
       "        vertical-align: middle;\n",
       "    }\n",
       "\n",
       "    .dataframe tbody tr th {\n",
       "        vertical-align: top;\n",
       "    }\n",
       "\n",
       "    .dataframe thead th {\n",
       "        text-align: right;\n",
       "    }\n",
       "</style>\n",
       "<table border=\"1\" class=\"dataframe\">\n",
       "  <thead>\n",
       "    <tr style=\"text-align: right;\">\n",
       "      <th></th>\n",
       "      <th>customer_id</th>\n",
       "      <th>credit_score</th>\n",
       "      <th>country</th>\n",
       "      <th>gender</th>\n",
       "      <th>age</th>\n",
       "      <th>tenure</th>\n",
       "      <th>balance</th>\n",
       "      <th>products_number</th>\n",
       "      <th>credit_card</th>\n",
       "      <th>active_member</th>\n",
       "      <th>estimated_salary</th>\n",
       "      <th>churn</th>\n",
       "    </tr>\n",
       "  </thead>\n",
       "  <tbody>\n",
       "    <tr>\n",
       "      <th>0</th>\n",
       "      <td>15634602</td>\n",
       "      <td>619</td>\n",
       "      <td>France</td>\n",
       "      <td>Female</td>\n",
       "      <td>42</td>\n",
       "      <td>2</td>\n",
       "      <td>0.00</td>\n",
       "      <td>1</td>\n",
       "      <td>1</td>\n",
       "      <td>1</td>\n",
       "      <td>101348.88</td>\n",
       "      <td>1</td>\n",
       "    </tr>\n",
       "    <tr>\n",
       "      <th>1</th>\n",
       "      <td>15647311</td>\n",
       "      <td>608</td>\n",
       "      <td>Spain</td>\n",
       "      <td>Female</td>\n",
       "      <td>41</td>\n",
       "      <td>1</td>\n",
       "      <td>83807.86</td>\n",
       "      <td>1</td>\n",
       "      <td>0</td>\n",
       "      <td>1</td>\n",
       "      <td>112542.58</td>\n",
       "      <td>0</td>\n",
       "    </tr>\n",
       "    <tr>\n",
       "      <th>2</th>\n",
       "      <td>15619304</td>\n",
       "      <td>502</td>\n",
       "      <td>France</td>\n",
       "      <td>Female</td>\n",
       "      <td>42</td>\n",
       "      <td>8</td>\n",
       "      <td>159660.80</td>\n",
       "      <td>3</td>\n",
       "      <td>1</td>\n",
       "      <td>0</td>\n",
       "      <td>113931.57</td>\n",
       "      <td>1</td>\n",
       "    </tr>\n",
       "    <tr>\n",
       "      <th>3</th>\n",
       "      <td>15701354</td>\n",
       "      <td>699</td>\n",
       "      <td>France</td>\n",
       "      <td>Female</td>\n",
       "      <td>39</td>\n",
       "      <td>1</td>\n",
       "      <td>0.00</td>\n",
       "      <td>2</td>\n",
       "      <td>0</td>\n",
       "      <td>0</td>\n",
       "      <td>93826.63</td>\n",
       "      <td>0</td>\n",
       "    </tr>\n",
       "    <tr>\n",
       "      <th>4</th>\n",
       "      <td>15737888</td>\n",
       "      <td>850</td>\n",
       "      <td>Spain</td>\n",
       "      <td>Female</td>\n",
       "      <td>43</td>\n",
       "      <td>2</td>\n",
       "      <td>125510.82</td>\n",
       "      <td>1</td>\n",
       "      <td>1</td>\n",
       "      <td>1</td>\n",
       "      <td>79084.10</td>\n",
       "      <td>0</td>\n",
       "    </tr>\n",
       "  </tbody>\n",
       "</table>\n",
       "</div>"
      ],
      "text/plain": [
       "   customer_id  credit_score country  gender  age  tenure    balance  \\\n",
       "0     15634602           619  France  Female   42       2       0.00   \n",
       "1     15647311           608   Spain  Female   41       1   83807.86   \n",
       "2     15619304           502  France  Female   42       8  159660.80   \n",
       "3     15701354           699  France  Female   39       1       0.00   \n",
       "4     15737888           850   Spain  Female   43       2  125510.82   \n",
       "\n",
       "   products_number  credit_card  active_member  estimated_salary  churn  \n",
       "0                1            1              1         101348.88      1  \n",
       "1                1            0              1         112542.58      0  \n",
       "2                3            1              0         113931.57      1  \n",
       "3                2            0              0          93826.63      0  \n",
       "4                1            1              1          79084.10      0  "
      ]
     },
     "execution_count": 6,
     "metadata": {},
     "output_type": "execute_result"
    }
   ],
   "source": [
    "df.head()"
   ]
  },
  {
   "cell_type": "code",
   "execution_count": 7,
   "metadata": {
    "colab": {
     "base_uri": "https://localhost:8080/",
     "height": 300
    },
    "id": "CQtpsF1-VScy",
    "outputId": "fe2f3e0e-9188-4cda-e820-600f69cdb1e9",
    "scrolled": true
   },
   "outputs": [
    {
     "data": {
      "text/html": [
       "<div>\n",
       "<style scoped>\n",
       "    .dataframe tbody tr th:only-of-type {\n",
       "        vertical-align: middle;\n",
       "    }\n",
       "\n",
       "    .dataframe tbody tr th {\n",
       "        vertical-align: top;\n",
       "    }\n",
       "\n",
       "    .dataframe thead th {\n",
       "        text-align: right;\n",
       "    }\n",
       "</style>\n",
       "<table border=\"1\" class=\"dataframe\">\n",
       "  <thead>\n",
       "    <tr style=\"text-align: right;\">\n",
       "      <th></th>\n",
       "      <th>customer_id</th>\n",
       "      <th>credit_score</th>\n",
       "      <th>country</th>\n",
       "      <th>gender</th>\n",
       "      <th>age</th>\n",
       "      <th>tenure</th>\n",
       "      <th>balance</th>\n",
       "      <th>products_number</th>\n",
       "      <th>credit_card</th>\n",
       "      <th>active_member</th>\n",
       "      <th>estimated_salary</th>\n",
       "      <th>churn</th>\n",
       "    </tr>\n",
       "  </thead>\n",
       "  <tbody>\n",
       "    <tr>\n",
       "      <th>count</th>\n",
       "      <td>1.000000e+04</td>\n",
       "      <td>10000.000000</td>\n",
       "      <td>10000</td>\n",
       "      <td>10000</td>\n",
       "      <td>10000.000000</td>\n",
       "      <td>10000.000000</td>\n",
       "      <td>10000.000000</td>\n",
       "      <td>10000.000000</td>\n",
       "      <td>10000.00000</td>\n",
       "      <td>10000.000000</td>\n",
       "      <td>10000.000000</td>\n",
       "      <td>10000.000000</td>\n",
       "    </tr>\n",
       "    <tr>\n",
       "      <th>unique</th>\n",
       "      <td>NaN</td>\n",
       "      <td>NaN</td>\n",
       "      <td>3</td>\n",
       "      <td>2</td>\n",
       "      <td>NaN</td>\n",
       "      <td>NaN</td>\n",
       "      <td>NaN</td>\n",
       "      <td>NaN</td>\n",
       "      <td>NaN</td>\n",
       "      <td>NaN</td>\n",
       "      <td>NaN</td>\n",
       "      <td>NaN</td>\n",
       "    </tr>\n",
       "    <tr>\n",
       "      <th>top</th>\n",
       "      <td>NaN</td>\n",
       "      <td>NaN</td>\n",
       "      <td>France</td>\n",
       "      <td>Male</td>\n",
       "      <td>NaN</td>\n",
       "      <td>NaN</td>\n",
       "      <td>NaN</td>\n",
       "      <td>NaN</td>\n",
       "      <td>NaN</td>\n",
       "      <td>NaN</td>\n",
       "      <td>NaN</td>\n",
       "      <td>NaN</td>\n",
       "    </tr>\n",
       "    <tr>\n",
       "      <th>freq</th>\n",
       "      <td>NaN</td>\n",
       "      <td>NaN</td>\n",
       "      <td>5014</td>\n",
       "      <td>5457</td>\n",
       "      <td>NaN</td>\n",
       "      <td>NaN</td>\n",
       "      <td>NaN</td>\n",
       "      <td>NaN</td>\n",
       "      <td>NaN</td>\n",
       "      <td>NaN</td>\n",
       "      <td>NaN</td>\n",
       "      <td>NaN</td>\n",
       "    </tr>\n",
       "    <tr>\n",
       "      <th>mean</th>\n",
       "      <td>1.569094e+07</td>\n",
       "      <td>650.528800</td>\n",
       "      <td>NaN</td>\n",
       "      <td>NaN</td>\n",
       "      <td>38.921800</td>\n",
       "      <td>5.012800</td>\n",
       "      <td>76485.889288</td>\n",
       "      <td>1.530200</td>\n",
       "      <td>0.70550</td>\n",
       "      <td>0.515100</td>\n",
       "      <td>100090.239881</td>\n",
       "      <td>0.203700</td>\n",
       "    </tr>\n",
       "    <tr>\n",
       "      <th>std</th>\n",
       "      <td>7.193619e+04</td>\n",
       "      <td>96.653299</td>\n",
       "      <td>NaN</td>\n",
       "      <td>NaN</td>\n",
       "      <td>10.487806</td>\n",
       "      <td>2.892174</td>\n",
       "      <td>62397.405202</td>\n",
       "      <td>0.581654</td>\n",
       "      <td>0.45584</td>\n",
       "      <td>0.499797</td>\n",
       "      <td>57510.492818</td>\n",
       "      <td>0.402769</td>\n",
       "    </tr>\n",
       "    <tr>\n",
       "      <th>min</th>\n",
       "      <td>1.556570e+07</td>\n",
       "      <td>350.000000</td>\n",
       "      <td>NaN</td>\n",
       "      <td>NaN</td>\n",
       "      <td>18.000000</td>\n",
       "      <td>0.000000</td>\n",
       "      <td>0.000000</td>\n",
       "      <td>1.000000</td>\n",
       "      <td>0.00000</td>\n",
       "      <td>0.000000</td>\n",
       "      <td>11.580000</td>\n",
       "      <td>0.000000</td>\n",
       "    </tr>\n",
       "    <tr>\n",
       "      <th>25%</th>\n",
       "      <td>1.562853e+07</td>\n",
       "      <td>584.000000</td>\n",
       "      <td>NaN</td>\n",
       "      <td>NaN</td>\n",
       "      <td>32.000000</td>\n",
       "      <td>3.000000</td>\n",
       "      <td>0.000000</td>\n",
       "      <td>1.000000</td>\n",
       "      <td>0.00000</td>\n",
       "      <td>0.000000</td>\n",
       "      <td>51002.110000</td>\n",
       "      <td>0.000000</td>\n",
       "    </tr>\n",
       "    <tr>\n",
       "      <th>50%</th>\n",
       "      <td>1.569074e+07</td>\n",
       "      <td>652.000000</td>\n",
       "      <td>NaN</td>\n",
       "      <td>NaN</td>\n",
       "      <td>37.000000</td>\n",
       "      <td>5.000000</td>\n",
       "      <td>97198.540000</td>\n",
       "      <td>1.000000</td>\n",
       "      <td>1.00000</td>\n",
       "      <td>1.000000</td>\n",
       "      <td>100193.915000</td>\n",
       "      <td>0.000000</td>\n",
       "    </tr>\n",
       "    <tr>\n",
       "      <th>75%</th>\n",
       "      <td>1.575323e+07</td>\n",
       "      <td>718.000000</td>\n",
       "      <td>NaN</td>\n",
       "      <td>NaN</td>\n",
       "      <td>44.000000</td>\n",
       "      <td>7.000000</td>\n",
       "      <td>127644.240000</td>\n",
       "      <td>2.000000</td>\n",
       "      <td>1.00000</td>\n",
       "      <td>1.000000</td>\n",
       "      <td>149388.247500</td>\n",
       "      <td>0.000000</td>\n",
       "    </tr>\n",
       "    <tr>\n",
       "      <th>max</th>\n",
       "      <td>1.581569e+07</td>\n",
       "      <td>850.000000</td>\n",
       "      <td>NaN</td>\n",
       "      <td>NaN</td>\n",
       "      <td>92.000000</td>\n",
       "      <td>10.000000</td>\n",
       "      <td>250898.090000</td>\n",
       "      <td>4.000000</td>\n",
       "      <td>1.00000</td>\n",
       "      <td>1.000000</td>\n",
       "      <td>199992.480000</td>\n",
       "      <td>1.000000</td>\n",
       "    </tr>\n",
       "  </tbody>\n",
       "</table>\n",
       "</div>"
      ],
      "text/plain": [
       "         customer_id  credit_score country gender           age        tenure  \\\n",
       "count   1.000000e+04  10000.000000   10000  10000  10000.000000  10000.000000   \n",
       "unique           NaN           NaN       3      2           NaN           NaN   \n",
       "top              NaN           NaN  France   Male           NaN           NaN   \n",
       "freq             NaN           NaN    5014   5457           NaN           NaN   \n",
       "mean    1.569094e+07    650.528800     NaN    NaN     38.921800      5.012800   \n",
       "std     7.193619e+04     96.653299     NaN    NaN     10.487806      2.892174   \n",
       "min     1.556570e+07    350.000000     NaN    NaN     18.000000      0.000000   \n",
       "25%     1.562853e+07    584.000000     NaN    NaN     32.000000      3.000000   \n",
       "50%     1.569074e+07    652.000000     NaN    NaN     37.000000      5.000000   \n",
       "75%     1.575323e+07    718.000000     NaN    NaN     44.000000      7.000000   \n",
       "max     1.581569e+07    850.000000     NaN    NaN     92.000000     10.000000   \n",
       "\n",
       "              balance  products_number  credit_card  active_member  \\\n",
       "count    10000.000000     10000.000000  10000.00000   10000.000000   \n",
       "unique            NaN              NaN          NaN            NaN   \n",
       "top               NaN              NaN          NaN            NaN   \n",
       "freq              NaN              NaN          NaN            NaN   \n",
       "mean     76485.889288         1.530200      0.70550       0.515100   \n",
       "std      62397.405202         0.581654      0.45584       0.499797   \n",
       "min          0.000000         1.000000      0.00000       0.000000   \n",
       "25%          0.000000         1.000000      0.00000       0.000000   \n",
       "50%      97198.540000         1.000000      1.00000       1.000000   \n",
       "75%     127644.240000         2.000000      1.00000       1.000000   \n",
       "max     250898.090000         4.000000      1.00000       1.000000   \n",
       "\n",
       "        estimated_salary         churn  \n",
       "count       10000.000000  10000.000000  \n",
       "unique               NaN           NaN  \n",
       "top                  NaN           NaN  \n",
       "freq                 NaN           NaN  \n",
       "mean       100090.239881      0.203700  \n",
       "std         57510.492818      0.402769  \n",
       "min            11.580000      0.000000  \n",
       "25%         51002.110000      0.000000  \n",
       "50%        100193.915000      0.000000  \n",
       "75%        149388.247500      0.000000  \n",
       "max        199992.480000      1.000000  "
      ]
     },
     "execution_count": 7,
     "metadata": {},
     "output_type": "execute_result"
    }
   ],
   "source": [
    "df.describe(include = 'all')"
   ]
  },
  {
   "cell_type": "code",
   "execution_count": 8,
   "metadata": {},
   "outputs": [
    {
     "name": "stdout",
     "output_type": "stream",
     "text": [
      "<class 'pandas.core.frame.DataFrame'>\n",
      "RangeIndex: 10000 entries, 0 to 9999\n",
      "Data columns (total 12 columns):\n",
      " #   Column            Non-Null Count  Dtype  \n",
      "---  ------            --------------  -----  \n",
      " 0   customer_id       10000 non-null  int64  \n",
      " 1   credit_score      10000 non-null  int64  \n",
      " 2   country           10000 non-null  object \n",
      " 3   gender            10000 non-null  object \n",
      " 4   age               10000 non-null  int64  \n",
      " 5   tenure            10000 non-null  int64  \n",
      " 6   balance           10000 non-null  float64\n",
      " 7   products_number   10000 non-null  int64  \n",
      " 8   credit_card       10000 non-null  int64  \n",
      " 9   active_member     10000 non-null  int64  \n",
      " 10  estimated_salary  10000 non-null  float64\n",
      " 11  churn             10000 non-null  int64  \n",
      "dtypes: float64(2), int64(8), object(2)\n",
      "memory usage: 937.6+ KB\n"
     ]
    }
   ],
   "source": [
    "df.info()"
   ]
  },
  {
   "cell_type": "markdown",
   "metadata": {},
   "source": [
    "### Dropping Irrelevant Columns (Pre-EDA)"
   ]
  },
  {
   "cell_type": "code",
   "execution_count": 9,
   "metadata": {},
   "outputs": [],
   "source": [
    "df = df.drop(['customer_id'], axis=1)\n",
    "\n",
    "# Customer ID doesn't teach us anything and, in fact, will lead to overfitting"
   ]
  },
  {
   "cell_type": "markdown",
   "metadata": {},
   "source": [
    "### Handling Nulls"
   ]
  },
  {
   "cell_type": "code",
   "execution_count": 10,
   "metadata": {
    "colab": {
     "base_uri": "https://localhost:8080/"
    },
    "id": "VyARfU-GhqEY",
    "outputId": "ad6e2c9d-8881-40f0-8cb8-e9153a1c868a"
   },
   "outputs": [
    {
     "name": "stdout",
     "output_type": "stream",
     "text": [
      "\n",
      "Missing Data:\n",
      "credit_score        0\n",
      "country             0\n",
      "gender              0\n",
      "age                 0\n",
      "tenure              0\n",
      "balance             0\n",
      "products_number     0\n",
      "credit_card         0\n",
      "active_member       0\n",
      "estimated_salary    0\n",
      "churn               0\n",
      "dtype: int64\n",
      "\n",
      "Total Missing Data: 0\n"
     ]
    }
   ],
   "source": [
    "print(f'\\nMissing Data:\\n{df.isnull().sum()}')\n",
    "\n",
    "print('\\nTotal Missing Data:', df.isnull().sum().sum())"
   ]
  },
  {
   "cell_type": "markdown",
   "metadata": {},
   "source": [
    "### Checking for Duplicates"
   ]
  },
  {
   "cell_type": "code",
   "execution_count": 11,
   "metadata": {},
   "outputs": [
    {
     "data": {
      "text/plain": [
       "0"
      ]
     },
     "execution_count": 11,
     "metadata": {},
     "output_type": "execute_result"
    }
   ],
   "source": [
    "df.duplicated().sum()"
   ]
  },
  {
   "cell_type": "markdown",
   "metadata": {},
   "source": [
    "### Update Data Types"
   ]
  },
  {
   "cell_type": "code",
   "execution_count": 12,
   "metadata": {},
   "outputs": [
    {
     "data": {
      "text/plain": [
       "credit_score          int64\n",
       "country              object\n",
       "gender               object\n",
       "age                   int64\n",
       "tenure                int64\n",
       "balance             float64\n",
       "products_number       int64\n",
       "credit_card           int64\n",
       "active_member         int64\n",
       "estimated_salary    float64\n",
       "churn                 int64\n",
       "dtype: object"
      ]
     },
     "execution_count": 12,
     "metadata": {},
     "output_type": "execute_result"
    }
   ],
   "source": [
    "df.dtypes\n",
    "\n",
    "#Credit Score is rightfully numeric\n",
    "#Country is rightfully categorical\n",
    "#Gender is rightfully categorical\n",
    "#Age is rightfully numeric\n",
    "#Tenure is rightfully numeric\n",
    "#Balance is rightfully numeric\n",
    "#Products_number is rightfully numeric\n",
    "#Credit_card is boolean\n",
    "#Active_member is boolean\n",
    "#Estimated salary is rightfully numeric\n",
    "#Churn is boolean"
   ]
  },
  {
   "cell_type": "code",
   "execution_count": 13,
   "metadata": {},
   "outputs": [],
   "source": [
    "df['credit_card'] = df['credit_card'].astype('bool')\n",
    "df['active_member'] = df['active_member'].astype('bool')\n",
    "df['churn'] = df['churn'].astype('bool')"
   ]
  },
  {
   "cell_type": "markdown",
   "metadata": {},
   "source": [
    "### Checking for Outliers"
   ]
  },
  {
   "cell_type": "code",
   "execution_count": 14,
   "metadata": {},
   "outputs": [
    {
     "name": "stdout",
     "output_type": "stream",
     "text": [
      "Number of Rows Not Outliers: 9568\n",
      "Number of Rows Outliers: 432\n"
     ]
    }
   ],
   "source": [
    "df_num = df.select_dtypes(include='number')\n",
    "cols = df_num.columns\n",
    "\n",
    "Q1 = df_num[cols].quantile(0.25)\n",
    "Q3 = df_num[cols].quantile(0.75)\n",
    "IQR = Q3 - Q1\n",
    "\n",
    "df_nooutliers = df_num[~((df_num[cols] < (Q1 - 1.5 * IQR)) |\n",
    "                           (df_num[cols] > (Q3 + 1.5 * IQR))).any(axis=1)]\n",
    "print(\"Number of Rows Not Outliers:\", df_nooutliers.shape[0])\n",
    "\n",
    "df_outliers = df_num[((df_num[cols] < (Q1 - 1.5 * IQR)) |\n",
    "                        (df_num[cols] > (Q3 + 1.5 * IQR))).any(axis=1)]\n",
    "print(\"Number of Rows Outliers:\", df_outliers.shape[0])"
   ]
  },
  {
   "cell_type": "code",
   "execution_count": 15,
   "metadata": {},
   "outputs": [
    {
     "data": {
      "text/html": [
       "<div>\n",
       "<style scoped>\n",
       "    .dataframe tbody tr th:only-of-type {\n",
       "        vertical-align: middle;\n",
       "    }\n",
       "\n",
       "    .dataframe tbody tr th {\n",
       "        vertical-align: top;\n",
       "    }\n",
       "\n",
       "    .dataframe thead th {\n",
       "        text-align: right;\n",
       "    }\n",
       "</style>\n",
       "<table border=\"1\" class=\"dataframe\">\n",
       "  <thead>\n",
       "    <tr style=\"text-align: right;\">\n",
       "      <th></th>\n",
       "      <th>credit_score</th>\n",
       "      <th>age</th>\n",
       "      <th>tenure</th>\n",
       "      <th>balance</th>\n",
       "      <th>products_number</th>\n",
       "      <th>estimated_salary</th>\n",
       "    </tr>\n",
       "  </thead>\n",
       "  <tbody>\n",
       "    <tr>\n",
       "      <th>count</th>\n",
       "      <td>432.000000</td>\n",
       "      <td>432.000000</td>\n",
       "      <td>432.000000</td>\n",
       "      <td>432.000000</td>\n",
       "      <td>432.000000</td>\n",
       "      <td>432.000000</td>\n",
       "    </tr>\n",
       "    <tr>\n",
       "      <th>mean</th>\n",
       "      <td>646.942130</td>\n",
       "      <td>65.189815</td>\n",
       "      <td>4.956019</td>\n",
       "      <td>77633.911713</td>\n",
       "      <td>1.844907</td>\n",
       "      <td>100002.868287</td>\n",
       "    </tr>\n",
       "    <tr>\n",
       "      <th>std</th>\n",
       "      <td>108.374785</td>\n",
       "      <td>10.801138</td>\n",
       "      <td>2.988829</td>\n",
       "      <td>62040.650326</td>\n",
       "      <td>1.017947</td>\n",
       "      <td>57299.780629</td>\n",
       "    </tr>\n",
       "    <tr>\n",
       "      <th>min</th>\n",
       "      <td>350.000000</td>\n",
       "      <td>28.000000</td>\n",
       "      <td>0.000000</td>\n",
       "      <td>0.000000</td>\n",
       "      <td>1.000000</td>\n",
       "      <td>502.700000</td>\n",
       "    </tr>\n",
       "    <tr>\n",
       "      <th>25%</th>\n",
       "      <td>586.750000</td>\n",
       "      <td>63.000000</td>\n",
       "      <td>2.000000</td>\n",
       "      <td>0.000000</td>\n",
       "      <td>1.000000</td>\n",
       "      <td>50654.832500</td>\n",
       "    </tr>\n",
       "    <tr>\n",
       "      <th>50%</th>\n",
       "      <td>652.000000</td>\n",
       "      <td>67.000000</td>\n",
       "      <td>5.000000</td>\n",
       "      <td>98807.015000</td>\n",
       "      <td>2.000000</td>\n",
       "      <td>102786.760000</td>\n",
       "    </tr>\n",
       "    <tr>\n",
       "      <th>75%</th>\n",
       "      <td>718.250000</td>\n",
       "      <td>71.000000</td>\n",
       "      <td>8.000000</td>\n",
       "      <td>128598.290000</td>\n",
       "      <td>2.000000</td>\n",
       "      <td>146654.085000</td>\n",
       "    </tr>\n",
       "    <tr>\n",
       "      <th>max</th>\n",
       "      <td>850.000000</td>\n",
       "      <td>92.000000</td>\n",
       "      <td>10.000000</td>\n",
       "      <td>195238.290000</td>\n",
       "      <td>4.000000</td>\n",
       "      <td>199493.380000</td>\n",
       "    </tr>\n",
       "  </tbody>\n",
       "</table>\n",
       "</div>"
      ],
      "text/plain": [
       "       credit_score         age      tenure        balance  products_number  \\\n",
       "count    432.000000  432.000000  432.000000     432.000000       432.000000   \n",
       "mean     646.942130   65.189815    4.956019   77633.911713         1.844907   \n",
       "std      108.374785   10.801138    2.988829   62040.650326         1.017947   \n",
       "min      350.000000   28.000000    0.000000       0.000000         1.000000   \n",
       "25%      586.750000   63.000000    2.000000       0.000000         1.000000   \n",
       "50%      652.000000   67.000000    5.000000   98807.015000         2.000000   \n",
       "75%      718.250000   71.000000    8.000000  128598.290000         2.000000   \n",
       "max      850.000000   92.000000   10.000000  195238.290000         4.000000   \n",
       "\n",
       "       estimated_salary  \n",
       "count        432.000000  \n",
       "mean      100002.868287  \n",
       "std        57299.780629  \n",
       "min          502.700000  \n",
       "25%        50654.832500  \n",
       "50%       102786.760000  \n",
       "75%       146654.085000  \n",
       "max       199493.380000  "
      ]
     },
     "execution_count": 15,
     "metadata": {},
     "output_type": "execute_result"
    }
   ],
   "source": [
    "df_outliers.describe()"
   ]
  },
  {
   "cell_type": "markdown",
   "metadata": {},
   "source": [
    "432 rows were identified as having outliers in them. That's less than 1 percent of the data.\n",
    "\n",
    "Examining those that are flagged as outliers: \n",
    "- Credit Score ranges from 350 to 850.\n",
    "- Age ranges from 28 to 92.\n",
    "- Balance ranges from 0 to nearly 200,000.\n",
    "- Products number ranges from 1 to 4. \n",
    "- Estimated salary ranges from 502 to 200,000.\n",
    "\n",
    "All of those seem like reasonable values to me-- someone can have a credit score of 850, someone can be 92, someone can have a $0 balance, etc.\n",
    "\n",
    "As a result, upon review, we will not remove or otherwise affect any outliers."
   ]
  },
  {
   "cell_type": "markdown",
   "metadata": {},
   "source": [
    "### Checking for Skew"
   ]
  },
  {
   "cell_type": "code",
   "execution_count": 16,
   "metadata": {
    "colab": {
     "base_uri": "https://localhost:8080/"
    },
    "id": "k0qKKji2rw5L",
    "outputId": "ce4b30a6-190a-4da0-cee8-91152d52c69b"
   },
   "outputs": [
    {
     "data": {
      "text/plain": [
       "credit_score       -0.071607\n",
       "age                 1.011320\n",
       "tenure              0.010991\n",
       "balance            -0.141109\n",
       "products_number     0.745568\n",
       "credit_card        -0.901812\n",
       "active_member      -0.060437\n",
       "estimated_salary    0.002085\n",
       "churn               1.471611\n",
       "dtype: float64"
      ]
     },
     "execution_count": 16,
     "metadata": {},
     "output_type": "execute_result"
    }
   ],
   "source": [
    "df.skew()"
   ]
  },
  {
   "cell_type": "markdown",
   "metadata": {},
   "source": [
    "## EDA"
   ]
  },
  {
   "cell_type": "markdown",
   "metadata": {},
   "source": [
    "### EDA: Numerical Variables"
   ]
  },
  {
   "cell_type": "code",
   "execution_count": 17,
   "metadata": {},
   "outputs": [],
   "source": [
    "df_num = df.select_dtypes(include='number')\n",
    "num_vars = ['credit_score', 'age', 'tenure', 'balance', 'products_number', 'estimated_salary']"
   ]
  },
  {
   "cell_type": "code",
   "execution_count": 18,
   "metadata": {},
   "outputs": [
    {
     "data": {
      "text/html": [
       "<div>\n",
       "<style scoped>\n",
       "    .dataframe tbody tr th:only-of-type {\n",
       "        vertical-align: middle;\n",
       "    }\n",
       "\n",
       "    .dataframe tbody tr th {\n",
       "        vertical-align: top;\n",
       "    }\n",
       "\n",
       "    .dataframe thead th {\n",
       "        text-align: right;\n",
       "    }\n",
       "</style>\n",
       "<table border=\"1\" class=\"dataframe\">\n",
       "  <thead>\n",
       "    <tr style=\"text-align: right;\">\n",
       "      <th></th>\n",
       "      <th>credit_score</th>\n",
       "      <th>age</th>\n",
       "      <th>tenure</th>\n",
       "      <th>balance</th>\n",
       "      <th>products_number</th>\n",
       "      <th>estimated_salary</th>\n",
       "    </tr>\n",
       "  </thead>\n",
       "  <tbody>\n",
       "    <tr>\n",
       "      <th>count</th>\n",
       "      <td>10000.000000</td>\n",
       "      <td>10000.000000</td>\n",
       "      <td>10000.000000</td>\n",
       "      <td>10000.000000</td>\n",
       "      <td>10000.000000</td>\n",
       "      <td>10000.000000</td>\n",
       "    </tr>\n",
       "    <tr>\n",
       "      <th>mean</th>\n",
       "      <td>650.528800</td>\n",
       "      <td>38.921800</td>\n",
       "      <td>5.012800</td>\n",
       "      <td>76485.889288</td>\n",
       "      <td>1.530200</td>\n",
       "      <td>100090.239881</td>\n",
       "    </tr>\n",
       "    <tr>\n",
       "      <th>std</th>\n",
       "      <td>96.653299</td>\n",
       "      <td>10.487806</td>\n",
       "      <td>2.892174</td>\n",
       "      <td>62397.405202</td>\n",
       "      <td>0.581654</td>\n",
       "      <td>57510.492818</td>\n",
       "    </tr>\n",
       "    <tr>\n",
       "      <th>min</th>\n",
       "      <td>350.000000</td>\n",
       "      <td>18.000000</td>\n",
       "      <td>0.000000</td>\n",
       "      <td>0.000000</td>\n",
       "      <td>1.000000</td>\n",
       "      <td>11.580000</td>\n",
       "    </tr>\n",
       "    <tr>\n",
       "      <th>25%</th>\n",
       "      <td>584.000000</td>\n",
       "      <td>32.000000</td>\n",
       "      <td>3.000000</td>\n",
       "      <td>0.000000</td>\n",
       "      <td>1.000000</td>\n",
       "      <td>51002.110000</td>\n",
       "    </tr>\n",
       "    <tr>\n",
       "      <th>50%</th>\n",
       "      <td>652.000000</td>\n",
       "      <td>37.000000</td>\n",
       "      <td>5.000000</td>\n",
       "      <td>97198.540000</td>\n",
       "      <td>1.000000</td>\n",
       "      <td>100193.915000</td>\n",
       "    </tr>\n",
       "    <tr>\n",
       "      <th>75%</th>\n",
       "      <td>718.000000</td>\n",
       "      <td>44.000000</td>\n",
       "      <td>7.000000</td>\n",
       "      <td>127644.240000</td>\n",
       "      <td>2.000000</td>\n",
       "      <td>149388.247500</td>\n",
       "    </tr>\n",
       "    <tr>\n",
       "      <th>max</th>\n",
       "      <td>850.000000</td>\n",
       "      <td>92.000000</td>\n",
       "      <td>10.000000</td>\n",
       "      <td>250898.090000</td>\n",
       "      <td>4.000000</td>\n",
       "      <td>199992.480000</td>\n",
       "    </tr>\n",
       "  </tbody>\n",
       "</table>\n",
       "</div>"
      ],
      "text/plain": [
       "       credit_score           age        tenure        balance  \\\n",
       "count  10000.000000  10000.000000  10000.000000   10000.000000   \n",
       "mean     650.528800     38.921800      5.012800   76485.889288   \n",
       "std       96.653299     10.487806      2.892174   62397.405202   \n",
       "min      350.000000     18.000000      0.000000       0.000000   \n",
       "25%      584.000000     32.000000      3.000000       0.000000   \n",
       "50%      652.000000     37.000000      5.000000   97198.540000   \n",
       "75%      718.000000     44.000000      7.000000  127644.240000   \n",
       "max      850.000000     92.000000     10.000000  250898.090000   \n",
       "\n",
       "       products_number  estimated_salary  \n",
       "count     10000.000000      10000.000000  \n",
       "mean          1.530200     100090.239881  \n",
       "std           0.581654      57510.492818  \n",
       "min           1.000000         11.580000  \n",
       "25%           1.000000      51002.110000  \n",
       "50%           1.000000     100193.915000  \n",
       "75%           2.000000     149388.247500  \n",
       "max           4.000000     199992.480000  "
      ]
     },
     "execution_count": 18,
     "metadata": {},
     "output_type": "execute_result"
    }
   ],
   "source": [
    "df_num.describe()"
   ]
  },
  {
   "cell_type": "code",
   "execution_count": 19,
   "metadata": {},
   "outputs": [
    {
     "data": {
      "image/png": "[encoded data removed]",
      "text/plain": [
       "<Figure size 432x288 with 1 Axes>"
      ]
     },
     "metadata": {
      "needs_background": "light"
     },
     "output_type": "display_data"
    },
    {
     "data": {
      "image/png": "[encoded data removed]",
      "text/plain": [
       "<Figure size 432x288 with 1 Axes>"
      ]
     },
     "metadata": {
      "needs_background": "light"
     },
     "output_type": "display_data"
    },
    {
     "data": {
      "image/png": "[encoded data removed]",
      "text/plain": [
       "<Figure size 432x288 with 1 Axes>"
      ]
     },
     "metadata": {
      "needs_background": "light"
     },
     "output_type": "display_data"
    },
    {
     "data": {
      "image/png": "[encoded data removed]",
      "text/plain": [
       "<Figure size 432x288 with 1 Axes>"
      ]
     },
     "metadata": {
      "needs_background": "light"
     },
     "output_type": "display_data"
    },
    {
     "data": {
      "image/png": "[encoded data removed]",
      "text/plain": [
       "<Figure size 432x288 with 1 Axes>"
      ]
     },
     "metadata": {
      "needs_background": "light"
     },
     "output_type": "display_data"
    },
    {
     "data": {
      "image/png": "[encoded data removed]",
      "text/plain": [
       "<Figure size 432x288 with 1 Axes>"
      ]
     },
     "metadata": {
      "needs_background": "light"
     },
     "output_type": "display_data"
    }
   ],
   "source": [
    "for i, col in enumerate(df_num.columns):\n",
    "    plt.figure(i)\n",
    "    sns.histplot(df_num[col]);"
   ]
  },
  {
   "cell_type": "markdown",
   "metadata": {},
   "source": [
    "Takeaways:\n",
    "- Credit score is a little left skewed, but generally symetric. A few outliers on the uper end.\n",
    "- Age is right skewed. Very few observations over 70.\n",
    "- Tenure generally looks uniform except at the extremes.\n",
    "- Balance generally looks normal and symetric, aside from the outlier amount of accounts with 0 balance.\n",
    "- Products number is generally right skewed, with most people having 1-2 products and few people having 3-4.\n",
    "- Estimated salary looks uniform."
   ]
  },
  {
   "cell_type": "markdown",
   "metadata": {},
   "source": [
    "### EDA: Categorical Variables"
   ]
  },
  {
   "cell_type": "code",
   "execution_count": 20,
   "metadata": {},
   "outputs": [],
   "source": [
    "df_cat = df.select_dtypes(exclude='number')\n",
    "cat_vars = ['country', 'gender', 'credit_card', 'active_member']"
   ]
  },
  {
   "cell_type": "code",
   "execution_count": 21,
   "metadata": {},
   "outputs": [
    {
     "name": "stdout",
     "output_type": "stream",
     "text": [
      "country          3\n",
      "gender           2\n",
      "credit_card      2\n",
      "active_member    2\n",
      "churn            2\n",
      "dtype: int64\n"
     ]
    }
   ],
   "source": [
    "unique_values = df_cat.nunique()\n",
    "print(unique_values)"
   ]
  },
  {
   "cell_type": "code",
   "execution_count": 22,
   "metadata": {},
   "outputs": [
    {
     "data": {
      "text/html": [
       "<div>\n",
       "<style scoped>\n",
       "    .dataframe tbody tr th:only-of-type {\n",
       "        vertical-align: middle;\n",
       "    }\n",
       "\n",
       "    .dataframe tbody tr th {\n",
       "        vertical-align: top;\n",
       "    }\n",
       "\n",
       "    .dataframe thead th {\n",
       "        text-align: right;\n",
       "    }\n",
       "</style>\n",
       "<table border=\"1\" class=\"dataframe\">\n",
       "  <thead>\n",
       "    <tr style=\"text-align: right;\">\n",
       "      <th></th>\n",
       "      <th>country</th>\n",
       "      <th>gender</th>\n",
       "      <th>credit_card</th>\n",
       "      <th>active_member</th>\n",
       "      <th>churn</th>\n",
       "    </tr>\n",
       "  </thead>\n",
       "  <tbody>\n",
       "    <tr>\n",
       "      <th>count</th>\n",
       "      <td>10000</td>\n",
       "      <td>10000</td>\n",
       "      <td>10000</td>\n",
       "      <td>10000</td>\n",
       "      <td>10000</td>\n",
       "    </tr>\n",
       "    <tr>\n",
       "      <th>unique</th>\n",
       "      <td>3</td>\n",
       "      <td>2</td>\n",
       "      <td>2</td>\n",
       "      <td>2</td>\n",
       "      <td>2</td>\n",
       "    </tr>\n",
       "    <tr>\n",
       "      <th>top</th>\n",
       "      <td>France</td>\n",
       "      <td>Male</td>\n",
       "      <td>True</td>\n",
       "      <td>True</td>\n",
       "      <td>False</td>\n",
       "    </tr>\n",
       "    <tr>\n",
       "      <th>freq</th>\n",
       "      <td>5014</td>\n",
       "      <td>5457</td>\n",
       "      <td>7055</td>\n",
       "      <td>5151</td>\n",
       "      <td>7963</td>\n",
       "    </tr>\n",
       "  </tbody>\n",
       "</table>\n",
       "</div>"
      ],
      "text/plain": [
       "       country gender credit_card active_member  churn\n",
       "count    10000  10000       10000         10000  10000\n",
       "unique       3      2           2             2      2\n",
       "top     France   Male        True          True  False\n",
       "freq      5014   5457        7055          5151   7963"
      ]
     },
     "execution_count": 22,
     "metadata": {},
     "output_type": "execute_result"
    }
   ],
   "source": [
    "df_cat.describe(include='all')"
   ]
  },
  {
   "cell_type": "code",
   "execution_count": 23,
   "metadata": {},
   "outputs": [
    {
     "data": {
      "text/plain": [
       "<AxesSubplot: >"
      ]
     },
     "execution_count": 23,
     "metadata": {},
     "output_type": "execute_result"
    },
    {
     "data": {
      "image/png": "[encoded data removed]",
      "text/plain": [
       "<Figure size 432x288 with 1 Axes>"
      ]
     },
     "metadata": {
      "needs_background": "light"
     },
     "output_type": "display_data"
    }
   ],
   "source": [
    "df.country.value_counts().sort_values().plot(kind = 'barh')"
   ]
  },
  {
   "cell_type": "code",
   "execution_count": 24,
   "metadata": {},
   "outputs": [
    {
     "data": {
      "text/plain": [
       "<AxesSubplot: >"
      ]
     },
     "execution_count": 24,
     "metadata": {},
     "output_type": "execute_result"
    },
    {
     "data": {
      "image/png": "[encoded data removed]",
      "text/plain": [
       "<Figure size 432x288 with 1 Axes>"
      ]
     },
     "metadata": {
      "needs_background": "light"
     },
     "output_type": "display_data"
    }
   ],
   "source": [
    "df.gender.value_counts().sort_values().plot(kind = 'barh')"
   ]
  },
  {
   "cell_type": "code",
   "execution_count": 25,
   "metadata": {},
   "outputs": [
    {
     "data": {
      "text/plain": [
       "<AxesSubplot: >"
      ]
     },
     "execution_count": 25,
     "metadata": {},
     "output_type": "execute_result"
    },
    {
     "data": {
      "image/png": "[encoded data removed]",
      "text/plain": [
       "<Figure size 432x288 with 1 Axes>"
      ]
     },
     "metadata": {
      "needs_background": "light"
     },
     "output_type": "display_data"
    }
   ],
   "source": [
    "df.credit_card.value_counts().sort_values().plot(kind = 'barh')"
   ]
  },
  {
   "cell_type": "code",
   "execution_count": 26,
   "metadata": {},
   "outputs": [
    {
     "data": {
      "text/plain": [
       "<AxesSubplot: >"
      ]
     },
     "execution_count": 26,
     "metadata": {},
     "output_type": "execute_result"
    },
    {
     "data": {
      "image/png": "[encoded data removed]",
      "text/plain": [
       "<Figure size 432x288 with 1 Axes>"
      ]
     },
     "metadata": {
      "needs_background": "light"
     },
     "output_type": "display_data"
    }
   ],
   "source": [
    "df.active_member.value_counts().sort_values().plot(kind = 'barh')"
   ]
  },
  {
   "cell_type": "code",
   "execution_count": 27,
   "metadata": {},
   "outputs": [
    {
     "data": {
      "text/plain": [
       "<AxesSubplot: >"
      ]
     },
     "execution_count": 27,
     "metadata": {},
     "output_type": "execute_result"
    },
    {
     "data": {
      "image/png": "[encoded data removed]",
      "text/plain": [
       "<Figure size 432x288 with 1 Axes>"
      ]
     },
     "metadata": {
      "needs_background": "light"
     },
     "output_type": "display_data"
    }
   ],
   "source": [
    "df.churn.value_counts().sort_values().plot(kind = 'barh')"
   ]
  },
  {
   "cell_type": "markdown",
   "metadata": {},
   "source": [
    "Takeaways\n",
    "- There are about twice as many people from France than as from Germany or Spain.\n",
    "- There are slightly more men than women in the dataset.\n",
    "- There are more than twice the amount of people with credit cards than without.\n",
    "- There are an equal number of members and non members in the dataset.\n",
    "- A majority of the dataset has not churned."
   ]
  },
  {
   "cell_type": "markdown",
   "metadata": {},
   "source": [
    "### EDA: Investigating Relationships between Dependent and Independent"
   ]
  },
  {
   "cell_type": "markdown",
   "metadata": {},
   "source": [
    "#### Dependent with Numerical Variables"
   ]
  },
  {
   "cell_type": "code",
   "execution_count": 28,
   "metadata": {
    "colab": {
     "base_uri": "https://localhost:8080/",
     "height": 596
    },
    "id": "AuWD5BDZt1xg",
    "outputId": "4df2a7e6-44d3-45f0-ff4b-c006090905de"
   },
   "outputs": [
    {
     "data": {
      "image/png": "[encoded data removed]",
      "text/plain": [
       "<Figure size 1440x720 with 2 Axes>"
      ]
     },
     "metadata": {
      "needs_background": "light"
     },
     "output_type": "display_data"
    }
   ],
   "source": [
    "#Correlation Plot\n",
    "plt.subplots(figsize=(20,10))\n",
    "sns.heatmap(df.corr(), annot = True, fmt = \".2f\", cmap = \"viridis\");"
   ]
  },
  {
   "cell_type": "code",
   "execution_count": 29,
   "metadata": {
    "colab": {
     "base_uri": "https://localhost:8080/",
     "height": 467
    },
    "id": "f5p7cDphuCIP",
    "outputId": "0b200b1b-a29d-4c75-9ef9-896b3e8c0999"
   },
   "outputs": [
    {
     "data": {
      "image/png": "[encoded data removed]",
      "text/plain": [
       "<Figure size 1080x432 with 1 Axes>"
      ]
     },
     "metadata": {
      "needs_background": "light"
     },
     "output_type": "display_data"
    }
   ],
   "source": [
    "#Correlation with Dependent Comparison\n",
    "corr = df.corr().churn\n",
    "plt.figure(figsize = (15,6))\n",
    "sns.barplot(x = corr[:-1].index, y = corr[:-1])\n",
    "plt.title(\"Corelation of features to churn\")\n",
    "plt.xticks(rotation=90);"
   ]
  },
  {
   "cell_type": "code",
   "execution_count": 30,
   "metadata": {
    "colab": {
     "base_uri": "https://localhost:8080/",
     "height": 143
    },
    "id": "uoBxHYrzeVfu",
    "outputId": "6e5d9ffd-2c9b-4427-abea-e70d5a9dde15"
   },
   "outputs": [
    {
     "data": {
      "text/html": [
       "<style type=\"text/css\">\n",
       "#T_6a787_row0_col0, #T_6a787_row0_col2, #T_6a787_row0_col4, #T_6a787_row0_col5, #T_6a787_row0_col6, #T_6a787_row1_col1, #T_6a787_row1_col3, #T_6a787_row1_col7 {\n",
       "  background-color: #ffffff;\n",
       "  color: #000000;\n",
       "}\n",
       "#T_6a787_row0_col1, #T_6a787_row0_col3, #T_6a787_row0_col7, #T_6a787_row1_col0, #T_6a787_row1_col2, #T_6a787_row1_col4, #T_6a787_row1_col5, #T_6a787_row1_col6 {\n",
       "  background-color: #008000;\n",
       "  color: #f1f1f1;\n",
       "}\n",
       "</style>\n",
       "<table id=\"T_6a787_\">\n",
       "  <thead>\n",
       "    <tr>\n",
       "      <th class=\"blank level0\" >&nbsp;</th>\n",
       "      <th class=\"col_heading level0 col0\" >credit_score</th>\n",
       "      <th class=\"col_heading level0 col1\" >age</th>\n",
       "      <th class=\"col_heading level0 col2\" >tenure</th>\n",
       "      <th class=\"col_heading level0 col3\" >balance</th>\n",
       "      <th class=\"col_heading level0 col4\" >products_number</th>\n",
       "      <th class=\"col_heading level0 col5\" >credit_card</th>\n",
       "      <th class=\"col_heading level0 col6\" >active_member</th>\n",
       "      <th class=\"col_heading level0 col7\" >estimated_salary</th>\n",
       "    </tr>\n",
       "    <tr>\n",
       "      <th class=\"index_name level0\" >churn</th>\n",
       "      <th class=\"blank col0\" >&nbsp;</th>\n",
       "      <th class=\"blank col1\" >&nbsp;</th>\n",
       "      <th class=\"blank col2\" >&nbsp;</th>\n",
       "      <th class=\"blank col3\" >&nbsp;</th>\n",
       "      <th class=\"blank col4\" >&nbsp;</th>\n",
       "      <th class=\"blank col5\" >&nbsp;</th>\n",
       "      <th class=\"blank col6\" >&nbsp;</th>\n",
       "      <th class=\"blank col7\" >&nbsp;</th>\n",
       "    </tr>\n",
       "  </thead>\n",
       "  <tbody>\n",
       "    <tr>\n",
       "      <th id=\"T_6a787_level0_row0\" class=\"row_heading level0 row0\" >False</th>\n",
       "      <td id=\"T_6a787_row0_col0\" class=\"data row0 col0\" >651.853196</td>\n",
       "      <td id=\"T_6a787_row0_col1\" class=\"data row0 col1\" >37.408389</td>\n",
       "      <td id=\"T_6a787_row0_col2\" class=\"data row0 col2\" >5.033279</td>\n",
       "      <td id=\"T_6a787_row0_col3\" class=\"data row0 col3\" >72745.296779</td>\n",
       "      <td id=\"T_6a787_row0_col4\" class=\"data row0 col4\" >1.544267</td>\n",
       "      <td id=\"T_6a787_row0_col5\" class=\"data row0 col5\" >0.707146</td>\n",
       "      <td id=\"T_6a787_row0_col6\" class=\"data row0 col6\" >0.554565</td>\n",
       "      <td id=\"T_6a787_row0_col7\" class=\"data row0 col7\" >99738.391772</td>\n",
       "    </tr>\n",
       "    <tr>\n",
       "      <th id=\"T_6a787_level0_row1\" class=\"row_heading level0 row1\" >True</th>\n",
       "      <td id=\"T_6a787_row1_col0\" class=\"data row1 col0\" >645.351497</td>\n",
       "      <td id=\"T_6a787_row1_col1\" class=\"data row1 col1\" >44.837997</td>\n",
       "      <td id=\"T_6a787_row1_col2\" class=\"data row1 col2\" >4.932744</td>\n",
       "      <td id=\"T_6a787_row1_col3\" class=\"data row1 col3\" >91108.539337</td>\n",
       "      <td id=\"T_6a787_row1_col4\" class=\"data row1 col4\" >1.475209</td>\n",
       "      <td id=\"T_6a787_row1_col5\" class=\"data row1 col5\" >0.699067</td>\n",
       "      <td id=\"T_6a787_row1_col6\" class=\"data row1 col6\" >0.360825</td>\n",
       "      <td id=\"T_6a787_row1_col7\" class=\"data row1 col7\" >101465.677531</td>\n",
       "    </tr>\n",
       "  </tbody>\n",
       "</table>\n"
      ],
      "text/plain": [
       "<pandas.io.formats.style.Styler at 0x7fb241923fd0>"
      ]
     },
     "execution_count": 30,
     "metadata": {},
     "output_type": "execute_result"
    }
   ],
   "source": [
    "#Averages by Churn Status\n",
    "features = df.keys()\n",
    "features = features.drop('churn')\n",
    "subsets = ['credit_score']\n",
    "df.groupby('churn')[features].mean().style.background_gradient(cmap = \"ocean\")"
   ]
  },
  {
   "cell_type": "code",
   "execution_count": 31,
   "metadata": {
    "colab": {
     "base_uri": "https://localhost:8080/",
     "height": 1000
    },
    "id": "yUitvIsof14L",
    "outputId": "0b8d78cb-68b4-4c6a-feb3-b02bc2a619be",
    "scrolled": true
   },
   "outputs": [
    {
     "data": {
      "image/png": "[encoded data removed]",
      "text/plain": [
       "<Figure size 1080x360 with 1 Axes>"
      ]
     },
     "metadata": {
      "needs_background": "light"
     },
     "output_type": "display_data"
    },
    {
     "data": {
      "image/png": "[encoded data removed]",
      "text/plain": [
       "<Figure size 1080x360 with 1 Axes>"
      ]
     },
     "metadata": {
      "needs_background": "light"
     },
     "output_type": "display_data"
    },
    {
     "data": {
      "image/png": "[encoded data removed]",
      "text/plain": [
       "<Figure size 1080x360 with 1 Axes>"
      ]
     },
     "metadata": {
      "needs_background": "light"
     },
     "output_type": "display_data"
    },
    {
     "data": {
      "image/png": "[encoded data removed]",
      "text/plain": [
       "<Figure size 1080x360 with 1 Axes>"
      ]
     },
     "metadata": {
      "needs_background": "light"
     },
     "output_type": "display_data"
    },
    {
     "data": {
      "image/png": "[encoded data removed]",
      "text/plain": [
       "<Figure size 1080x360 with 1 Axes>"
      ]
     },
     "metadata": {
      "needs_background": "light"
     },
     "output_type": "display_data"
    },
    {
     "data": {
      "image/png": "[encoded data removed]",
      "text/plain": [
       "<Figure size 1080x360 with 1 Axes>"
      ]
     },
     "metadata": {
      "needs_background": "light"
     },
     "output_type": "display_data"
    }
   ],
   "source": [
    "#Plot by Churn Status\n",
    "%matplotlib inline\n",
    "temp_df = df.copy()\n",
    "temp_df[\"churn_cat\"] = temp_df[\"churn\"].astype(\"category\")\n",
    "\n",
    "for col in num_vars:\n",
    "  plt.figure(figsize=(15,5))\n",
    "  ax = sns.boxplot(data = temp_df, x = col, y = 'churn_cat')\n",
    "  plt.show()"
   ]
  },
  {
   "cell_type": "code",
   "execution_count": 32,
   "metadata": {},
   "outputs": [
    {
     "name": "stdout",
     "output_type": "stream",
     "text": [
      "\u001b[1m\u001b[31mcredit_score\u001b[0m\n",
      "      Variable        N        Mean          SD        SE   95% Conf.  \\\n",
      "0      churned   2037.0  645.351497  100.321503  2.222790  640.992317   \n",
      "1  not churned   7963.0  651.853196   95.653837  1.071924  649.751944   \n",
      "2     combined  10000.0  650.528800   96.653299  0.966533  648.634201   \n",
      "\n",
      "     Interval  \n",
      "0  649.710678  \n",
      "1  653.954448  \n",
      "2  652.423399  \n",
      "\n",
      "\n",
      "Two Side T Test P Value: 0.0067\n",
      "\n",
      "\n",
      "\n",
      "\n",
      "\u001b[1m\u001b[31mage\u001b[0m\n",
      "      Variable        N       Mean         SD        SE  95% Conf.   Interval\n",
      "0      churned   2037.0  44.837997   9.761562  0.216284  44.413837  45.262157\n",
      "1  not churned   7963.0  37.408389  10.125363  0.113468  37.185962  37.630815\n",
      "2     combined  10000.0  38.921800  10.487806  0.104878  38.716218  39.127382\n",
      "\n",
      "\n",
      "Two Side T Test P Value: 0.0\n",
      "\n",
      "\n",
      "\n",
      "\n",
      "\u001b[1m\u001b[31mtenure\u001b[0m\n",
      "      Variable        N      Mean        SD        SE  95% Conf.  Interval\n",
      "0      churned   2037.0  4.932744  2.936106  0.065054   4.805164  5.060324\n",
      "1  not churned   7963.0  5.033279  2.880658  0.032281   4.969999  5.096559\n",
      "2     combined  10000.0  5.012800  2.892174  0.028922   4.956108  5.069492\n",
      "\n",
      "\n",
      "Two Side T Test P Value: 0.1615\n",
      "\n",
      "\n",
      "\n",
      "\n",
      "\u001b[1m\u001b[31mbalance\u001b[0m\n",
      "      Variable        N          Mean            SD           SE  \\\n",
      "0      churned   2037.0  91108.539337  58360.794816  1293.080860   \n",
      "1  not churned   7963.0  72745.296779  62848.040701   704.293021   \n",
      "2     combined  10000.0  76485.889288  62397.405202   623.974052   \n",
      "\n",
      "      95% Conf.      Interval  \n",
      "0  88572.639892  93644.438783  \n",
      "1  71364.697947  74125.895610  \n",
      "2  75262.774563  77709.004013  \n",
      "\n",
      "\n",
      "Two Side T Test P Value: 0.0\n",
      "\n",
      "\n",
      "\n",
      "\n",
      "\u001b[1m\u001b[31mproducts_number\u001b[0m\n",
      "      Variable        N      Mean        SD        SE  95% Conf.  Interval\n",
      "0      churned   2037.0  1.475209  0.801521  0.017759   1.440381  1.510036\n",
      "1  not churned   7963.0  1.544267  0.509536  0.005710   1.533074  1.555460\n",
      "2     combined  10000.0  1.530200  0.581654  0.005817   1.518798  1.541602\n",
      "\n",
      "\n",
      "Two Side T Test P Value: 0.0\n",
      "\n",
      "\n",
      "\n",
      "\n",
      "\u001b[1m\u001b[31mestimated_salary\u001b[0m\n",
      "      Variable        N           Mean            SD           SE  \\\n",
      "0      churned   2037.0  101465.677531  57912.418071  1283.146325   \n",
      "1  not churned   7963.0   99738.391772  57405.586966   643.303337   \n",
      "2     combined  10000.0  100090.239881  57510.492818   575.104928   \n",
      "\n",
      "      95% Conf.       Interval  \n",
      "0  98949.260999  103982.094062  \n",
      "1  98477.348700  100999.434843  \n",
      "2  98962.918474  101217.561288  \n",
      "\n",
      "\n",
      "Two Side T Test P Value: 0.2264\n",
      "\n",
      "\n",
      "\n",
      "\n"
     ]
    }
   ],
   "source": [
    "#T-Test of Significance\n",
    "for i, col in enumerate(df_num.columns):\n",
    "    summary, results = rp.ttest(group1= df[col][df['churn'] == 1], \n",
    "                                group1_name= \"churned\",\n",
    "                            group2= df[col][df['churn'] == 0], \n",
    "                            group2_name= \"not churned\")\n",
    "    print(colored(col, 'red', attrs=['bold']))\n",
    "    print(summary)\n",
    "    print(\"\\n\")\n",
    "    print(\"Two Side T Test P Value:\", results.iat[3,1])\n",
    "    print('\\n')\n",
    "    print('\\n')"
   ]
  },
  {
   "cell_type": "markdown",
   "metadata": {},
   "source": [
    "#### Dependent with Categorical Variables"
   ]
  },
  {
   "cell_type": "code",
   "execution_count": 33,
   "metadata": {},
   "outputs": [
    {
     "name": "stdout",
     "output_type": "stream",
     "text": [
      "\u001b[1m\u001b[31mcountry\u001b[0m\n",
      "                Chi-square test   results\n",
      "0  Pearson Chi-square ( 2.0) =   301.2553\n",
      "1                    p-value =     0.0000\n",
      "2                 Cramer's V =     0.1736\n",
      "\n",
      "\n",
      "\n",
      "\n",
      "\u001b[1m\u001b[31mgender\u001b[0m\n",
      "                Chi-square test   results\n",
      "0  Pearson Chi-square ( 1.0) =   113.4491\n",
      "1                    p-value =     0.0000\n",
      "2               Cramer's phi =     0.1065\n",
      "\n",
      "\n",
      "\n",
      "\n",
      "\u001b[1m\u001b[31mcredit_card\u001b[0m\n",
      "                Chi-square test  results\n",
      "0  Pearson Chi-square ( 1.0) =    0.5095\n",
      "1                    p-value =    0.4754\n",
      "2               Cramer's phi =    0.0071\n",
      "\n",
      "\n",
      "\n",
      "\n",
      "\u001b[1m\u001b[31mactive_member\u001b[0m\n",
      "                Chi-square test   results\n",
      "0  Pearson Chi-square ( 1.0) =   243.7604\n",
      "1                    p-value =     0.0000\n",
      "2               Cramer's phi =     0.1561\n",
      "\n",
      "\n",
      "\n",
      "\n",
      "\u001b[1m\u001b[31mchurn\u001b[0m\n",
      "                Chi-square test  results\n",
      "0  Pearson Chi-square ( 1.0) =   10000.0\n",
      "1                    p-value =       0.0\n",
      "2               Cramer's phi =       1.0\n",
      "\n",
      "\n",
      "\n",
      "\n"
     ]
    }
   ],
   "source": [
    "#Chi Square Test of Association\n",
    "for i, col in enumerate(df_cat.columns):\n",
    "    crosstab, test_results, expected = rp.crosstab(df[\"churn\"], df[col],\n",
    "                                               test= \"chi-square\",\n",
    "                                               expected_freqs= True,\n",
    "                                               prop= \"cell\")\n",
    "    print(colored(col, 'red', attrs=['bold']))\n",
    "    print(test_results)\n",
    "    print('\\n')\n",
    "    print('\\n')"
   ]
  },
  {
   "cell_type": "code",
   "execution_count": 34,
   "metadata": {
    "colab": {
     "base_uri": "https://localhost:8080/",
     "height": 1000
    },
    "id": "Qg0RxGIwgX9V",
    "outputId": "3853e5a4-7330-4fca-97d9-18822c4d6636"
   },
   "outputs": [
    {
     "data": {
      "image/png": "[encoded data removed]",
      "text/plain": [
       "<Figure size 1080x360 with 1 Axes>"
      ]
     },
     "metadata": {
      "needs_background": "light"
     },
     "output_type": "display_data"
    },
    {
     "data": {
      "image/png": "[encoded data removed]",
      "text/plain": [
       "<Figure size 1080x360 with 1 Axes>"
      ]
     },
     "metadata": {
      "needs_background": "light"
     },
     "output_type": "display_data"
    },
    {
     "data": {
      "image/png": "[encoded data removed]",
      "text/plain": [
       "<Figure size 1080x360 with 1 Axes>"
      ]
     },
     "metadata": {
      "needs_background": "light"
     },
     "output_type": "display_data"
    },
    {
     "data": {
      "image/png": "[encoded data removed]",
      "text/plain": [
       "<Figure size 1080x360 with 1 Axes>"
      ]
     },
     "metadata": {
      "needs_background": "light"
     },
     "output_type": "display_data"
    }
   ],
   "source": [
    "# Plot Category Data by Churn\n",
    "for col in cat_vars:\n",
    "  plt.figure(figsize=(15,5)) \n",
    "  ax = sns.countplot(data = df, x = col, hue = 'churn')\n",
    "  plt.show()"
   ]
  },
  {
   "cell_type": "code",
   "execution_count": 35,
   "metadata": {
    "colab": {
     "base_uri": "https://localhost:8080/"
    },
    "id": "DvO-9S0Iekgj",
    "outputId": "c8e54267-6f13-424a-8ad2-4462c5c5ba7e"
   },
   "outputs": [
    {
     "name": "stdout",
     "output_type": "stream",
     "text": [
      "Percent of French People Who Churned ---> 16.15476665337056 %\n",
      "Percent of German People Who Churned ---> 32.44320446392985 %\n",
      "Percent of Spanish People Who Churned ---> 16.67339523617279 %\n"
     ]
    }
   ],
   "source": [
    "churned_french = df.churn[(df.country == 'France') & (df.churn == 1)].count()\n",
    "count_french = df.churn[df.country == 'France'].count()\n",
    "print(\"Percent of French People Who Churned --->\", churned_french*100/count_french,'%')\n",
    "\n",
    "churned_german = df.churn[(df.country == 'Germany') & (df.churn == 1)].count()\n",
    "count_german = df.churn[(df.country == 'Germany')].count()\n",
    "print(\"Percent of German People Who Churned --->\", churned_german*100/count_german,\"%\")\n",
    "\n",
    "churned_spain = df.churn[(df.country == 'Spain') & (df.churn == 1)].count()\n",
    "count_spain = df.churn[(df.country == 'Spain')].count()\n",
    "print(\"Percent of Spanish People Who Churned --->\", churned_spain*100/count_spain,\"%\")"
   ]
  },
  {
   "cell_type": "code",
   "execution_count": 36,
   "metadata": {
    "colab": {
     "base_uri": "https://localhost:8080/"
    },
    "id": "ElRLuKPNhP74",
    "outputId": "96598ad8-0c3e-4b96-b3bf-11ca71d490f1",
    "scrolled": true
   },
   "outputs": [
    {
     "name": "stdout",
     "output_type": "stream",
     "text": [
      "******************\n",
      "Churn Balance:\n",
      "******************\n",
      "False    0.7963\n",
      "True     0.2037\n",
      "Name: churn, dtype: float64\n",
      "\n",
      "\n",
      "******************\n",
      "country split:\n",
      "******************\n",
      "   country  yes_counts  total_count  percent_yes\n",
      "0   France         810         5014     0.161548\n",
      "1  Germany         814         2509     0.324432\n",
      "2    Spain         413         2477     0.166734\n",
      "\n",
      "\n",
      "******************\n",
      "gender split:\n",
      "******************\n",
      "   gender  yes_counts  total_count  percent_yes\n",
      "0  Female        1139         4543     0.250715\n",
      "1    Male         898         5457     0.164559\n",
      "\n",
      "\n",
      "******************\n",
      "credit_card split:\n",
      "******************\n",
      "   credit_card  yes_counts  total_count  percent_yes\n",
      "0        False         613         2945     0.208149\n",
      "1         True        1424         7055     0.201843\n",
      "\n",
      "\n",
      "******************\n",
      "active_member split:\n",
      "******************\n",
      "   active_member  yes_counts  total_count  percent_yes\n",
      "0          False        1302         4849     0.268509\n",
      "1           True         735         5151     0.142691\n",
      "\n",
      "\n"
     ]
    }
   ],
   "source": [
    "print('******************')\n",
    "print('Churn Balance:')\n",
    "print('******************')\n",
    "print(df.churn.value_counts(dropna=False, normalize = True))\n",
    "print('\\n')\n",
    "for col in cat_vars:\n",
    "  print('******************')\n",
    "  print('{} split:'.format(col))\n",
    "  print('******************')\n",
    "  p1 = df[(df.churn == 1)].groupby(col).size().reset_index(name='yes_counts')\n",
    "  p2 = df.groupby(col).size().reset_index(name='total_counts')\n",
    "  p1['total_count'] = p2['total_counts']\n",
    "  p1['percent_yes'] = p1['yes_counts']/p2['total_counts']\n",
    "  print(p1)\n",
    "  print('\\n')"
   ]
  },
  {
   "cell_type": "markdown",
   "metadata": {},
   "source": [
    "## Final Prep"
   ]
  },
  {
   "cell_type": "markdown",
   "metadata": {},
   "source": [
    "### Categorical Encoding"
   ]
  },
  {
   "cell_type": "code",
   "execution_count": 37,
   "metadata": {
    "colab": {
     "base_uri": "https://localhost:8080/"
    },
    "id": "NGywW49OXUon",
    "outputId": "c59d29c9-ed38-49dc-d0f6-ddb963d03224"
   },
   "outputs": [],
   "source": [
    "# Create Instrumental / Dummy Variables\n",
    "# Function to Adjust DTypes to category types\n",
    "#def cat_types(df, columnName):\n",
    "#  df[columnName] = df[columnName].astype(\"category\")\n",
    "#  return columnName\n",
    "\n",
    "# List to Apply Function to.\n",
    "#dummy_predictors = ['country',\t'gender']\n",
    "\n",
    "# List Comphension:\n",
    "#[cat_types(df, i) for i in dummy_predictors]\n",
    "\n",
    "# Clean and create new dataframe:\n",
    "#temp = pd.get_dummies(df[dummy_predictors], drop_first=True)\n",
    "#new_df = pd.concat([df, temp], axis=1, join=\"inner\")\n",
    "#new_df = new_df.drop(['churn_cat','customer_id'] + dummy_predictors, axis=1)\n",
    "#print(new_df.columns)\n",
    "#print(new_df.shape)"
   ]
  },
  {
   "cell_type": "code",
   "execution_count": 38,
   "metadata": {},
   "outputs": [],
   "source": [
    "df = pd.get_dummies(df, columns=['country', 'gender'])\n",
    "df = df.drop(columns = ['gender_Female'])"
   ]
  },
  {
   "cell_type": "markdown",
   "metadata": {},
   "source": [
    "### Train, Test, Split"
   ]
  },
  {
   "cell_type": "code",
   "execution_count": 39,
   "metadata": {
    "id": "TxKA-bHZThhT"
   },
   "outputs": [],
   "source": [
    "X = df.drop(columns = ['churn']).copy()\n",
    "y = df['churn']\n",
    "X_train, X_test, y_train, y_test = train_test_split(X, y, test_size=0.4, random_state=12345)"
   ]
  },
  {
   "cell_type": "markdown",
   "metadata": {},
   "source": [
    "### Handle Correlated Features"
   ]
  },
  {
   "cell_type": "code",
   "execution_count": 42,
   "metadata": {},
   "outputs": [
    {
     "name": "stdout",
     "output_type": "stream",
     "text": [
      "            feature        VIF\n",
      "0      credit_score  19.442916\n",
      "1               age  12.020539\n",
      "2            tenure   3.850015\n",
      "3           balance   2.622428\n",
      "4   products_number   7.658841\n",
      "5  estimated_salary   3.882556\n"
     ]
    }
   ],
   "source": [
    "vif_data = pd.DataFrame()\n",
    "vif_data[\"feature\"] = df_num.columns\n",
    "vif_data[\"VIF\"] = [variance_inflation_factor(df_num.values, i) for i in range(len(df_num.columns))]\n",
    "print(vif_data)"
   ]
  },
  {
   "cell_type": "code",
   "execution_count": 43,
   "metadata": {},
   "outputs": [],
   "source": [
    "df_num_filtered = df_num.drop(['credit_score', 'age'], axis=1)"
   ]
  },
  {
   "cell_type": "code",
   "execution_count": 44,
   "metadata": {},
   "outputs": [
    {
     "name": "stdout",
     "output_type": "stream",
     "text": [
      "            feature       VIF\n",
      "0            tenure  3.364134\n",
      "1           balance  2.080228\n",
      "2   products_number  4.090687\n",
      "3  estimated_salary  3.424357\n"
     ]
    }
   ],
   "source": [
    "vif_data = pd.DataFrame()\n",
    "vif_data[\"feature\"] = df_num_filtered.columns\n",
    "vif_data[\"VIF\"] = [variance_inflation_factor(df_num_filtered.values, i) for i in range(len(df_num_filtered.columns))]\n",
    "print(vif_data)"
   ]
  },
  {
   "cell_type": "markdown",
   "metadata": {},
   "source": [
    "Credit score and age are highy correlated, so those will be removed for the relevant models."
   ]
  },
  {
   "cell_type": "code",
   "execution_count": 45,
   "metadata": {},
   "outputs": [],
   "source": [
    "X_train_filtered = X_train.drop(['credit_score', 'age'], axis=1)\n",
    "X_test_filtered = X_test.drop(['credit_score', 'age'], axis=1)"
   ]
  },
  {
   "cell_type": "markdown",
   "metadata": {},
   "source": [
    "### Center and Scale"
   ]
  },
  {
   "cell_type": "code",
   "execution_count": 46,
   "metadata": {},
   "outputs": [],
   "source": [
    "scaler = preprocessing.StandardScaler()\n",
    "scaler.fit(X_train)\n",
    "X_train_norm = scaler.transform(X_train)\n",
    "X_test_norm = scaler.transform(X_test)"
   ]
  },
  {
   "cell_type": "markdown",
   "metadata": {},
   "source": [
    "### Oversampling Strategy"
   ]
  },
  {
   "cell_type": "code",
   "execution_count": 47,
   "metadata": {},
   "outputs": [],
   "source": [
    "oversample = RandomOverSampler(sampling_strategy='minority')\n",
    "X_train_norm_os, y_train_os = oversample.fit_resample(X_train_norm, y_train)"
   ]
  },
  {
   "cell_type": "markdown",
   "metadata": {},
   "source": [
    "## Modeling"
   ]
  },
  {
   "cell_type": "markdown",
   "metadata": {
    "id": "6gbl79dkSfuY"
   },
   "source": [
    "### Gradient Boosting Classifier"
   ]
  },
  {
   "cell_type": "code",
   "execution_count": 48,
   "metadata": {
    "colab": {
     "base_uri": "https://localhost:8080/"
    },
    "id": "PfHaVsp6TiXj",
    "outputId": "538acd5c-2e6d-43e7-b52b-3ee3494d7f78"
   },
   "outputs": [
    {
     "data": {
      "text/html": [
       "<style>#sk-container-id-1 {color: black;background-color: white;}#sk-container-id-1 pre{padding: 0;}#sk-container-id-1 div.sk-toggleable {background-color: white;}#sk-container-id-1 label.sk-toggleable__label {cursor: pointer;display: block;width: 100%;margin-bottom: 0;padding: 0.3em;box-sizing: border-box;text-align: center;}#sk-container-id-1 label.sk-toggleable__label-arrow:before {content: \"▸\";float: left;margin-right: 0.25em;color: #696969;}#sk-container-id-1 label.sk-toggleable__label-arrow:hover:before {color: black;}#sk-container-id-1 div.sk-estimator:hover label.sk-toggleable__label-arrow:before {color: black;}#sk-container-id-1 div.sk-toggleable__content {max-height: 0;max-width: 0;overflow: hidden;text-align: left;background-color: #f0f8ff;}#sk-container-id-1 div.sk-toggleable__content pre {margin: 0.2em;color: black;border-radius: 0.25em;background-color: #f0f8ff;}#sk-container-id-1 input.sk-toggleable__control:checked~div.sk-toggleable__content {max-height: 200px;max-width: 100%;overflow: auto;}#sk-container-id-1 input.sk-toggleable__control:checked~label.sk-toggleable__label-arrow:before {content: \"▾\";}#sk-container-id-1 div.sk-estimator input.sk-toggleable__control:checked~label.sk-toggleable__label {background-color: #d4ebff;}#sk-container-id-1 div.sk-label input.sk-toggleable__control:checked~label.sk-toggleable__label {background-color: #d4ebff;}#sk-container-id-1 input.sk-hidden--visually {border: 0;clip: rect(1px 1px 1px 1px);clip: rect(1px, 1px, 1px, 1px);height: 1px;margin: -1px;overflow: hidden;padding: 0;position: absolute;width: 1px;}#sk-container-id-1 div.sk-estimator {font-family: monospace;background-color: #f0f8ff;border: 1px dotted black;border-radius: 0.25em;box-sizing: border-box;margin-bottom: 0.5em;}#sk-container-id-1 div.sk-estimator:hover {background-color: #d4ebff;}#sk-container-id-1 div.sk-parallel-item::after {content: \"\";width: 100%;border-bottom: 1px solid gray;flex-grow: 1;}#sk-container-id-1 div.sk-label:hover label.sk-toggleable__label {background-color: #d4ebff;}#sk-container-id-1 div.sk-serial::before {content: \"\";position: absolute;border-left: 1px solid gray;box-sizing: border-box;top: 0;bottom: 0;left: 50%;z-index: 0;}#sk-container-id-1 div.sk-serial {display: flex;flex-direction: column;align-items: center;background-color: white;padding-right: 0.2em;padding-left: 0.2em;position: relative;}#sk-container-id-1 div.sk-item {position: relative;z-index: 1;}#sk-container-id-1 div.sk-parallel {display: flex;align-items: stretch;justify-content: center;background-color: white;position: relative;}#sk-container-id-1 div.sk-item::before, #sk-container-id-1 div.sk-parallel-item::before {content: \"\";position: absolute;border-left: 1px solid gray;box-sizing: border-box;top: 0;bottom: 0;left: 50%;z-index: -1;}#sk-container-id-1 div.sk-parallel-item {display: flex;flex-direction: column;z-index: 1;position: relative;background-color: white;}#sk-container-id-1 div.sk-parallel-item:first-child::after {align-self: flex-end;width: 50%;}#sk-container-id-1 div.sk-parallel-item:last-child::after {align-self: flex-start;width: 50%;}#sk-container-id-1 div.sk-parallel-item:only-child::after {width: 0;}#sk-container-id-1 div.sk-dashed-wrapped {border: 1px dashed gray;margin: 0 0.4em 0.5em 0.4em;box-sizing: border-box;padding-bottom: 0.4em;background-color: white;}#sk-container-id-1 div.sk-label label {font-family: monospace;font-weight: bold;display: inline-block;line-height: 1.2em;}#sk-container-id-1 div.sk-label-container {text-align: center;}#sk-container-id-1 div.sk-container {/* jupyter's `normalize.less` sets `[hidden] { display: none; }` but bootstrap.min.css set `[hidden] { display: none !important; }` so we also need the `!important` here to be able to override the default hidden behavior on the sphinx rendered scikit-learn.org. See: https://github.com/scikit-learn/scikit-learn/issues/21755 */display: inline-block !important;position: relative;}#sk-container-id-1 div.sk-text-repr-fallback {display: none;}</style><div id=\"sk-container-id-1\" class=\"sk-top-container\"><div class=\"sk-text-repr-fallback\"><pre>StandardScaler()</pre><b>In a Jupyter environment, please rerun this cell to show the HTML representation or trust the notebook. <br />On GitHub, the HTML representation is unable to render, please try loading this page with nbviewer.org.</b></div><div class=\"sk-container\" hidden><div class=\"sk-item\"><div class=\"sk-estimator sk-toggleable\"><input class=\"sk-toggleable__control sk-hidden--visually\" id=\"sk-estimator-id-1\" type=\"checkbox\" checked><label for=\"sk-estimator-id-1\" class=\"sk-toggleable__label sk-toggleable__label-arrow\">StandardScaler</label><div class=\"sk-toggleable__content\"><pre>StandardScaler()</pre></div></div></div></div></div>"
      ],
      "text/plain": [
       "StandardScaler()"
      ]
     },
     "execution_count": 48,
     "metadata": {},
     "output_type": "execute_result"
    }
   ],
   "source": [
    "# separate target and predictors\n",
    "dependant_vars = ['credit_score', 'age', 'tenure', 'balance', 'credit_card', 'active_member', \n",
    "                  'estimated_salary', 'country_Germany', 'country_Spain', 'gender_Male', 'products_number']\n",
    "\n",
    "y = df['churn'].to_numpy()\n",
    "X = df[dependant_vars]\n",
    "\n",
    "# Standardize the dataset\n",
    "scaler = preprocessing.StandardScaler()\n",
    "scaler.fit(X * 1.0)"
   ]
  },
  {
   "cell_type": "code",
   "execution_count": 49,
   "metadata": {
    "id": "b21_wXy5TQ3u"
   },
   "outputs": [],
   "source": [
    "# Helper Functions:\n",
    "def confusionMatrices(model, title):\n",
    "  print('\\n'+'-'*20)\n",
    "  print(title + ' - training results\\n')\n",
    "  classificationSummary(y_train_os, model.predict(X_train_norm_os))\n",
    "  print('\\n'+'-'*20)\n",
    "  print(title + ' - validation results\\n')\n",
    "  valid_pred = model.predict(X_test_norm)\n",
    "  classificationSummary(y_test, valid_pred)\n",
    "\n",
    "def pred_results(model):\n",
    "  model_proba = model.predict_proba(X_test_norm)\n",
    "  pred_results = pd.DataFrame({'actual': y_test.astype(\"int64\"), \n",
    "                            'p(0)': [p[0] for p in model_proba],\n",
    "                            'p(1)': [p[1] for p in model_proba],\n",
    "                            'predicted': model.predict(X_test_norm)\n",
    "                          })\n",
    "  pred_results = pred_results.sort_values(by=['p(1)'], ascending=False)\n",
    "  return pred_results\n"
   ]
  },
  {
   "cell_type": "code",
   "execution_count": 50,
   "metadata": {
    "id": "tRgQADrKbz4t"
   },
   "outputs": [],
   "source": [
    "# # If I want to do hyperparameter Tuneing.\n",
    "# param_test2 = {'max_depth':range(5,16,2), \n",
    "#                'min_samples_split':range(200,1001,200), \n",
    "#                'learning_rate': [10e-2, 10e-3, 10e-4, 10e-5, 10e-6], \n",
    "#                'n_estimators':range(50,200,50),\n",
    "#                'criterion': ['friedman_mse', 'squared_error', 'mse'],\n",
    "#                'loss': ['log_loss', 'deviance', 'exponential']}\n",
    "# gsearch2 = GridSearchCV(estimator = GradientBoostingClassifier(learning_rate=0.1, n_estimators=60, max_features='sqrt', subsample=0.8, random_state=10), param_grid = param_test2, scoring='roc_auc',n_jobs=4, cv=5) # iid=False,\n",
    "# gsearch2.fit(X_train_norm_os, y_train_os)\n",
    "\n",
    "# gsearch2.best_estimator_, gsearch2.best_params_, gsearch2.best_score_, gsearch2.scorer_"
   ]
  },
  {
   "cell_type": "code",
   "execution_count": 51,
   "metadata": {
    "colab": {
     "base_uri": "https://localhost:8080/"
    },
    "id": "UBHMpCummigG",
    "outputId": "f5f99b3a-5868-4040-9e58-dd709a8a79e4",
    "scrolled": true
   },
   "outputs": [
    {
     "name": "stdout",
     "output_type": "stream",
     "text": [
      "\n",
      "--------------------\n",
      "Gradient Boosting Classifier - training results\n",
      "\n",
      "Confusion Matrix (Accuracy 0.8192)\n",
      "\n",
      "       Prediction\n",
      "Actual    0    1\n",
      "     0 4025  779\n",
      "     1  958 3846\n",
      "\n",
      "--------------------\n",
      "Gradient Boosting Classifier - validation results\n",
      "\n",
      "Confusion Matrix (Accuracy 0.7980)\n",
      "\n",
      "       Prediction\n",
      "Actual    0    1\n",
      "     0 2579  580\n",
      "     1  228  613\n"
     ]
    },
    {
     "ename": "TypeError",
     "evalue": "numpy boolean subtract, the `-` operator, is not supported, use the bitwise_xor, the `^` operator, or the logical_xor function instead.",
     "output_type": "error",
     "traceback": [
      "\u001b[0;31m---------------------------------------------------------------------------\u001b[0m",
      "\u001b[0;31mTypeError\u001b[0m                                 Traceback (most recent call last)",
      "\u001b[0;32m/var/folders/4w/bl1whnz1491dljnl9k34l06h0000gn/T/ipykernel_30952/3133192199.py\u001b[0m in \u001b[0;36m<module>\u001b[0;34m\u001b[0m\n\u001b[1;32m      3\u001b[0m \u001b[0mconfusionMatrices\u001b[0m\u001b[0;34m(\u001b[0m\u001b[0mgbm\u001b[0m\u001b[0;34m,\u001b[0m \u001b[0;34m'Gradient Boosting Classifier'\u001b[0m\u001b[0;34m)\u001b[0m\u001b[0;34m\u001b[0m\u001b[0;34m\u001b[0m\u001b[0m\n\u001b[1;32m      4\u001b[0m \u001b[0mgbm_result\u001b[0m \u001b[0;34m=\u001b[0m \u001b[0mpred_results\u001b[0m\u001b[0;34m(\u001b[0m\u001b[0mgbm\u001b[0m\u001b[0;34m)\u001b[0m\u001b[0;34m\u001b[0m\u001b[0;34m\u001b[0m\u001b[0m\n\u001b[0;32m----> 5\u001b[0;31m \u001b[0mprint\u001b[0m\u001b[0;34m(\u001b[0m\u001b[0;34m'\\nAIC'\u001b[0m\u001b[0;34m,\u001b[0m \u001b[0mAIC_score\u001b[0m\u001b[0;34m(\u001b[0m\u001b[0my_test\u001b[0m\u001b[0;34m,\u001b[0m \u001b[0mgbm\u001b[0m\u001b[0;34m.\u001b[0m\u001b[0mpredict\u001b[0m\u001b[0;34m(\u001b[0m\u001b[0mX_test_norm\u001b[0m\u001b[0;34m)\u001b[0m\u001b[0;34m,\u001b[0m \u001b[0mdf\u001b[0m\u001b[0;34m=\u001b[0m\u001b[0mlen\u001b[0m\u001b[0;34m(\u001b[0m\u001b[0mX\u001b[0m\u001b[0;34m.\u001b[0m\u001b[0mcolumns\u001b[0m\u001b[0;34m)\u001b[0m \u001b[0;34m+\u001b[0m \u001b[0;36m1\u001b[0m\u001b[0;34m)\u001b[0m\u001b[0;34m,\u001b[0m \u001b[0;34m'\\n'\u001b[0m\u001b[0;34m)\u001b[0m\u001b[0;34m\u001b[0m\u001b[0;34m\u001b[0m\u001b[0m\n\u001b[0m",
      "\u001b[0;32m~/opt/anaconda3/lib/python3.9/site-packages/dmba/metric.py\u001b[0m in \u001b[0;36mAIC_score\u001b[0;34m(y_true, y_pred, model, df)\u001b[0m\n\u001b[1;32m     40\u001b[0m     \u001b[0mn\u001b[0m \u001b[0;34m=\u001b[0m \u001b[0mlen\u001b[0m\u001b[0;34m(\u001b[0m\u001b[0my_pred\u001b[0m\u001b[0;34m)\u001b[0m\u001b[0;34m\u001b[0m\u001b[0;34m\u001b[0m\u001b[0m\n\u001b[1;32m     41\u001b[0m     \u001b[0mp\u001b[0m \u001b[0;34m=\u001b[0m \u001b[0mlen\u001b[0m\u001b[0;34m(\u001b[0m\u001b[0mmodel\u001b[0m\u001b[0;34m.\u001b[0m\u001b[0mcoef_\u001b[0m\u001b[0;34m)\u001b[0m \u001b[0;34m+\u001b[0m \u001b[0;36m1\u001b[0m \u001b[0;32mif\u001b[0m \u001b[0mdf\u001b[0m \u001b[0;32mis\u001b[0m \u001b[0;32mNone\u001b[0m \u001b[0;32melse\u001b[0m \u001b[0mdf\u001b[0m\u001b[0;34m\u001b[0m\u001b[0;34m\u001b[0m\u001b[0m\n\u001b[0;32m---> 42\u001b[0;31m     \u001b[0mresid\u001b[0m \u001b[0;34m=\u001b[0m \u001b[0mnp\u001b[0m\u001b[0;34m.\u001b[0m\u001b[0marray\u001b[0m\u001b[0;34m(\u001b[0m\u001b[0my_true\u001b[0m\u001b[0;34m)\u001b[0m \u001b[0;34m-\u001b[0m \u001b[0mnp\u001b[0m\u001b[0;34m.\u001b[0m\u001b[0marray\u001b[0m\u001b[0;34m(\u001b[0m\u001b[0my_pred\u001b[0m\u001b[0;34m)\u001b[0m\u001b[0;34m\u001b[0m\u001b[0;34m\u001b[0m\u001b[0m\n\u001b[0m\u001b[1;32m     43\u001b[0m     \u001b[0msse\u001b[0m \u001b[0;34m=\u001b[0m \u001b[0mnp\u001b[0m\u001b[0;34m.\u001b[0m\u001b[0msum\u001b[0m\u001b[0;34m(\u001b[0m\u001b[0mresid\u001b[0m \u001b[0;34m**\u001b[0m \u001b[0;36m2\u001b[0m\u001b[0;34m)\u001b[0m\u001b[0;34m\u001b[0m\u001b[0;34m\u001b[0m\u001b[0m\n\u001b[1;32m     44\u001b[0m     \u001b[0mconstant\u001b[0m \u001b[0;34m=\u001b[0m \u001b[0mn\u001b[0m \u001b[0;34m+\u001b[0m \u001b[0mn\u001b[0m \u001b[0;34m*\u001b[0m \u001b[0mnp\u001b[0m\u001b[0;34m.\u001b[0m\u001b[0mlog\u001b[0m\u001b[0;34m(\u001b[0m\u001b[0;36m2\u001b[0m \u001b[0;34m*\u001b[0m \u001b[0mnp\u001b[0m\u001b[0;34m.\u001b[0m\u001b[0mpi\u001b[0m\u001b[0;34m)\u001b[0m\u001b[0;34m\u001b[0m\u001b[0;34m\u001b[0m\u001b[0m\n",
      "\u001b[0;31mTypeError\u001b[0m: numpy boolean subtract, the `-` operator, is not supported, use the bitwise_xor, the `^` operator, or the logical_xor function instead."
     ]
    }
   ],
   "source": [
    "gbm = GradientBoostingClassifier()\n",
    "gbm.fit(X_train_norm_os, y_train_os)\n",
    "confusionMatrices(gbm, 'Gradient Boosting Classifier')\n",
    "gbm_result = pred_results(gbm)\n",
    "print('\\nAIC', AIC_score(y_test, gbm.predict(X_test_norm), df=len(X.columns) + 1), '\\n')"
   ]
  },
  {
   "cell_type": "markdown",
   "metadata": {
    "id": "0HPTLfUAU9Jj"
   },
   "source": [
    "### Random Forest"
   ]
  },
  {
   "cell_type": "code",
   "execution_count": 61,
   "metadata": {},
   "outputs": [
    {
     "name": "stdout",
     "output_type": "stream",
     "text": [
      "Confusion Matrix (Accuracy 0.8532)\n",
      "\n",
      "       Prediction\n",
      "Actual    0    1\n",
      "     0 3034  125\n",
      "     1  462  379\n"
     ]
    }
   ],
   "source": [
    "rf = RandomForestClassifier()\n",
    "rf.fit(X_train, y_train)\n",
    "\n",
    "pred = rf.predict(X_test)\n",
    "classificationSummary(y_test, pred)"
   ]
  },
  {
   "cell_type": "code",
   "execution_count": 62,
   "metadata": {
    "scrolled": true
   },
   "outputs": [
    {
     "name": "stdout",
     "output_type": "stream",
     "text": [
      "[[3034  125]\n",
      " [ 462  379]]\n",
      "85.32499999999999\n",
      "              precision    recall  f1-score   support\n",
      "\n",
      "       False       0.87      0.96      0.91      3159\n",
      "        True       0.75      0.45      0.56       841\n",
      "\n",
      "    accuracy                           0.85      4000\n",
      "   macro avg       0.81      0.71      0.74      4000\n",
      "weighted avg       0.84      0.85      0.84      4000\n",
      "\n"
     ]
    }
   ],
   "source": [
    "rf_pred = rf.predict(X_test)\n",
    "rf_cm = metrics.confusion_matrix(y_test, rf_pred)\n",
    "print(rf_cm)\n",
    "print(accuracy_score(y_test, rf_pred) * 100)\n",
    "print(classification_report(y_test, rf_pred))"
   ]
  },
  {
   "cell_type": "code",
   "execution_count": 63,
   "metadata": {},
   "outputs": [],
   "source": [
    "rf_prob = rf.predict_proba(X_test)"
   ]
  },
  {
   "cell_type": "code",
   "execution_count": 64,
   "metadata": {},
   "outputs": [],
   "source": [
    "rf_result = pd.DataFrame({'actual': y_test, \n",
    "                            'p0': [p[0] for p in rf_prob],\n",
    "                            'p1': [p[1] for p in rf_prob]})\n",
    "rf_result = rf_result.sort_values(by=['p1'], ascending=False)\n",
    "rf_result['predicted'] = np.where(rf_result['p1'] > .50, 1, 0)"
   ]
  },
  {
   "cell_type": "markdown",
   "metadata": {
    "id": "Sw4j_H89U_3C"
   },
   "source": [
    "### K-Nearest Neighbors"
   ]
  },
  {
   "cell_type": "code",
   "execution_count": 52,
   "metadata": {},
   "outputs": [
    {
     "name": "stdout",
     "output_type": "stream",
     "text": [
      "Accuracy by k\n"
     ]
    },
    {
     "data": {
      "text/html": [
       "<div>\n",
       "<style scoped>\n",
       "    .dataframe tbody tr th:only-of-type {\n",
       "        vertical-align: middle;\n",
       "    }\n",
       "\n",
       "    .dataframe tbody tr th {\n",
       "        vertical-align: top;\n",
       "    }\n",
       "\n",
       "    .dataframe thead th {\n",
       "        text-align: right;\n",
       "    }\n",
       "</style>\n",
       "<table border=\"1\" class=\"dataframe\">\n",
       "  <thead>\n",
       "    <tr style=\"text-align: right;\">\n",
       "      <th></th>\n",
       "      <th>k</th>\n",
       "      <th>accuracy</th>\n",
       "    </tr>\n",
       "  </thead>\n",
       "  <tbody>\n",
       "    <tr>\n",
       "      <th>0</th>\n",
       "      <td>1</td>\n",
       "      <td>0.79200</td>\n",
       "    </tr>\n",
       "    <tr>\n",
       "      <th>1</th>\n",
       "      <td>2</td>\n",
       "      <td>0.81700</td>\n",
       "    </tr>\n",
       "    <tr>\n",
       "      <th>2</th>\n",
       "      <td>3</td>\n",
       "      <td>0.81825</td>\n",
       "    </tr>\n",
       "    <tr>\n",
       "      <th>3</th>\n",
       "      <td>4</td>\n",
       "      <td>0.82025</td>\n",
       "    </tr>\n",
       "    <tr>\n",
       "      <th>4</th>\n",
       "      <td>5</td>\n",
       "      <td>0.82350</td>\n",
       "    </tr>\n",
       "    <tr>\n",
       "      <th>5</th>\n",
       "      <td>6</td>\n",
       "      <td>0.81975</td>\n",
       "    </tr>\n",
       "    <tr>\n",
       "      <th>6</th>\n",
       "      <td>7</td>\n",
       "      <td>0.82475</td>\n",
       "    </tr>\n",
       "    <tr>\n",
       "      <th>7</th>\n",
       "      <td>8</td>\n",
       "      <td>0.82550</td>\n",
       "    </tr>\n",
       "    <tr>\n",
       "      <th>8</th>\n",
       "      <td>9</td>\n",
       "      <td>0.82475</td>\n",
       "    </tr>\n",
       "    <tr>\n",
       "      <th>9</th>\n",
       "      <td>10</td>\n",
       "      <td>0.82200</td>\n",
       "    </tr>\n",
       "    <tr>\n",
       "      <th>10</th>\n",
       "      <td>11</td>\n",
       "      <td>0.82150</td>\n",
       "    </tr>\n",
       "  </tbody>\n",
       "</table>\n",
       "</div>"
      ],
      "text/plain": [
       "     k  accuracy\n",
       "0    1   0.79200\n",
       "1    2   0.81700\n",
       "2    3   0.81825\n",
       "3    4   0.82025\n",
       "4    5   0.82350\n",
       "5    6   0.81975\n",
       "6    7   0.82475\n",
       "7    8   0.82550\n",
       "8    9   0.82475\n",
       "9   10   0.82200\n",
       "10  11   0.82150"
      ]
     },
     "metadata": {},
     "output_type": "display_data"
    },
    {
     "data": {
      "image/png": "[encoded data removed]",
      "text/plain": [
       "<Figure size 432x288 with 1 Axes>"
      ]
     },
     "metadata": {
      "needs_background": "light"
     },
     "output_type": "display_data"
    }
   ],
   "source": [
    "results = []\n",
    "\n",
    "for k in range (1,12):\n",
    "    knn = KNeighborsClassifier(n_neighbors = k, weights = 'uniform').fit(X_train_norm, y_train)\n",
    "    results.append({\n",
    "        'k': k,\n",
    "        'accuracy': accuracy_score(y_test, knn.predict(X_test_norm))\n",
    "    })\n",
    "    \n",
    "results = pd.DataFrame(results)\n",
    "print('Accuracy by k')\n",
    "display(results)\n",
    "\n",
    "# show accuracy by k\n",
    "plt.plot(results.k, results.accuracy, linestyle=':', c='green')\n",
    "plt.title('K vs. Accuracy')\n",
    "plt.xlabel('K')\n",
    "plt.ylabel('Accuracy')\n",
    "\n",
    "noteworthy_points = results[results['accuracy'] >= .8]\n",
    "plt.scatter(noteworthy_points.k, noteworthy_points.accuracy, c='red', marker='*')\n",
    "\n",
    "plt.show()"
   ]
  },
  {
   "cell_type": "code",
   "execution_count": 53,
   "metadata": {},
   "outputs": [],
   "source": [
    "knn = KNeighborsClassifier(n_neighbors = 2, \n",
    "                            weights = 'uniform').fit(X_train_norm, \n",
    "                                                     y_train)"
   ]
  },
  {
   "cell_type": "code",
   "execution_count": 54,
   "metadata": {},
   "outputs": [
    {
     "name": "stdout",
     "output_type": "stream",
     "text": [
      "[[3061   98]\n",
      " [ 634  207]]\n",
      "81.69999999999999\n",
      "              precision    recall  f1-score   support\n",
      "\n",
      "       False       0.83      0.97      0.89      3159\n",
      "        True       0.68      0.25      0.36       841\n",
      "\n",
      "    accuracy                           0.82      4000\n",
      "   macro avg       0.75      0.61      0.63      4000\n",
      "weighted avg       0.80      0.82      0.78      4000\n",
      "\n"
     ]
    }
   ],
   "source": [
    "knn_pred = knn.predict(X_test_norm)\n",
    "knn_cm = metrics.confusion_matrix(y_test, knn_pred)\n",
    "print(knn_cm)\n",
    "print(accuracy_score(y_test, knn_pred) * 100)\n",
    "print(classification_report(y_test, knn_pred))"
   ]
  },
  {
   "cell_type": "code",
   "execution_count": 55,
   "metadata": {},
   "outputs": [],
   "source": [
    "knn_prob = knn.predict_proba(X_test_norm)"
   ]
  },
  {
   "cell_type": "code",
   "execution_count": 56,
   "metadata": {},
   "outputs": [],
   "source": [
    "knn_result = pd.DataFrame({'actual': y_test, \n",
    "                            'p0': [p[0] for p in knn_prob],\n",
    "                            'p1': [p[1] for p in knn_prob]})\n",
    "knn_result = knn_result.sort_values(by=['p1'], ascending=False)\n",
    "knn_result['predicted'] = np.where(knn_result['p1'] > .50, 1, 0)\n"
   ]
  },
  {
   "cell_type": "markdown",
   "metadata": {},
   "source": [
    "### Linear Discriminant Analysis"
   ]
  },
  {
   "cell_type": "code",
   "execution_count": 57,
   "metadata": {
    "colab": {
     "base_uri": "https://localhost:8080/"
    },
    "id": "jNgQS3TnVAGT",
    "outputId": "05eb3aab-d237-43e7-a2e7-004c10371391"
   },
   "outputs": [
    {
     "name": "stdout",
     "output_type": "stream",
     "text": [
      "\n",
      "--------------------\n",
      "LDA - training results\n",
      "\n",
      "Confusion Matrix (Accuracy 0.7076)\n",
      "\n",
      "       Prediction\n",
      "Actual    0    1\n",
      "     0 3462 1342\n",
      "     1 1467 3337\n",
      "\n",
      "--------------------\n",
      "LDA - validation results\n",
      "\n",
      "Confusion Matrix (Accuracy 0.7000)\n",
      "\n",
      "       Prediction\n",
      "Actual    0    1\n",
      "     0 2245  914\n",
      "     1  286  555\n"
     ]
    }
   ],
   "source": [
    "from sklearn.discriminant_analysis import LinearDiscriminantAnalysis\n",
    "lda_reg = LinearDiscriminantAnalysis()\n",
    "lda_reg.fit(X_train_norm_os, y_train_os)\n",
    "lda_result = pred_results(lda_reg)\n",
    "confusionMatrices (lda_reg, 'LDA')"
   ]
  },
  {
   "cell_type": "markdown",
   "metadata": {},
   "source": [
    "### Logistic Regression"
   ]
  },
  {
   "cell_type": "code",
   "execution_count": 58,
   "metadata": {
    "colab": {
     "base_uri": "https://localhost:8080/"
    },
    "id": "-u10QfRnVAQq",
    "outputId": "ca0d5ca9-1b6a-46a0-805d-fb7f92f57f75",
    "scrolled": true
   },
   "outputs": [
    {
     "name": "stdout",
     "output_type": "stream",
     "text": [
      "\n",
      "--------------------\n",
      "Logistic regression - training results\n",
      "\n",
      "Confusion Matrix (Accuracy 0.7084)\n",
      "\n",
      "       Prediction\n",
      "Actual    0    1\n",
      "     0 3439 1365\n",
      "     1 1437 3367\n",
      "\n",
      "--------------------\n",
      "Logistic regression - validation results\n",
      "\n",
      "Confusion Matrix (Accuracy 0.6975)\n",
      "\n",
      "       Prediction\n",
      "Actual    0    1\n",
      "     0 2230  929\n",
      "     1  281  560\n"
     ]
    }
   ],
   "source": [
    "logit_reg = LogisticRegression (penalty=\"l2\" , C=1e42, solver='liblinear' )\n",
    "logit_reg.fit(X_train_norm_os, y_train_os)\n",
    "lr_result = pred_results(logit_reg)\n",
    "confusionMatrices (logit_reg, 'Logistic regression')"
   ]
  },
  {
   "cell_type": "markdown",
   "metadata": {},
   "source": [
    "### Naive Bayes"
   ]
  },
  {
   "cell_type": "code",
   "execution_count": 59,
   "metadata": {
    "colab": {
     "base_uri": "https://localhost:8080/"
    },
    "id": "g4Qqm-q57NF1",
    "outputId": "ed46985f-f9eb-4a8d-9f04-9677841d8b3d",
    "scrolled": true
   },
   "outputs": [
    {
     "name": "stdout",
     "output_type": "stream",
     "text": [
      "\n",
      "--------------------\n",
      "Naive Bayes - training results\n",
      "\n",
      "Confusion Matrix (Accuracy 0.7133)\n",
      "\n",
      "       Prediction\n",
      "Actual    0    1\n",
      "     0 3586 1218\n",
      "     1 1537 3267\n",
      "\n",
      "--------------------\n",
      "Naive Bayes - validation results\n",
      "\n",
      "Confusion Matrix (Accuracy 0.7105)\n",
      "\n",
      "       Prediction\n",
      "Actual    0    1\n",
      "     0 2306  853\n",
      "     1  305  536\n"
     ]
    }
   ],
   "source": [
    "from sklearn.naive_bayes import GaussianNB\n",
    "naive_bayes = GaussianNB()\n",
    "naive_bayes.fit(X_train_norm_os, y_train_os)\n",
    "nb_result = pred_results(naive_bayes)\n",
    "confusionMatrices (naive_bayes, 'Naive Bayes')\n",
    "\n",
    "# Possible overfitting to the validation set here? May not be doing this model correctly, fine by me to remove."
   ]
  },
  {
   "cell_type": "markdown",
   "metadata": {},
   "source": [
    "## Results"
   ]
  },
  {
   "cell_type": "code",
   "execution_count": 65,
   "metadata": {
    "colab": {
     "base_uri": "https://localhost:8080/",
     "height": 621
    },
    "id": "62D4eg9-Spdg",
    "outputId": "d6ad8d8a-d603-4f15-b80a-b752a68dda27"
   },
   "outputs": [
    {
     "data": {
      "image/png": "[encoded data removed]",
      "text/plain": [
       "<Figure size 720x720 with 1 Axes>"
      ]
     },
     "metadata": {
      "needs_background": "light"
     },
     "output_type": "display_data"
    }
   ],
   "source": [
    "ax = gainsChart(gbm_result.actual, label='Gradient Boosting Classifier', color='C0', figsize=[10, 10])\n",
    "ax = gainsChart(rf_result.actual, label='Random Forest', color='C1', ax=ax)\n",
    "ax = gainsChart(knn_result.actual, label='K-Nearest Neighbors', color='C2', ax=ax)\n",
    "ax = gainsChart(lda_result.actual, label='Linear Discriminant Analysis', color='C3', ax=ax)\n",
    "ax = gainsChart(lr_result.actual, label='Logistic Regression', color='C4', ax=ax)\n",
    "ax = gainsChart(nb_result.actual, label='Naive Bayes', color='C5', ax=ax)\n",
    "ax.legend()\n",
    "ax.set_title('Model Comparisons')\n",
    "\n",
    "plt.show()"
   ]
  }
 ],
 "metadata": {
  "colab": {
   "include_colab_link": true,
   "provenance": []
  },
  "kernelspec": {
   "display_name": "Python 3 (ipykernel)",
   "language": "python",
   "name": "python3"
  },
  "language_info": {
   "codemirror_mode": {
    "name": "ipython",
    "version": 3
   },
   "file_extension": ".py",
   "mimetype": "text/x-python",
   "name": "python",
   "nbconvert_exporter": "python",
   "pygments_lexer": "ipython3",
   "version": "3.9.7"
  }
 },
 "nbformat": 4,
 "nbformat_minor": 1
}
